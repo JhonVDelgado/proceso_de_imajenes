{
 "cells": [
  {
   "cell_type": "code",
   "execution_count": 1,
   "id": "6b671a53",
   "metadata": {
    "pycharm": {
     "name": "#%%\n"
    }
   },
   "outputs": [
    {
     "name": "stdout",
     "output_type": "stream",
     "text": [
      "['test', 'train', '__MACOSX']\n"
     ]
    }
   ],
   "source": [
    "import os\n",
    "print(os.listdir(\"C:/Users/botnet/Downloads/Homework/CarneDataset\"))\n"
   ]
  },
  {
   "cell_type": "code",
   "execution_count": 11,
   "id": "2cc639b2",
   "metadata": {
    "pycharm": {
     "name": "#%%\n"
    }
   },
   "outputs": [
    {
     "name": "stdout",
     "output_type": "stream",
     "text": [
      "['.DS_Store', 'CLASS_01', 'CLASS_02', 'CLASS_03', 'CLASS_04', 'CLASS_05', 'CLASS_06', 'CLASS_07', 'CLASS_08']\n"
     ]
    },
    {
     "ename": "ModuleNotFoundError",
     "evalue": "No module named 'tensorflow_datasets'",
     "output_type": "error",
     "traceback": [
      "\u001b[1;31m---------------------------------------------------------------------------\u001b[0m",
      "\u001b[1;31mModuleNotFoundError\u001b[0m                       Traceback (most recent call last)",
      "Input \u001b[1;32mIn [11]\u001b[0m, in \u001b[0;36m<cell line: 4>\u001b[1;34m()\u001b[0m\n\u001b[0;32m      2\u001b[0m \u001b[38;5;28mprint\u001b[39m(os\u001b[38;5;241m.\u001b[39mlistdir(\u001b[38;5;124m\"\u001b[39m\u001b[38;5;124mC:/Users/botnet/Downloads/Homework/CarneDataset/train\u001b[39m\u001b[38;5;124m\"\u001b[39m))\n\u001b[0;32m      3\u001b[0m \u001b[38;5;28;01mimport\u001b[39;00m \u001b[38;5;21;01mtensorflow\u001b[39;00m \u001b[38;5;28;01mas\u001b[39;00m \u001b[38;5;21;01mtf\u001b[39;00m\n\u001b[1;32m----> 4\u001b[0m \u001b[38;5;28;01mimport\u001b[39;00m \u001b[38;5;21;01mtensorflow_datasets\u001b[39;00m \u001b[38;5;28;01mas\u001b[39;00m \u001b[38;5;21;01mtfds\u001b[39;00m\n\u001b[0;32m      5\u001b[0m datos\u001b[38;5;241m.\u001b[39m metadatos \u001b[38;5;241m=\u001b[39m tdfs\u001b[38;5;241m.\u001b[39mload (\u001b[38;5;124m\"\u001b[39m\u001b[38;5;124mC:/Users/botnet/Downloads/Homework/CarneDataset/train\u001b[39m\u001b[38;5;124m\"\u001b[39m, as_supervised\u001b[38;5;241m=\u001b[39m\u001b[38;5;28;01mTrue\u001b[39;00m, with_info\u001b[38;5;241m=\u001b[39m\u001b[38;5;28;01mTrue\u001b[39;00m)\n\u001b[0;32m      6\u001b[0m metadatos\n",
      "\u001b[1;31mModuleNotFoundError\u001b[0m: No module named 'tensorflow_datasets'"
     ]
    }
   ],
   "source": [
    "import os\n",
    "print(os.listdir(\"C:/Users/botnet/Downloads/Homework/CarneDataset/train\"))\n",
    "import tensorflow as tf\n",
    "import tensorflow_datasets as tfds\n",
    "datos. metadatos = tdfs.load (\"C:/Users/botnet/Downloads/Homework/CarneDataset/train\", as_supervised=True, with_info=True)\n",
    "metadatos\n",
    "import matplotlib.pyplot as plt\n",
    "for i, (image, etiqueta) in enumerate(data['train'].take(2)):\n",
    "  plt.imshow(image)"
   ]
  },
  {
   "cell_type": "code",
   "execution_count": null,
   "id": "5d962578",
   "metadata": {
    "pycharm": {
     "name": "#%%\n"
    }
   },
   "outputs": [],
   "source": [
    "from PIL import Image\n",
    "import numpy as np\n",
    "\n",
    "im = np.array(Image.open('C:/Users/botnet/Downloads/Homework/CarneDataset/train/CLASS_02/Carneroja.png'))\n",
    "\n",
    "im_R = im.copy()\n",
    "im_R[:, :, (1, 2)] = 0\n",
    "im_G = im.copy()\n",
    "im_G[:, :, (0, 2)] = 0\n",
    "im_B = im.copy()\n",
    "im_B[:, :, (0, 1)] = 0\n",
    "\n",
    "im_RGB = np.concatenate((im_R, im_G, im_B), axis=1)\n",
    "\n",
    "pil_img = Image.fromarray(im_RGB)\n",
    "pil_img.save('carneprocesada.jpg')"
   ]
  },
  {
   "cell_type": "code",
   "execution_count": null,
   "id": "c1d4798e",
   "metadata": {
    "pycharm": {
     "name": "#%%\n"
    }
   },
   "outputs": [],
   "source": [
    "from PIL import Image\n",
    "import numpy as np\n",
    "\n",
    "im = np.array(Image.open('C:/Users/botnet/Downloads/Homework/CarneDataset/train/CLASS_02/Carneroja.png'))\n",
    "\n",
    "im_R = im.copy()\n",
    "im_R[:, :, (1, 2)] = 0\n",
    "im_G = im.copy()\n",
    "im_G[:, :, (0, 2)] = 0\n",
    "im_B = im.copy()\n",
    "im_B[:, :, (0, 1)] = 0\n",
    "\n",
    "im_RGB = np.concatenate((im_R, im_G, im_B), axis=1)\n",
    "\n",
    "pil_img = Image.fromarray(im_RGB)\n",
    "pil_img.save('Carneroja1.png')"
   ]
  },
  {
   "cell_type": "code",
   "execution_count": null,
   "id": "096c8105",
   "metadata": {
    "pycharm": {
     "name": "#%%\n"
    }
   },
   "outputs": [],
   "source": [
    "from PIL import Image\n",
    "import numpy as np\n",
    "\n",
    "im = np.array(Image.open('C:/Users/botnet/Downloads/Homework/CarneDataset/train/CLASS_02/Carneroja.png'))\n",
    "\n",
    "im_R = im.copy()\n",
    "im_R[:, :, (1, 2)] = 0\n",
    "im_G = im.copy()\n",
    "im_G[:, :, (0, 2)] = 0\n",
    "im_B = im.copy()\n",
    "im_B[:, :, (0, 1)] = 0\n",
    "\n",
    "im_RGB = np.concatenate((im_R, im_G, im_B), axis=1)\n",
    "\n",
    "pil_img = Image.fromarray(im_RGB)\n",
    "pil_img.save('Carneroja1.png')"
   ]
  },
  {
   "cell_type": "code",
   "execution_count": null,
   "id": "638de7ce",
   "metadata": {
    "pycharm": {
     "name": "#%%\n"
    }
   },
   "outputs": [],
   "source": [
    "from PIL import Image\n",
    "import numpy as np\n",
    "from matplotlib import pyplot as plt"
   ]
  },
  {
   "cell_type": "code",
   "execution_count": null,
   "id": "fff719ca",
   "metadata": {
    "pycharm": {
     "name": "#%%\n"
    }
   },
   "outputs": [],
   "source": [
    "im = Image.open('C:/Users/botnet/Downloads/Homework/CarneDataset/train/CLASS_02/Carneroja.png')\n",
    "print(im.format)\n",
    "print(im.size)\n",
    "print(im.mode)\n",
    "im\n"
   ]
  },
  {
   "cell_type": "code",
   "execution_count": null,
   "id": "3efb1b66",
   "metadata": {
    "pycharm": {
     "name": "#%%\n"
    }
   },
   "outputs": [],
   "source": [
    "foto = Image.open('C:/Users/botnet/Downloads/Homework/CarneDataset/train/CLASS_02/Carneroja.png')\n",
    "foto\n",
    "foto_gris = foto.convert('L')\n",
    "foto_gris\n"
   ]
  },
  {
   "cell_type": "code",
   "execution_count": null,
   "id": "22c891fe",
   "metadata": {
    "pycharm": {
     "name": "#%%\n"
    }
   },
   "outputs": [],
   "source": [
    "image_directory = 'C:/Users/botnet/Downloads/Homework/CarneDataset/train/CLASS_02';\n",
    "from pathlib import Path\n",
    "from PIL import Image\n",
    "import matplotlib.pyplot as plt\n",
    "#import im.img_qc as img_qc\n",
    "%matplotlib inline\n",
    "# parameters for matplotlib to increase our default figure size -- NOTE: figure sizes are in INCHES\n",
    "plt.rcParams[\"figure.figsize\"] = (100,100) # set as needed for your screen and eyes\n",
    "# on a high-dpi monitor this will increase the quality of plots on-screen\n",
    "%config InlineBackend.figure_format = 'retina'\n",
    "# get image_paths for PNG images\n",
    "image_paths = Path(image_directory).glob('*.png')\n",
    "image_paths\n",
    "# get image_paths list\n",
    "image_paths_list = list(image_paths)\n",
    "image_paths_list\n",
    "# try to get sorted image_paths list\n",
    "image_paths_list = sorted(image_paths)\n",
    "image_paths_list\n",
    "# get image_paths for TIFF images\n",
    "image_paths = Path(image_directory).glob('*.png')\n",
    "image_paths_list = sorted(image_paths)\n",
    "image_paths_list\n",
    "# open first image in our list\n",
    "image = Image.open(image_paths_list[0]) # list slicing\n",
    "# show image\n",
    "plt.imshow(image)\n",
    "\n"
   ]
  },
  {
   "cell_type": "code",
   "execution_count": null,
   "id": "fb0e541e",
   "metadata": {
    "pycharm": {
     "name": "#%%\n"
    }
   },
   "outputs": [],
   "source": [
    "from matplotlib.pyplot import subplot, imshow, title\n",
    "from matplotlib.image import imread\n",
    "\n",
    "# Importing the image\n",
    "I = imread(\"C:/Users/botnet/Downloads/Homework/CarneDataset/train/CLASS_02/Carneroja.png\");\n",
    "subplot(2, 3, 1),\n",
    "imshow(I);\n",
    "title(\"Original image\");\n",
    "\n",
    "% Dilated Image\n",
    "\n",
    "def strel(param, param1, param2):\n",
    "    pass\n",
    "\n",
    "\n",
    "se = strel(\"line\", 7, 7);\n",
    "\n",
    "\n",
    "def imdilate(I, se):\n",
    "    pass\n",
    "\n",
    "\n",
    "dilate = imdilate(I, se);\n",
    "subplot(2, 3, 2),\n",
    "imshow(dilate);\n",
    "title(\"Dilated image\");"
   ]
  },
  {
   "cell_type": "code",
   "execution_count": 25,
   "id": "a226b726",
   "metadata": {
    "pycharm": {
     "name": "#%%\n"
    }
   },
   "outputs": [
    {
     "ename": "OSError",
     "evalue": "[Errno 22] Invalid argument: './C:/Users/botnet/Downloads/Homework/CarneDataset/train1.csv'",
     "output_type": "error",
     "traceback": [
      "\u001b[1;31m---------------------------------------------------------------------------\u001b[0m",
      "\u001b[1;31mOSError\u001b[0m                                   Traceback (most recent call last)",
      "Input \u001b[1;32mIn [25]\u001b[0m, in \u001b[0;36m<cell line: 13>\u001b[1;34m()\u001b[0m\n\u001b[0;32m     11\u001b[0m \u001b[38;5;28;01mfrom\u001b[39;00m \u001b[38;5;21;01mkeras\u001b[39;00m\u001b[38;5;21;01m.\u001b[39;00m\u001b[38;5;21;01mlayers\u001b[39;00m \u001b[38;5;28;01mimport\u001b[39;00m Dense, Dropout\n\u001b[0;32m     12\u001b[0m \u001b[38;5;28;01mfrom\u001b[39;00m \u001b[38;5;21;01mkeras\u001b[39;00m\u001b[38;5;21;01m.\u001b[39;00m\u001b[38;5;21;01mlayers\u001b[39;00m \u001b[38;5;28;01mimport\u001b[39;00m Flatten, BatchNormalization\n\u001b[1;32m---> 13\u001b[0m train_df \u001b[38;5;241m=\u001b[39m \u001b[43mpd\u001b[49m\u001b[38;5;241;43m.\u001b[39;49m\u001b[43mread_csv\u001b[49m\u001b[43m(\u001b[49m\u001b[38;5;124;43m'\u001b[39;49m\u001b[38;5;124;43m./C:/Users/botnet/Downloads/Homework/CarneDataset/train1.csv\u001b[39;49m\u001b[38;5;124;43m'\u001b[39;49m\u001b[43m)\u001b[49m\n\u001b[0;32m     14\u001b[0m test_df \u001b[38;5;241m=\u001b[39m pd\u001b[38;5;241m.\u001b[39mread_csv(\u001b[38;5;124m'\u001b[39m\u001b[38;5;124m./C:/Users/botnet/Downloads/Homework/CarneDataset/test.csv\u001b[39m\u001b[38;5;124m'\u001b[39m)\n\u001b[0;32m     16\u001b[0m train_df\u001b[38;5;241m.\u001b[39mhead()\n",
      "File \u001b[1;32m~\\anaconda3\\envs\\Homework\\lib\\site-packages\\pandas\\util\\_decorators.py:311\u001b[0m, in \u001b[0;36mdeprecate_nonkeyword_arguments.<locals>.decorate.<locals>.wrapper\u001b[1;34m(*args, **kwargs)\u001b[0m\n\u001b[0;32m    305\u001b[0m \u001b[38;5;28;01mif\u001b[39;00m \u001b[38;5;28mlen\u001b[39m(args) \u001b[38;5;241m>\u001b[39m num_allow_args:\n\u001b[0;32m    306\u001b[0m     warnings\u001b[38;5;241m.\u001b[39mwarn(\n\u001b[0;32m    307\u001b[0m         msg\u001b[38;5;241m.\u001b[39mformat(arguments\u001b[38;5;241m=\u001b[39marguments),\n\u001b[0;32m    308\u001b[0m         \u001b[38;5;167;01mFutureWarning\u001b[39;00m,\n\u001b[0;32m    309\u001b[0m         stacklevel\u001b[38;5;241m=\u001b[39mstacklevel,\n\u001b[0;32m    310\u001b[0m     )\n\u001b[1;32m--> 311\u001b[0m \u001b[38;5;28;01mreturn\u001b[39;00m func(\u001b[38;5;241m*\u001b[39margs, \u001b[38;5;241m*\u001b[39m\u001b[38;5;241m*\u001b[39mkwargs)\n",
      "File \u001b[1;32m~\\anaconda3\\envs\\Homework\\lib\\site-packages\\pandas\\io\\parsers\\readers.py:680\u001b[0m, in \u001b[0;36mread_csv\u001b[1;34m(filepath_or_buffer, sep, delimiter, header, names, index_col, usecols, squeeze, prefix, mangle_dupe_cols, dtype, engine, converters, true_values, false_values, skipinitialspace, skiprows, skipfooter, nrows, na_values, keep_default_na, na_filter, verbose, skip_blank_lines, parse_dates, infer_datetime_format, keep_date_col, date_parser, dayfirst, cache_dates, iterator, chunksize, compression, thousands, decimal, lineterminator, quotechar, quoting, doublequote, escapechar, comment, encoding, encoding_errors, dialect, error_bad_lines, warn_bad_lines, on_bad_lines, delim_whitespace, low_memory, memory_map, float_precision, storage_options)\u001b[0m\n\u001b[0;32m    665\u001b[0m kwds_defaults \u001b[38;5;241m=\u001b[39m _refine_defaults_read(\n\u001b[0;32m    666\u001b[0m     dialect,\n\u001b[0;32m    667\u001b[0m     delimiter,\n\u001b[1;32m   (...)\u001b[0m\n\u001b[0;32m    676\u001b[0m     defaults\u001b[38;5;241m=\u001b[39m{\u001b[38;5;124m\"\u001b[39m\u001b[38;5;124mdelimiter\u001b[39m\u001b[38;5;124m\"\u001b[39m: \u001b[38;5;124m\"\u001b[39m\u001b[38;5;124m,\u001b[39m\u001b[38;5;124m\"\u001b[39m},\n\u001b[0;32m    677\u001b[0m )\n\u001b[0;32m    678\u001b[0m kwds\u001b[38;5;241m.\u001b[39mupdate(kwds_defaults)\n\u001b[1;32m--> 680\u001b[0m \u001b[38;5;28;01mreturn\u001b[39;00m \u001b[43m_read\u001b[49m\u001b[43m(\u001b[49m\u001b[43mfilepath_or_buffer\u001b[49m\u001b[43m,\u001b[49m\u001b[43m \u001b[49m\u001b[43mkwds\u001b[49m\u001b[43m)\u001b[49m\n",
      "File \u001b[1;32m~\\anaconda3\\envs\\Homework\\lib\\site-packages\\pandas\\io\\parsers\\readers.py:575\u001b[0m, in \u001b[0;36m_read\u001b[1;34m(filepath_or_buffer, kwds)\u001b[0m\n\u001b[0;32m    572\u001b[0m _validate_names(kwds\u001b[38;5;241m.\u001b[39mget(\u001b[38;5;124m\"\u001b[39m\u001b[38;5;124mnames\u001b[39m\u001b[38;5;124m\"\u001b[39m, \u001b[38;5;28;01mNone\u001b[39;00m))\n\u001b[0;32m    574\u001b[0m \u001b[38;5;66;03m# Create the parser.\u001b[39;00m\n\u001b[1;32m--> 575\u001b[0m parser \u001b[38;5;241m=\u001b[39m TextFileReader(filepath_or_buffer, \u001b[38;5;241m*\u001b[39m\u001b[38;5;241m*\u001b[39mkwds)\n\u001b[0;32m    577\u001b[0m \u001b[38;5;28;01mif\u001b[39;00m chunksize \u001b[38;5;129;01mor\u001b[39;00m iterator:\n\u001b[0;32m    578\u001b[0m     \u001b[38;5;28;01mreturn\u001b[39;00m parser\n",
      "File \u001b[1;32m~\\anaconda3\\envs\\Homework\\lib\\site-packages\\pandas\\io\\parsers\\readers.py:934\u001b[0m, in \u001b[0;36mTextFileReader.__init__\u001b[1;34m(self, f, engine, **kwds)\u001b[0m\n\u001b[0;32m    931\u001b[0m     \u001b[38;5;28mself\u001b[39m\u001b[38;5;241m.\u001b[39moptions[\u001b[38;5;124m\"\u001b[39m\u001b[38;5;124mhas_index_names\u001b[39m\u001b[38;5;124m\"\u001b[39m] \u001b[38;5;241m=\u001b[39m kwds[\u001b[38;5;124m\"\u001b[39m\u001b[38;5;124mhas_index_names\u001b[39m\u001b[38;5;124m\"\u001b[39m]\n\u001b[0;32m    933\u001b[0m \u001b[38;5;28mself\u001b[39m\u001b[38;5;241m.\u001b[39mhandles: IOHandles \u001b[38;5;241m|\u001b[39m \u001b[38;5;28;01mNone\u001b[39;00m \u001b[38;5;241m=\u001b[39m \u001b[38;5;28;01mNone\u001b[39;00m\n\u001b[1;32m--> 934\u001b[0m \u001b[38;5;28mself\u001b[39m\u001b[38;5;241m.\u001b[39m_engine \u001b[38;5;241m=\u001b[39m \u001b[38;5;28;43mself\u001b[39;49m\u001b[38;5;241;43m.\u001b[39;49m\u001b[43m_make_engine\u001b[49m\u001b[43m(\u001b[49m\u001b[43mf\u001b[49m\u001b[43m,\u001b[49m\u001b[43m \u001b[49m\u001b[38;5;28;43mself\u001b[39;49m\u001b[38;5;241;43m.\u001b[39;49m\u001b[43mengine\u001b[49m\u001b[43m)\u001b[49m\n",
      "File \u001b[1;32m~\\anaconda3\\envs\\Homework\\lib\\site-packages\\pandas\\io\\parsers\\readers.py:1218\u001b[0m, in \u001b[0;36mTextFileReader._make_engine\u001b[1;34m(self, f, engine)\u001b[0m\n\u001b[0;32m   1214\u001b[0m     mode \u001b[38;5;241m=\u001b[39m \u001b[38;5;124m\"\u001b[39m\u001b[38;5;124mrb\u001b[39m\u001b[38;5;124m\"\u001b[39m\n\u001b[0;32m   1215\u001b[0m \u001b[38;5;66;03m# error: No overload variant of \"get_handle\" matches argument types\u001b[39;00m\n\u001b[0;32m   1216\u001b[0m \u001b[38;5;66;03m# \"Union[str, PathLike[str], ReadCsvBuffer[bytes], ReadCsvBuffer[str]]\"\u001b[39;00m\n\u001b[0;32m   1217\u001b[0m \u001b[38;5;66;03m# , \"str\", \"bool\", \"Any\", \"Any\", \"Any\", \"Any\", \"Any\"\u001b[39;00m\n\u001b[1;32m-> 1218\u001b[0m \u001b[38;5;28mself\u001b[39m\u001b[38;5;241m.\u001b[39mhandles \u001b[38;5;241m=\u001b[39m \u001b[43mget_handle\u001b[49m\u001b[43m(\u001b[49m\u001b[43m  \u001b[49m\u001b[38;5;66;43;03m# type: ignore[call-overload]\u001b[39;49;00m\n\u001b[0;32m   1219\u001b[0m \u001b[43m    \u001b[49m\u001b[43mf\u001b[49m\u001b[43m,\u001b[49m\n\u001b[0;32m   1220\u001b[0m \u001b[43m    \u001b[49m\u001b[43mmode\u001b[49m\u001b[43m,\u001b[49m\n\u001b[0;32m   1221\u001b[0m \u001b[43m    \u001b[49m\u001b[43mencoding\u001b[49m\u001b[38;5;241;43m=\u001b[39;49m\u001b[38;5;28;43mself\u001b[39;49m\u001b[38;5;241;43m.\u001b[39;49m\u001b[43moptions\u001b[49m\u001b[38;5;241;43m.\u001b[39;49m\u001b[43mget\u001b[49m\u001b[43m(\u001b[49m\u001b[38;5;124;43m\"\u001b[39;49m\u001b[38;5;124;43mencoding\u001b[39;49m\u001b[38;5;124;43m\"\u001b[39;49m\u001b[43m,\u001b[49m\u001b[43m \u001b[49m\u001b[38;5;28;43;01mNone\u001b[39;49;00m\u001b[43m)\u001b[49m\u001b[43m,\u001b[49m\n\u001b[0;32m   1222\u001b[0m \u001b[43m    \u001b[49m\u001b[43mcompression\u001b[49m\u001b[38;5;241;43m=\u001b[39;49m\u001b[38;5;28;43mself\u001b[39;49m\u001b[38;5;241;43m.\u001b[39;49m\u001b[43moptions\u001b[49m\u001b[38;5;241;43m.\u001b[39;49m\u001b[43mget\u001b[49m\u001b[43m(\u001b[49m\u001b[38;5;124;43m\"\u001b[39;49m\u001b[38;5;124;43mcompression\u001b[39;49m\u001b[38;5;124;43m\"\u001b[39;49m\u001b[43m,\u001b[49m\u001b[43m \u001b[49m\u001b[38;5;28;43;01mNone\u001b[39;49;00m\u001b[43m)\u001b[49m\u001b[43m,\u001b[49m\n\u001b[0;32m   1223\u001b[0m \u001b[43m    \u001b[49m\u001b[43mmemory_map\u001b[49m\u001b[38;5;241;43m=\u001b[39;49m\u001b[38;5;28;43mself\u001b[39;49m\u001b[38;5;241;43m.\u001b[39;49m\u001b[43moptions\u001b[49m\u001b[38;5;241;43m.\u001b[39;49m\u001b[43mget\u001b[49m\u001b[43m(\u001b[49m\u001b[38;5;124;43m\"\u001b[39;49m\u001b[38;5;124;43mmemory_map\u001b[39;49m\u001b[38;5;124;43m\"\u001b[39;49m\u001b[43m,\u001b[49m\u001b[43m \u001b[49m\u001b[38;5;28;43;01mFalse\u001b[39;49;00m\u001b[43m)\u001b[49m\u001b[43m,\u001b[49m\n\u001b[0;32m   1224\u001b[0m \u001b[43m    \u001b[49m\u001b[43mis_text\u001b[49m\u001b[38;5;241;43m=\u001b[39;49m\u001b[43mis_text\u001b[49m\u001b[43m,\u001b[49m\n\u001b[0;32m   1225\u001b[0m \u001b[43m    \u001b[49m\u001b[43merrors\u001b[49m\u001b[38;5;241;43m=\u001b[39;49m\u001b[38;5;28;43mself\u001b[39;49m\u001b[38;5;241;43m.\u001b[39;49m\u001b[43moptions\u001b[49m\u001b[38;5;241;43m.\u001b[39;49m\u001b[43mget\u001b[49m\u001b[43m(\u001b[49m\u001b[38;5;124;43m\"\u001b[39;49m\u001b[38;5;124;43mencoding_errors\u001b[39;49m\u001b[38;5;124;43m\"\u001b[39;49m\u001b[43m,\u001b[49m\u001b[43m \u001b[49m\u001b[38;5;124;43m\"\u001b[39;49m\u001b[38;5;124;43mstrict\u001b[39;49m\u001b[38;5;124;43m\"\u001b[39;49m\u001b[43m)\u001b[49m\u001b[43m,\u001b[49m\n\u001b[0;32m   1226\u001b[0m \u001b[43m    \u001b[49m\u001b[43mstorage_options\u001b[49m\u001b[38;5;241;43m=\u001b[39;49m\u001b[38;5;28;43mself\u001b[39;49m\u001b[38;5;241;43m.\u001b[39;49m\u001b[43moptions\u001b[49m\u001b[38;5;241;43m.\u001b[39;49m\u001b[43mget\u001b[49m\u001b[43m(\u001b[49m\u001b[38;5;124;43m\"\u001b[39;49m\u001b[38;5;124;43mstorage_options\u001b[39;49m\u001b[38;5;124;43m\"\u001b[39;49m\u001b[43m,\u001b[49m\u001b[43m \u001b[49m\u001b[38;5;28;43;01mNone\u001b[39;49;00m\u001b[43m)\u001b[49m\u001b[43m,\u001b[49m\n\u001b[0;32m   1227\u001b[0m \u001b[43m\u001b[49m\u001b[43m)\u001b[49m\n\u001b[0;32m   1228\u001b[0m \u001b[38;5;28;01massert\u001b[39;00m \u001b[38;5;28mself\u001b[39m\u001b[38;5;241m.\u001b[39mhandles \u001b[38;5;129;01mis\u001b[39;00m \u001b[38;5;129;01mnot\u001b[39;00m \u001b[38;5;28;01mNone\u001b[39;00m\n\u001b[0;32m   1229\u001b[0m f \u001b[38;5;241m=\u001b[39m \u001b[38;5;28mself\u001b[39m\u001b[38;5;241m.\u001b[39mhandles\u001b[38;5;241m.\u001b[39mhandle\n",
      "File \u001b[1;32m~\\anaconda3\\envs\\Homework\\lib\\site-packages\\pandas\\io\\common.py:786\u001b[0m, in \u001b[0;36mget_handle\u001b[1;34m(path_or_buf, mode, encoding, compression, memory_map, is_text, errors, storage_options)\u001b[0m\n\u001b[0;32m    781\u001b[0m \u001b[38;5;28;01melif\u001b[39;00m \u001b[38;5;28misinstance\u001b[39m(handle, \u001b[38;5;28mstr\u001b[39m):\n\u001b[0;32m    782\u001b[0m     \u001b[38;5;66;03m# Check whether the filename is to be opened in binary mode.\u001b[39;00m\n\u001b[0;32m    783\u001b[0m     \u001b[38;5;66;03m# Binary mode does not support 'encoding' and 'newline'.\u001b[39;00m\n\u001b[0;32m    784\u001b[0m     \u001b[38;5;28;01mif\u001b[39;00m ioargs\u001b[38;5;241m.\u001b[39mencoding \u001b[38;5;129;01mand\u001b[39;00m \u001b[38;5;124m\"\u001b[39m\u001b[38;5;124mb\u001b[39m\u001b[38;5;124m\"\u001b[39m \u001b[38;5;129;01mnot\u001b[39;00m \u001b[38;5;129;01min\u001b[39;00m ioargs\u001b[38;5;241m.\u001b[39mmode:\n\u001b[0;32m    785\u001b[0m         \u001b[38;5;66;03m# Encoding\u001b[39;00m\n\u001b[1;32m--> 786\u001b[0m         handle \u001b[38;5;241m=\u001b[39m \u001b[38;5;28;43mopen\u001b[39;49m\u001b[43m(\u001b[49m\n\u001b[0;32m    787\u001b[0m \u001b[43m            \u001b[49m\u001b[43mhandle\u001b[49m\u001b[43m,\u001b[49m\n\u001b[0;32m    788\u001b[0m \u001b[43m            \u001b[49m\u001b[43mioargs\u001b[49m\u001b[38;5;241;43m.\u001b[39;49m\u001b[43mmode\u001b[49m\u001b[43m,\u001b[49m\n\u001b[0;32m    789\u001b[0m \u001b[43m            \u001b[49m\u001b[43mencoding\u001b[49m\u001b[38;5;241;43m=\u001b[39;49m\u001b[43mioargs\u001b[49m\u001b[38;5;241;43m.\u001b[39;49m\u001b[43mencoding\u001b[49m\u001b[43m,\u001b[49m\n\u001b[0;32m    790\u001b[0m \u001b[43m            \u001b[49m\u001b[43merrors\u001b[49m\u001b[38;5;241;43m=\u001b[39;49m\u001b[43merrors\u001b[49m\u001b[43m,\u001b[49m\n\u001b[0;32m    791\u001b[0m \u001b[43m            \u001b[49m\u001b[43mnewline\u001b[49m\u001b[38;5;241;43m=\u001b[39;49m\u001b[38;5;124;43m\"\u001b[39;49m\u001b[38;5;124;43m\"\u001b[39;49m\u001b[43m,\u001b[49m\n\u001b[0;32m    792\u001b[0m \u001b[43m        \u001b[49m\u001b[43m)\u001b[49m\n\u001b[0;32m    793\u001b[0m     \u001b[38;5;28;01melse\u001b[39;00m:\n\u001b[0;32m    794\u001b[0m         \u001b[38;5;66;03m# Binary mode\u001b[39;00m\n\u001b[0;32m    795\u001b[0m         handle \u001b[38;5;241m=\u001b[39m \u001b[38;5;28mopen\u001b[39m(handle, ioargs\u001b[38;5;241m.\u001b[39mmode)\n",
      "\u001b[1;31mOSError\u001b[0m: [Errno 22] Invalid argument: './C:/Users/botnet/Downloads/Homework/CarneDataset/train1.csv'"
     ]
    }
   ],
   "source": [
    "import numpy as np\n",
    "import pandas as pd\n",
    "import matplotlib.pyplot as plt\n",
    "import keras\n",
    "\n",
    "from sklearn.model_selection import train_test_split\n",
    "from keras.utils import to_categorical\n",
    "\n",
    "from keras.models import Sequential\n",
    "from keras.layers import Conv2D, MaxPooling2D\n",
    "from keras.layers import Dense, Dropout\n",
    "from keras.layers import Flatten, BatchNormalization\n",
    "train_df = pd.read_csv('./C:/Users/botnet/Downloads/Homework/CarneDataset/train1.csv')\n",
    "test_df = pd.read_csv('./C:/Users/botnet/Downloads/Homework/CarneDataset/test.csv')\n",
    "\n",
    "train_df.head()\n",
    "\n",
    "train_data = np.array(train_df.iloc[:, 1:])\n",
    "test_data = np.array(test_df.iloc[:, 1:])\n",
    "\n",
    "train_labels = to_categorical(train_df.iloc[:, 0])\n",
    "test_labels = to_categorical(test_df.iloc[:, 0])\n",
    "\n",
    "rows, cols = 28, 28 \n",
    "\n",
    "train_data = train_data.reshape(train_data.shape[0], rows, cols, 1)\n",
    "test_data = test_data.reshape(test_data.shape[0], rows, cols, 1)\n",
    "\n",
    "train_data = train_data.astype('float32')\n",
    "test_data = test_data.astype('float32')\n",
    "\n",
    "train_data /= 255.0\n",
    "test_data /= 255.0\n",
    "\n",
    "train_x, val_x, train_y, val_y = train_test_split(train_data, train_labels, test_size=0.2)\n",
    "\n",
    "batch_size = 256\n",
    "epochs = 5\n",
    "input_shape = (rows, cols, 1)\n",
    "\n",
    "def baseline_model():\n",
    "    model = Sequential()\n",
    "    model.add(BatchNormalization(input_shape=input_shape))\n",
    "    model.add(Conv2D(32, (3, 3), padding='same', activation='relu'))\n",
    "    model.add(MaxPooling2D(pool_size=(2, 2), strides=(2,2)))\n",
    "    model.add(Dropout(0.25))\n",
    "    \n",
    "    model.add(BatchNormalization())\n",
    "    model.add(Conv2D(32, (3, 3), padding='same', activation='relu'))\n",
    "    model.add(MaxPooling2D(pool_size=(2, 2)))\n",
    "    model.add(Dropout(0.25))\n",
    "\n",
    "    model.add(Flatten())\n",
    "    model.add(Dense(128, activation='relu'))\n",
    "    model.add(Dropout(0.5))\n",
    "    model.add(Dense(10, activation='softmax'))\n",
    "    return model\n",
    "\n",
    "model = baseline_model()\n",
    "model.compile(loss='categorical_crossentropy', optimizer='sgd', metrics=['accuracy'])\n",
    "\n",
    "history = model.fit(train_x, train_y,\n",
    "          batch_size=batch_size,\n",
    "          epochs=epochs,\n",
    "          verbose=1,\n",
    "          validation_data=(val_x, val_y))\n",
    "\n",
    "predictions= model.predict(test_data)\n"
   ]
  },
  {
   "cell_type": "code",
   "execution_count": null,
   "id": "b6245095",
   "metadata": {
    "pycharm": {
     "name": "#%%\n"
    }
   },
   "outputs": [],
   "source": []
  },
  {
   "cell_type": "code",
   "execution_count": null,
   "id": "a492ae9c",
   "metadata": {
    "pycharm": {
     "name": "#%%\n"
    }
   },
   "outputs": [],
   "source": [
    "original = np.asarray(foto_gris)\n",
    "binarizada = original < 1000\n",
    "print(binarizada)\n",
    "foto_bin = Image.fromarray(binarizada)\n",
    "foto_bin"
   ]
  },
  {
   "cell_type": "code",
   "execution_count": null,
   "id": "96cd0013",
   "metadata": {
    "pycharm": {
     "name": "#%%\n"
    }
   },
   "outputs": [],
   "source": [
    "original = np.asarray(foto_gris)\n",
    "binarizada = original < 1000\n",
    "print(binarizada)\n",
    "foto_bin = Image.fromarray(binarizada)\n",
    "foto_bin"
   ]
  },
  {
   "cell_type": "code",
   "execution_count": null,
   "id": "547004fa",
   "metadata": {
    "pycharm": {
     "name": "#%%\n"
    }
   },
   "outputs": [],
   "source": [
    "original = np.asarray(foto_gris)\n",
    "binarizada = original < 1000\n",
    "print(binarizada)\n",
    "foto_bin = Image.fromarray(binarizada)\n",
    "foto_bin"
   ]
  },
  {
   "cell_type": "code",
   "execution_count": null,
   "id": "aa8ec243",
   "metadata": {
    "pycharm": {
     "name": "#%%\n"
    }
   },
   "outputs": [],
   "source": [
    "original = np.asarray(foto_gris)\n",
    "binarizada = original < 1000\n",
    "print(binarizada)\n",
    "foto_bin = Image.fromarray(binarizada)\n",
    "foto_bin"
   ]
  },
  {
   "cell_type": "code",
   "execution_count": null,
   "id": "5fd2e1e8",
   "metadata": {
    "pycharm": {
     "name": "#%%\n"
    }
   },
   "outputs": [],
   "source": [
    "original = np.asarray(foto_gris)\n",
    "binarizada = original < 1000\n",
    "print(binarizada)\n",
    "foto_bin = Image.fromarray(binarizada)\n",
    "foto_bin"
   ]
  },
  {
   "cell_type": "code",
   "execution_count": null,
   "id": "6c64ae94",
   "metadata": {
    "pycharm": {
     "name": "#%%\n"
    }
   },
   "outputs": [],
   "source": [
    "original = np.asarray(foto_gris)\n",
    "binarizada = original < 1000\n",
    "print(binarizada)\n",
    "foto_bin = Image.fromarray(binarizada)\n",
    "foto_bin"
   ]
  },
  {
   "cell_type": "code",
   "execution_count": null,
   "id": "7db5011c",
   "metadata": {
    "pycharm": {
     "name": "#%%\n"
    }
   },
   "outputs": [],
   "source": [
    "original = np.asarray(foto_gris)\n",
    "binarizada = original < 1000\n",
    "print(binarizada)\n",
    "foto_bin = Image.fromarray(binarizada)\n",
    "foto_bin"
   ]
  },
  {
   "cell_type": "code",
   "execution_count": null,
   "id": "0e11cbda",
   "metadata": {
    "pycharm": {
     "name": "#%%\n"
    }
   },
   "outputs": [],
   "source": [
    "original = np.asarray(foto_gris)\n",
    "binarizada = original < 1000\n",
    "print(binarizada)\n",
    "foto_bin = Image.fromarray(binarizada)\n",
    "foto_bin"
   ]
  },
  {
   "cell_type": "code",
   "execution_count": null,
   "id": "66e4eaba",
   "metadata": {
    "pycharm": {
     "name": "#%%\n"
    }
   },
   "outputs": [],
   "source": [
    "original = np.asarray(foto_gris)\n",
    "binarizada = original < 1000\n",
    "print(binarizada)\n",
    "foto_bin = Image.fromarray(binarizada)\n",
    "foto_bin"
   ]
  },
  {
   "cell_type": "code",
   "execution_count": null,
   "id": "7ccb1852",
   "metadata": {
    "pycharm": {
     "name": "#%%\n"
    }
   },
   "outputs": [],
   "source": [
    "original = np.asarray(foto_gris)\n",
    "binarizada = original < 1000\n",
    "print(binarizada)\n",
    "foto_bin = Image.fromarray(binarizada)\n",
    "foto_bin"
   ]
  },
  {
   "cell_type": "code",
   "execution_count": null,
   "id": "ba64f8d0",
   "metadata": {
    "pycharm": {
     "name": "#%%\n"
    }
   },
   "outputs": [],
   "source": [
    "original = np.asarray(foto_gris)\n",
    "binarizada = original < 1000\n",
    "print(binarizada)\n",
    "foto_bin = Image.fromarray(binarizada)\n",
    "foto_bin"
   ]
  },
  {
   "cell_type": "code",
   "execution_count": null,
   "id": "6b70c355",
   "metadata": {
    "pycharm": {
     "name": "#%%\n"
    }
   },
   "outputs": [],
   "source": [
    "original = np.asarray(foto_gris)\n",
    "binarizada = original < 1000\n",
    "print(binarizada)\n",
    "foto_bin = Image.fromarray(binarizada)\n",
    "foto_bin"
   ]
  },
  {
   "cell_type": "code",
   "execution_count": null,
   "id": "26472861",
   "metadata": {
    "pycharm": {
     "name": "#%%\n"
    }
   },
   "outputs": [],
   "source": [
    "original = np.asarray(foto_gris)\n",
    "binarizada = original < 1000\n",
    "print(binarizada)\n",
    "foto_bin = Image.fromarray(binarizada)\n",
    "foto_bin"
   ]
  },
  {
   "cell_type": "code",
   "execution_count": 6,
   "id": "1af683a3",
   "metadata": {
    "pycharm": {
     "is_executing": true,
     "name": "#%%\n"
    }
   },
   "outputs": [
    {
     "name": "stdout",
     "output_type": "stream",
     "text": [
      "[[ True  True  True ...  True  True  True]\n",
      " [ True  True  True ...  True  True  True]\n",
      " [ True  True  True ...  True  True  True]\n",
      " ...\n",
      " [ True  True  True ...  True  True  True]\n",
      " [ True  True  True ...  True  True  True]\n",
      " [ True  True  True ...  True  True  True]]\n"
     ]
    },
    {
     "data": {
      "image/png": "[encoded data removed]",
      "text/plain": [
       "<PIL.Image.Image image mode=1 size=384x216 at 0x1D8BBF49100>"
      ]
     },
     "execution_count": 6,
     "metadata": {},
     "output_type": "execute_result"
    }
   ],
   "source": [
    "original = np.asarray(foto_gris)\n",
    "binarizada = original < 1000\n",
    "print(binarizada)\n",
    "foto_bin = Image.fromarray(binarizada)\n",
    "foto_bin"
   ]
  },
  {
   "cell_type": "code",
   "execution_count": 7,
   "id": "31d3215d",
   "metadata": {
    "pycharm": {
     "name": "#%%\n"
    }
   },
   "outputs": [
    {
     "data": {
      "text/plain": [
       "[<matplotlib.lines.Line2D at 0x1d8bc6d1cd0>]"
      ]
     },
     "execution_count": 7,
     "metadata": {},
     "output_type": "execute_result"
    },
    {
     "data": {
      "image/png": "[encoded data removed]",
      "text/plain": [
       "<Figure size 432x288 with 1 Axes>"
      ]
     },
     "metadata": {
      "needs_background": "light"
     },
     "output_type": "display_data"
    }
   ],
   "source": [
    "plt.plot(foto_gris.histogram())"
   ]
  },
  {
   "cell_type": "code",
   "execution_count": 8,
   "id": "0c2bcd8c",
   "metadata": {
    "pycharm": {
     "name": "#%%\n"
    }
   },
   "outputs": [
    {
     "name": "stdout",
     "output_type": "stream",
     "text": [
      "['05-CAPTURE_20220421_053523_498.png', '05-CAPTURE_20220421_053558_105.png', '05-CAPTURE_20220421_054132_775.png', '10-CAPTURE_20220531_103042_241.png', '10-CAPTURE_20220531_103052_843.png', '10-CAPTURE_20220531_103326_275.png', '10-CAPTURE_20220531_104101_771.png', '10-CAPTURE_20220614_103335_077.png', '10-CAPTURE_20220614_103346_079.png', '10-CAPTURE_20220614_103804_934.png', '10-CAPTURE_20220614_103823_738.png', '14-CAPTURE_20220531_143820_956.png', '14-CAPTURE_20220531_144356_826.png', '14-CAPTURE_20220531_144422_832.png', '14-CAPTURE_20220531_144511_642.png', '14-CAPTURE_20220531_144702_465.png', '14-CAPTURE_20220531_144730_671.png', '14-CAPTURE_20220531_144747_875.png', '14-CAPTURE_20220614_143407_706.png', '14-CAPTURE_20220614_143434_311.png', '14-CAPTURE_20220614_143627_335.png', '14-CAPTURE_20220614_143704_743.png', '14-CAPTURE_20220614_143750_552.png', '14-CAPTURE_20220614_143910_969.png', '16-CAPTURE_20220418_162510_286.png', '16-CAPTURE_20220418_163726_841.png', '16-CAPTURE_20220427_165951_148.png', '17-CAPTURE_20220427_170044_359.png', '17-CAPTURE_20220427_170134_769.png', '19-CAPTURE_20220426_191056_683.png', '19-CAPTURE_20220426_191957_197.png', '20-CAPTURE_20220418_201132_341.png', '20-CAPTURE_20220425_200910_295.png', '20-CAPTURE_20220425_204241_518.png', '20-CAPTURE_20220523_202131_477.png', '20-CAPTURE_20220523_202318_499.png', '22-CAPTURE_20220418_224934_321.png', '22-CAPTURE_20220418_224948_924.png', '22-CAPTURE_20220620_225907_089.png', '23-CAPTURE_20220418_232110_317.png', '23-CAPTURE_20220418_233048_237.png', '23-CAPTURE_20220425_232459_352.png', '23-CAPTURE_20220425_232959_015.png', '23-CAPTURE_20220425_233750_714.png', '23-CAPTURE_20220425_233829_922.png', '23-CAPTURE_20220425_234204_167.png', '23-CAPTURE_20220427_232449_390.png', '23-CAPTURE_20220427_232522_397.png', '23-CAPTURE_20220427_233624_936.png', '23-CAPTURE_20220427_233646_941.png', '23-CAPTURE_20220427_233751_954.png', '23-CAPTURE_20220427_234016_985.png', '23-CAPTURE_20220427_234147_004.png', '23-CAPTURE_20220523_230511_738.png', '23-CAPTURE_20220523_233400_301.png', '23-CAPTURE_20220523_233512_716.png', '23-CAPTURE_20220523_233635_334.png', '23-CAPTURE_20220523_233843_360.png', '23-CAPTURE_20220523_234033_983.png', '23-CAPTURE_20220523_234051_987.png', '23-CAPTURE_20220620_234041_015.png', 'carne.png', 'Carneroja.png']\n"
     ]
    }
   ],
   "source": [
    "import os\n",
    "print(os.listdir(\"C:/Users/botnet/Downloads/Homework/CarneDataset/train/CLASS_02\"))"
   ]
  },
  {
   "cell_type": "code",
   "execution_count": 7,
   "id": "f73ea1b8",
   "metadata": {
    "pycharm": {
     "name": "#%%\n"
    }
   },
   "outputs": [
    {
     "ename": "AttributeError",
     "evalue": "module 'ntpath' has no attribute 'glob'",
     "output_type": "error",
     "traceback": [
      "\u001b[1;31m---------------------------------------------------------------------------\u001b[0m",
      "\u001b[1;31mAttributeError\u001b[0m                            Traceback (most recent call last)",
      "Input \u001b[1;32mIn [7]\u001b[0m, in \u001b[0;36m<cell line: 9>\u001b[1;34m()\u001b[0m\n\u001b[0;32m      5\u001b[0m classes \u001b[38;5;241m=\u001b[39m [\u001b[38;5;124m\"\u001b[39m\u001b[38;5;124mpollo\u001b[39m\u001b[38;5;124m\"\u001b[39m, \u001b[38;5;124m\"\u001b[39m\u001b[38;5;124mcarne\u001b[39m\u001b[38;5;124m\"\u001b[39m]\n\u001b[0;32m      7\u001b[0m \u001b[38;5;66;03m# store path and search for .jpg images in path\u001b[39;00m\n\u001b[0;32m      8\u001b[0m \u001b[38;5;66;03m#path = Path(\"./C:/Users/botnet/Downloads/Homework/CarneDataset/train/CLASS_02\")\u001b[39;00m\n\u001b[1;32m----> 9\u001b[0m images \u001b[38;5;241m=\u001b[39m [img\u001b[38;5;241m.\u001b[39mname \u001b[38;5;28;01mfor\u001b[39;00m img \u001b[38;5;129;01min\u001b[39;00m \u001b[43mpath\u001b[49m\u001b[38;5;241;43m.\u001b[39;49m\u001b[43mglob\u001b[49m(\u001b[38;5;124m\"\u001b[39m\u001b[38;5;124m*.png\u001b[39m\u001b[38;5;124m\"\u001b[39m)]\n\u001b[0;32m     11\u001b[0m \u001b[38;5;66;03m# set up empty dict for labels and initial position\u001b[39;00m\n\u001b[0;32m     12\u001b[0m labels \u001b[38;5;241m=\u001b[39m {}\n",
      "\u001b[1;31mAttributeError\u001b[0m: module 'ntpath' has no attribute 'glob'"
     ]
    }
   ],
   "source": [
    "from os import path\n",
    "from pathlib import Path\n",
    "from ipywidgets import Output, Button, Layout, HBox\n",
    "from IPython.display import Image, display, clear_output\n",
    "classes = [\"pollo\", \"carne\"]\n",
    "\n",
    "# store path and search for .jpg images in path\n",
    "#path = Path(\"./C:/Users/botnet/Downloads/Homework/CarneDataset/train/CLASS_02\")\n",
    "images = [img.name for img in path.glob(\"*.png\")]\n",
    "\n",
    "# set up empty dict for labels and initial position\n",
    "labels = {}\n",
    "position = 0"
   ]
  },
  {
   "cell_type": "code",
   "execution_count": 17,
   "id": "1feeafed",
   "metadata": {
    "pycharm": {
     "name": "#%%\n"
    }
   },
   "outputs": [
    {
     "ename": "SyntaxError",
     "evalue": "invalid syntax (917152539.py, line 12)",
     "output_type": "error",
     "traceback": [
      "\u001b[1;36m  Input \u001b[1;32mIn [17]\u001b[1;36m\u001b[0m\n\u001b[1;33m    import cv2(imread)\u001b[0m\n\u001b[1;37m              ^\u001b[0m\n\u001b[1;31mSyntaxError\u001b[0m\u001b[1;31m:\u001b[0m invalid syntax\n"
     ]
    }
   ],
   "source": [
    "import numpy as np\n",
    "import pandas as pd\n",
    "import matplotlib.pyplot as plt\n",
    "import matplotlib.image as mpimg\n",
    "import seaborn as sns\n",
    "%matplotlib inline\n",
    "import glob\n",
    "from skimage.io import imread\n",
    "import mxnet as mx\n",
    "import gluoncv as gcv\n",
    "import matplotlib.pyplot as plt\n",
    "import cv2(imread)\n",
    "import os"
   ]
  },
  {
   "cell_type": "code",
   "execution_count": null,
   "id": "6da673c1",
   "metadata": {
    "pycharm": {
     "name": "#%%\n"
    }
   },
   "outputs": [],
   "source": [
    "from tensorflow.keras import layers\n",
    "from tensorflow.keras import Model\n",
    "from tensorflow.keras.preprocessing.image import ImageDataGenerator\n",
    "from tensorflow.keras.optimizers import RMSprop"
   ]
  },
  {
   "cell_type": "code",
   "execution_count": null,
   "id": "c0ec40c7",
   "metadata": {
    "pycharm": {
     "name": "#%%\n"
    }
   },
   "outputs": [],
   "source": [
    "train_datagen = ImageDataGenerator(rescale=1./255)\n",
    "val_datagen = ImageDataGenerator(rescale=1./255)\n",
    "\n",
    "# Flow training images in batches of 20 using train_datagen generator\n",
    "train_generator = train_datagen.flow_from_directory(\n",
    "        train_dir,               # This is the source directory for training images\n",
    "        target_size=(150, 150),  # All images will be resized to 150x150\n",
    "        shuffle=True,\n",
    "        class_mode='binary')\n",
    "\n",
    "# Flow validation images in batches of 20 using val_datagen generator\n",
    "validation_generator = val_datagen.flow_from_directory(\n",
    "        validation_dir,\n",
    "        target_size=(150, 150),\n",
    "        shuffle=True,\n",
    "        class_mode='binary' )"
   ]
  },
  {
   "cell_type": "code",
   "execution_count": null,
   "id": "f403a710",
   "metadata": {
    "pycharm": {
     "name": "#%%\n"
    }
   },
   "outputs": [],
   "source": [
    "img_input = layers.Input(shape=(150, 150, 3))\n",
    "\n",
    "# First convolution extracts 16 filters that are 3x3\n",
    "# Convolution is followed by max-pooling layer with a 2x2 window\n",
    "x = layers.Conv2D(16, 3, activation='relu')(img_input)\n",
    "x = layers.MaxPooling2D(2)(x)\n",
    "\n",
    "# Second convolution extracts 32 filters that are 3x3\n",
    "# Convolution is followed by max-pooling layer with a 2x2 window\n",
    "x = layers.Conv2D(32, 3, activation='relu')(x)\n",
    "x = layers.MaxPooling2D(2)(x)\n",
    "\n",
    "# Third convolution extracts 64 filters that are 3x3\n",
    "# Convolution is followed by max-pooling layer with a 2x2 window\n",
    "x = layers.Conv2D(64, 3, activation='relu')(x)\n",
    "x = layers.MaxPooling2D(2)(x)\n",
    "\n",
    "# Flatten feature map to a 1-dim tensor so we can add fully connected layers\n",
    "x = layers.Flatten()(x)\n",
    "\n",
    "# Create a fully connected layer with ReLU activation and 512 hidden units\n",
    "x = layers.Dense(512, activation='relu')(x)\n",
    "\n",
    "# Add a dropout rate of 0.5\n",
    "x = layers.Dropout(0.5)(x)\n",
    "\n",
    "# Create output layer with a single node and sigmoid activation\n",
    "output = layers.Dense(1, activation='sigmoid')(x)\n",
    "\n",
    "# Create model:\n",
    "# input = input feature map\n",
    "# output = input feature map + stacked convolution/maxpooling layers + fully\n",
    "# connected layer + sigmoid output layer\n",
    "model = Model(img_input, output)"
   ]
  },
  {
   "cell_type": "code",
   "execution_count": 12,
   "id": "16e64801",
   "metadata": {
    "pycharm": {
     "name": "#%%\n"
    }
   },
   "outputs": [
    {
     "ename": "NameError",
     "evalue": "name 'history' is not defined",
     "output_type": "error",
     "traceback": [
      "\u001b[1;31m---------------------------------------------------------------------------\u001b[0m",
      "\u001b[1;31mNameError\u001b[0m                                 Traceback (most recent call last)",
      "Input \u001b[1;32mIn [12]\u001b[0m, in \u001b[0;36m<cell line: 1>\u001b[1;34m()\u001b[0m\n\u001b[1;32m----> 1\u001b[0m acc \u001b[38;5;241m=\u001b[39m \u001b[43mhistory\u001b[49m\u001b[38;5;241m.\u001b[39mhistory[\u001b[38;5;124m'\u001b[39m\u001b[38;5;124macc\u001b[39m\u001b[38;5;124m'\u001b[39m]\n\u001b[0;32m      2\u001b[0m val_acc \u001b[38;5;241m=\u001b[39m history\u001b[38;5;241m.\u001b[39mhistory[\u001b[38;5;124m'\u001b[39m\u001b[38;5;124mval_acc\u001b[39m\u001b[38;5;124m'\u001b[39m]\n\u001b[0;32m      4\u001b[0m \u001b[38;5;66;03m# Retrieve a list of list results on training and validation data\u001b[39;00m\n\u001b[0;32m      5\u001b[0m \u001b[38;5;66;03m# sets for each training epoch\u001b[39;00m\n",
      "\u001b[1;31mNameError\u001b[0m: name 'history' is not defined"
     ]
    }
   ],
   "source": [
    "acc = history.history['acc']\n",
    "val_acc = history.history['val_acc']\n",
    "\n",
    "# Retrieve a list of list results on training and validation data\n",
    "# sets for each training epoch\n",
    "loss = history.history['loss']\n",
    "val_loss = history.history['val_loss']\n",
    "\n",
    "# Get number of epochs\n",
    "epochs = range(len(acc))\n",
    "\n",
    "# Plot training and validation accuracy per epoch\n",
    "plt.plot(epochs, acc, label='training accuracy')\n",
    "plt.plot(epochs, val_acc, label='validation accuracy')\n",
    "plt.title('Training and validation accuracy')\n",
    "plt.legend()\n",
    "\n",
    "# Plot training and validation loss per epoch\n",
    "plt.figure()\n",
    "plt.plot(epochs, loss, label='training loss')\n",
    "plt.plot(epochs, val_loss, label='validation loss')\n",
    "plt.title('Training and validation loss')\n",
    "plt.legend()"
   ]
  },
  {
   "cell_type": "code",
   "execution_count": 9,
   "id": "b62d9ef6",
   "metadata": {
    "pycharm": {
     "name": "#%%\n"
    }
   },
   "outputs": [
    {
     "ename": "KeyError",
     "evalue": "'data/Carneroja'",
     "output_type": "error",
     "traceback": [
      "\u001b[1;31m---------------------------------------------------------------------------\u001b[0m",
      "\u001b[1;31mKeyError\u001b[0m                                  Traceback (most recent call last)",
      "Input \u001b[1;32mIn [9]\u001b[0m, in \u001b[0;36m<cell line: 3>\u001b[1;34m()\u001b[0m\n\u001b[0;32m      1\u001b[0m \u001b[38;5;28;01mimport\u001b[39;00m \u001b[38;5;21;01mnumpy\u001b[39;00m \u001b[38;5;28;01mas\u001b[39;00m \u001b[38;5;21;01mnp\u001b[39;00m\n\u001b[0;32m      2\u001b[0m \u001b[38;5;28;01mimport\u001b[39;00m \u001b[38;5;21;01mmatplotlib\u001b[39;00m\u001b[38;5;21;01m.\u001b[39;00m\u001b[38;5;21;01mpyplot\u001b[39;00m \u001b[38;5;28;01mas\u001b[39;00m \u001b[38;5;21;01mplt\u001b[39;00m\n\u001b[1;32m----> 3\u001b[0m \u001b[38;5;28;01mfrom\u001b[39;00m \u001b[38;5;21;01mskimage\u001b[39;00m\u001b[38;5;21;01m.\u001b[39;00m\u001b[38;5;21;01mdata\u001b[39;00m \u001b[38;5;28;01mimport\u001b[39;00m Carneroja\n\u001b[0;32m      4\u001b[0m \u001b[38;5;28;01mfrom\u001b[39;00m \u001b[38;5;21;01mskimage\u001b[39;00m\u001b[38;5;21;01m.\u001b[39;00m\u001b[38;5;21;01mfilters\u001b[39;00m \u001b[38;5;28;01mimport\u001b[39;00m threshold_otsu\n\u001b[0;32m      5\u001b[0m \u001b[38;5;28;01mfrom\u001b[39;00m \u001b[38;5;21;01mskimage\u001b[39;00m\u001b[38;5;21;01m.\u001b[39;00m\u001b[38;5;21;01msegmentation\u001b[39;00m \u001b[38;5;28;01mimport\u001b[39;00m clear_border\n",
      "File \u001b[1;32m<frozen importlib._bootstrap>:1055\u001b[0m, in \u001b[0;36m_handle_fromlist\u001b[1;34m(module, fromlist, import_, recursive)\u001b[0m\n",
      "File \u001b[1;32m~\\anaconda3\\lib\\site-packages\\skimage\\_shared\\lazy.py:64\u001b[0m, in \u001b[0;36mattach.<locals>.__getattr__\u001b[1;34m(name)\u001b[0m\n\u001b[0;32m     62\u001b[0m     \u001b[38;5;28;01mreturn\u001b[39;00m importlib\u001b[38;5;241m.\u001b[39mimport_module(\u001b[38;5;124mf\u001b[39m\u001b[38;5;124m'\u001b[39m\u001b[38;5;132;01m{\u001b[39;00mpackage_name\u001b[38;5;132;01m}\u001b[39;00m\u001b[38;5;124m.\u001b[39m\u001b[38;5;132;01m{\u001b[39;00mname\u001b[38;5;132;01m}\u001b[39;00m\u001b[38;5;124m'\u001b[39m)\n\u001b[0;32m     63\u001b[0m \u001b[38;5;28;01melif\u001b[39;00m name \u001b[38;5;129;01min\u001b[39;00m attr_to_modules:\n\u001b[1;32m---> 64\u001b[0m     submod \u001b[38;5;241m=\u001b[39m \u001b[43mimportlib\u001b[49m\u001b[38;5;241;43m.\u001b[39;49m\u001b[43mimport_module\u001b[49m\u001b[43m(\u001b[49m\n\u001b[0;32m     65\u001b[0m \u001b[43m        \u001b[49m\u001b[38;5;124;43mf\u001b[39;49m\u001b[38;5;124;43m'\u001b[39;49m\u001b[38;5;132;43;01m{\u001b[39;49;00m\u001b[43mpackage_name\u001b[49m\u001b[38;5;132;43;01m}\u001b[39;49;00m\u001b[38;5;124;43m.\u001b[39;49m\u001b[38;5;132;43;01m{\u001b[39;49;00m\u001b[43mattr_to_modules\u001b[49m\u001b[43m[\u001b[49m\u001b[43mname\u001b[49m\u001b[43m]\u001b[49m\u001b[38;5;132;43;01m}\u001b[39;49;00m\u001b[38;5;124;43m'\u001b[39;49m\n\u001b[0;32m     66\u001b[0m \u001b[43m    \u001b[49m\u001b[43m)\u001b[49m\n\u001b[0;32m     67\u001b[0m     \u001b[38;5;28;01mreturn\u001b[39;00m \u001b[38;5;28mgetattr\u001b[39m(submod, name)\n\u001b[0;32m     68\u001b[0m \u001b[38;5;28;01melse\u001b[39;00m:\n",
      "File \u001b[1;32m~\\anaconda3\\lib\\importlib\\__init__.py:127\u001b[0m, in \u001b[0;36mimport_module\u001b[1;34m(name, package)\u001b[0m\n\u001b[0;32m    125\u001b[0m             \u001b[38;5;28;01mbreak\u001b[39;00m\n\u001b[0;32m    126\u001b[0m         level \u001b[38;5;241m+\u001b[39m\u001b[38;5;241m=\u001b[39m \u001b[38;5;241m1\u001b[39m\n\u001b[1;32m--> 127\u001b[0m \u001b[38;5;28;01mreturn\u001b[39;00m \u001b[43m_bootstrap\u001b[49m\u001b[38;5;241;43m.\u001b[39;49m\u001b[43m_gcd_import\u001b[49m\u001b[43m(\u001b[49m\u001b[43mname\u001b[49m\u001b[43m[\u001b[49m\u001b[43mlevel\u001b[49m\u001b[43m:\u001b[49m\u001b[43m]\u001b[49m\u001b[43m,\u001b[49m\u001b[43m \u001b[49m\u001b[43mpackage\u001b[49m\u001b[43m,\u001b[49m\u001b[43m \u001b[49m\u001b[43mlevel\u001b[49m\u001b[43m)\u001b[49m\n",
      "File \u001b[1;32m~\\anaconda3\\lib\\site-packages\\skimage\\data\\_fetchers.py:14\u001b[0m, in \u001b[0;36m<module>\u001b[1;34m\u001b[0m\n\u001b[0;32m     12\u001b[0m \u001b[38;5;28;01mfrom\u001b[39;00m \u001b[38;5;21;01m.\u001b[39;00m\u001b[38;5;21;01m.\u001b[39;00m\u001b[38;5;21;01mutil\u001b[39;00m\u001b[38;5;21;01m.\u001b[39;00m\u001b[38;5;21;01mdtype\u001b[39;00m \u001b[38;5;28;01mimport\u001b[39;00m img_as_bool\n\u001b[0;32m     13\u001b[0m \u001b[38;5;28;01mfrom\u001b[39;00m \u001b[38;5;21;01m.\u001b[39;00m\u001b[38;5;21;01m_binary_blobs\u001b[39;00m \u001b[38;5;28;01mimport\u001b[39;00m binary_blobs\n\u001b[1;32m---> 14\u001b[0m \u001b[38;5;28;01mfrom\u001b[39;00m \u001b[38;5;21;01m.\u001b[39;00m\u001b[38;5;21;01m_registry\u001b[39;00m \u001b[38;5;28;01mimport\u001b[39;00m registry, legacy_registry, registry_urls\n\u001b[0;32m     16\u001b[0m \u001b[38;5;28;01mfrom\u001b[39;00m \u001b[38;5;21;01m.\u001b[39;00m\u001b[38;5;21;01m.\u001b[39;00m \u001b[38;5;28;01mimport\u001b[39;00m __version__\n\u001b[0;32m     18\u001b[0m \u001b[38;5;28;01mimport\u001b[39;00m \u001b[38;5;21;01mos\u001b[39;00m\u001b[38;5;21;01m.\u001b[39;00m\u001b[38;5;21;01mpath\u001b[39;00m \u001b[38;5;28;01mas\u001b[39;00m \u001b[38;5;21;01mosp\u001b[39;00m\n",
      "File \u001b[1;32m~\\anaconda3\\lib\\site-packages\\skimage\\data\\_registry.py:184\u001b[0m, in \u001b[0;36m<module>\u001b[1;34m\u001b[0m\n\u001b[0;32m     44\u001b[0m registry \u001b[38;5;241m=\u001b[39m {\n\u001b[0;32m     45\u001b[0m     \u001b[38;5;124m\"\u001b[39m\u001b[38;5;124mcolor/tests/data/lab_array_a_10.npy\u001b[39m\u001b[38;5;124m\"\u001b[39m: \u001b[38;5;124m\"\u001b[39m\u001b[38;5;124ma3ef76f1530e374f9121020f1f220bc89767dc866f4bbd1b1f47e5b84891a38c\u001b[39m\u001b[38;5;124m\"\u001b[39m,\n\u001b[0;32m     46\u001b[0m     \u001b[38;5;124m\"\u001b[39m\u001b[38;5;124mcolor/tests/data/lab_array_a_2.npy\u001b[39m\u001b[38;5;124m\"\u001b[39m: \u001b[38;5;124m\"\u001b[39m\u001b[38;5;124m793d5981cbffceb14b5fb589f998a2b1acdb5ff9c14d364c8e9e8bd45a80b275\u001b[39m\u001b[38;5;124m\"\u001b[39m,\n\u001b[1;32m   (...)\u001b[0m\n\u001b[0;32m    165\u001b[0m     \u001b[38;5;124m\"\u001b[39m\u001b[38;5;124mdata/solidification.tif\u001b[39m\u001b[38;5;124m\"\u001b[39m: \u001b[38;5;124m\"\u001b[39m\u001b[38;5;124m50ef9a52c621b7c0c506ad1fe1b8ee8a158a4d7c8e50ddfce1e273a422dca3f9\u001b[39m\u001b[38;5;124m\"\u001b[39m,\n\u001b[0;32m    166\u001b[0m }\n\u001b[0;32m    168\u001b[0m registry_urls \u001b[38;5;241m=\u001b[39m {\n\u001b[0;32m    169\u001b[0m     \u001b[38;5;124m\"\u001b[39m\u001b[38;5;124mdata/brain.tiff\u001b[39m\u001b[38;5;124m\"\u001b[39m: \u001b[38;5;124m\"\u001b[39m\u001b[38;5;124mhttps://gitlab.com/scikit-image/data/-/raw/master/brain.tiff\u001b[39m\u001b[38;5;124m\"\u001b[39m,\n\u001b[0;32m    170\u001b[0m     \u001b[38;5;124m\"\u001b[39m\u001b[38;5;124mdata/cells3d.tif\u001b[39m\u001b[38;5;124m\"\u001b[39m: \u001b[38;5;124m\"\u001b[39m\u001b[38;5;124mhttps://gitlab.com/scikit-image/data/-/raw/master/cells3d.tif\u001b[39m\u001b[38;5;124m\"\u001b[39m,\n\u001b[1;32m   (...)\u001b[0m\n\u001b[0;32m    181\u001b[0m     \u001b[38;5;124m\"\u001b[39m\u001b[38;5;124mrestoration/tests/astronaut_rl.npy\u001b[39m\u001b[38;5;124m\"\u001b[39m: \u001b[38;5;124m\"\u001b[39m\u001b[38;5;124mhttps://gitlab.com/scikit-image/data/-/raw/master/astronaut_rl.npy\u001b[39m\u001b[38;5;124m\"\u001b[39m,\n\u001b[0;32m    182\u001b[0m }\n\u001b[1;32m--> 184\u001b[0m legacy_registry \u001b[38;5;241m=\u001b[39m {\n\u001b[0;32m    185\u001b[0m     (\u001b[38;5;124m'\u001b[39m\u001b[38;5;124mdata/\u001b[39m\u001b[38;5;124m'\u001b[39m \u001b[38;5;241m+\u001b[39m filename): registry[\u001b[38;5;124m'\u001b[39m\u001b[38;5;124mdata/\u001b[39m\u001b[38;5;124m'\u001b[39m \u001b[38;5;241m+\u001b[39m filename]\n\u001b[0;32m    186\u001b[0m     \u001b[38;5;28;01mfor\u001b[39;00m filename \u001b[38;5;129;01min\u001b[39;00m legacy_datasets\n\u001b[0;32m    187\u001b[0m }\n",
      "File \u001b[1;32m~\\anaconda3\\lib\\site-packages\\skimage\\data\\_registry.py:185\u001b[0m, in \u001b[0;36m<dictcomp>\u001b[1;34m(.0)\u001b[0m\n\u001b[0;32m     44\u001b[0m registry \u001b[38;5;241m=\u001b[39m {\n\u001b[0;32m     45\u001b[0m     \u001b[38;5;124m\"\u001b[39m\u001b[38;5;124mcolor/tests/data/lab_array_a_10.npy\u001b[39m\u001b[38;5;124m\"\u001b[39m: \u001b[38;5;124m\"\u001b[39m\u001b[38;5;124ma3ef76f1530e374f9121020f1f220bc89767dc866f4bbd1b1f47e5b84891a38c\u001b[39m\u001b[38;5;124m\"\u001b[39m,\n\u001b[0;32m     46\u001b[0m     \u001b[38;5;124m\"\u001b[39m\u001b[38;5;124mcolor/tests/data/lab_array_a_2.npy\u001b[39m\u001b[38;5;124m\"\u001b[39m: \u001b[38;5;124m\"\u001b[39m\u001b[38;5;124m793d5981cbffceb14b5fb589f998a2b1acdb5ff9c14d364c8e9e8bd45a80b275\u001b[39m\u001b[38;5;124m\"\u001b[39m,\n\u001b[1;32m   (...)\u001b[0m\n\u001b[0;32m    165\u001b[0m     \u001b[38;5;124m\"\u001b[39m\u001b[38;5;124mdata/solidification.tif\u001b[39m\u001b[38;5;124m\"\u001b[39m: \u001b[38;5;124m\"\u001b[39m\u001b[38;5;124m50ef9a52c621b7c0c506ad1fe1b8ee8a158a4d7c8e50ddfce1e273a422dca3f9\u001b[39m\u001b[38;5;124m\"\u001b[39m,\n\u001b[0;32m    166\u001b[0m }\n\u001b[0;32m    168\u001b[0m registry_urls \u001b[38;5;241m=\u001b[39m {\n\u001b[0;32m    169\u001b[0m     \u001b[38;5;124m\"\u001b[39m\u001b[38;5;124mdata/brain.tiff\u001b[39m\u001b[38;5;124m\"\u001b[39m: \u001b[38;5;124m\"\u001b[39m\u001b[38;5;124mhttps://gitlab.com/scikit-image/data/-/raw/master/brain.tiff\u001b[39m\u001b[38;5;124m\"\u001b[39m,\n\u001b[0;32m    170\u001b[0m     \u001b[38;5;124m\"\u001b[39m\u001b[38;5;124mdata/cells3d.tif\u001b[39m\u001b[38;5;124m\"\u001b[39m: \u001b[38;5;124m\"\u001b[39m\u001b[38;5;124mhttps://gitlab.com/scikit-image/data/-/raw/master/cells3d.tif\u001b[39m\u001b[38;5;124m\"\u001b[39m,\n\u001b[1;32m   (...)\u001b[0m\n\u001b[0;32m    181\u001b[0m     \u001b[38;5;124m\"\u001b[39m\u001b[38;5;124mrestoration/tests/astronaut_rl.npy\u001b[39m\u001b[38;5;124m\"\u001b[39m: \u001b[38;5;124m\"\u001b[39m\u001b[38;5;124mhttps://gitlab.com/scikit-image/data/-/raw/master/astronaut_rl.npy\u001b[39m\u001b[38;5;124m\"\u001b[39m,\n\u001b[0;32m    182\u001b[0m }\n\u001b[0;32m    184\u001b[0m legacy_registry \u001b[38;5;241m=\u001b[39m {\n\u001b[1;32m--> 185\u001b[0m     (\u001b[38;5;124m'\u001b[39m\u001b[38;5;124mdata/\u001b[39m\u001b[38;5;124m'\u001b[39m \u001b[38;5;241m+\u001b[39m filename): \u001b[43mregistry\u001b[49m\u001b[43m[\u001b[49m\u001b[38;5;124;43m'\u001b[39;49m\u001b[38;5;124;43mdata/\u001b[39;49m\u001b[38;5;124;43m'\u001b[39;49m\u001b[43m \u001b[49m\u001b[38;5;241;43m+\u001b[39;49m\u001b[43m \u001b[49m\u001b[43mfilename\u001b[49m\u001b[43m]\u001b[49m\n\u001b[0;32m    186\u001b[0m     \u001b[38;5;28;01mfor\u001b[39;00m filename \u001b[38;5;129;01min\u001b[39;00m legacy_datasets\n\u001b[0;32m    187\u001b[0m }\n",
      "\u001b[1;31mKeyError\u001b[0m: 'data/Carneroja'"
     ]
    }
   ],
   "source": [
    "import numpy as np\n",
    "import matplotlib.pyplot as plt\n",
    "from skimage.data import Carneroja\n",
    "from skimage.filters import threshold_otsu\n",
    "from skimage.segmentation import clear_border\n",
    "from skimage.morphology import label, closing, square\n",
    "from skimage.measure import regionprops\n",
    "from skimage.color import lab2rgb\n",
    "%matplotlib inline\n",
    "def show(img, cmap=None):\n",
    "    cmap = cmap or plt.cm.gray\n",
    "    fig, ax = plt.subplots(1, 1, figsize=(8, 6))\n",
    "    ax.imshow(img, cmap=cmap)\n",
    "    ax.set_axis_off()\n",
    "    plt.show()\n",
    "img = Carneroja()\n",
    "show(img)\n",
    "threshold_otsu(img)\n",
    "107\n",
    "show(img > 107)\n",
    "from ipywidgets import widgets\n",
    "\n",
    "@widgets.interact(t=(50, 240))\n",
    "def threshold(t):\n",
    "    img_bin = clear_border(closing(img > 120, square(5)))\n",
    "show(img_bin)\n",
    "show(img > t)\n",
    "\n",
    "labels = label(img_bin)\n",
    "show(labels, cmap=plt.cm.rainbow)\n",
    "regions = regionprops(labels)\n",
    "boxes = np.array([label['BoundingBox']\n",
    "                  for label in regions\n",
    "                  if label['Area'] > 100])\n",
    "print(f\"There are {len(boxes)} Carneroja.\")"
   ]
  },
  {
   "cell_type": "code",
   "execution_count": 22,
   "id": "b1639886",
   "metadata": {
    "pycharm": {
     "name": "#%%\n"
    }
   },
   "outputs": [
    {
     "name": "stdout",
     "output_type": "stream",
     "text": [
      "['test', 'train', '__MACOSX']\n"
     ]
    },
    {
     "ename": "ModuleNotFoundError",
     "evalue": "No module named 'tensorflow'",
     "output_type": "error",
     "traceback": [
      "\u001b[1;31m---------------------------------------------------------------------------\u001b[0m",
      "\u001b[1;31mModuleNotFoundError\u001b[0m                       Traceback (most recent call last)",
      "Input \u001b[1;32mIn [22]\u001b[0m, in \u001b[0;36m<cell line: 8>\u001b[1;34m()\u001b[0m\n\u001b[0;32m      6\u001b[0m \u001b[38;5;28;01mimport\u001b[39;00m \u001b[38;5;21;01mnumpy\u001b[39;00m \u001b[38;5;28;01mas\u001b[39;00m \u001b[38;5;21;01mnp\u001b[39;00m\n\u001b[0;32m      7\u001b[0m \u001b[38;5;28;01mimport\u001b[39;00m \u001b[38;5;21;01mpandas\u001b[39;00m \u001b[38;5;28;01mas\u001b[39;00m \u001b[38;5;21;01mpd\u001b[39;00m\n\u001b[1;32m----> 8\u001b[0m \u001b[38;5;28;01mfrom\u001b[39;00m \u001b[38;5;21;01mkeras\u001b[39;00m\u001b[38;5;21;01m.\u001b[39;00m\u001b[38;5;21;01mpreprocessing\u001b[39;00m\u001b[38;5;21;01m.\u001b[39;00m\u001b[38;5;21;01mimage\u001b[39;00m \u001b[38;5;28;01mimport\u001b[39;00m ImageDataGenerator\n\u001b[0;32m      9\u001b[0m \u001b[38;5;28;01mfrom\u001b[39;00m \u001b[38;5;21;01mkeras\u001b[39;00m\u001b[38;5;21;01m.\u001b[39;00m\u001b[38;5;21;01mpreprocessing\u001b[39;00m\u001b[38;5;21;01m.\u001b[39;00m\u001b[38;5;21;01mimage\u001b[39;00m \u001b[38;5;28;01mimport\u001b[39;00m img_to_array, load_img\n\u001b[0;32m     10\u001b[0m \u001b[38;5;28;01mfrom\u001b[39;00m \u001b[38;5;21;01mkeras\u001b[39;00m \u001b[38;5;28;01mimport\u001b[39;00m layers, models, optimizers\n",
      "File \u001b[1;32m~\\anaconda3\\lib\\site-packages\\keras\\__init__.py:21\u001b[0m, in \u001b[0;36m<module>\u001b[1;34m\u001b[0m\n\u001b[0;32m     15\u001b[0m \u001b[38;5;124;03m\"\"\"Implementation of the Keras API, the high-level API of TensorFlow.\u001b[39;00m\n\u001b[0;32m     16\u001b[0m \n\u001b[0;32m     17\u001b[0m \u001b[38;5;124;03mDetailed documentation and user guides are available at\u001b[39;00m\n\u001b[0;32m     18\u001b[0m \u001b[38;5;124;03m[keras.io](https://keras.io).\u001b[39;00m\n\u001b[0;32m     19\u001b[0m \u001b[38;5;124;03m\"\"\"\u001b[39;00m\n\u001b[0;32m     20\u001b[0m \u001b[38;5;66;03m# pylint: disable=unused-import\u001b[39;00m\n\u001b[1;32m---> 21\u001b[0m \u001b[38;5;28;01mfrom\u001b[39;00m \u001b[38;5;21;01mtensorflow\u001b[39;00m\u001b[38;5;21;01m.\u001b[39;00m\u001b[38;5;21;01mpython\u001b[39;00m \u001b[38;5;28;01mimport\u001b[39;00m tf2\n\u001b[0;32m     22\u001b[0m \u001b[38;5;28;01mfrom\u001b[39;00m \u001b[38;5;21;01mkeras\u001b[39;00m \u001b[38;5;28;01mimport\u001b[39;00m distribute\n\u001b[0;32m     24\u001b[0m \u001b[38;5;66;03m# See b/110718070#comment18 for more details about this import.\u001b[39;00m\n",
      "\u001b[1;31mModuleNotFoundError\u001b[0m: No module named 'tensorflow'"
     ]
    }
   ],
   "source": [
    "import os\n",
    "print(os.listdir(\"C:/Users/botnet/Downloads/Homework/CarneDataset/\"))\n",
    "import cv2\n",
    "import re\n",
    "import random\n",
    "import numpy as np\n",
    "import pandas as pd\n",
    "from keras.preprocessing.image import ImageDataGenerator\n",
    "from keras.preprocessing.image import img_to_array, load_img\n",
    "from keras import layers, models, optimizers\n",
    "from keras import backend as K\n",
    "from sklearn.model_selection import train_test_split\n",
    "img_width = 150\n",
    "img_height = 150\n",
    "TRAIN_DIR = '..C:/Users/botnet/Downloads/Homework/CarneDataset/train/CLASS_01, CLASS_02,  CLASS_03,  CLASS_04,  CLASS_05,  CLASS_06,  CLASS_07,  CLASS_08'\n",
    "TEST_DIR = '..C:/Users/botnet/Downloads/Homework/CarneDataset/test/CLASS_01, CLASS_02,  CLASS_03,  CLASS_04,  CLASS_05,  CLASS_06,  CLASS_07,  CLASS_08'\n",
    "#\"C:\\Users\\botnet\\Downloads\\Homework\\CarneDataset\\test\\CLASS_01\"\n",
    "train_images_carne_pollo = [TRAIN_DIR+i for i in os.listdir(TRAIN_DIR)] # use this for full dataset\n",
    "test_images_carne_pollo = [TEST_DIR+i for i in os.listdir(TEST_DIR)]\n",
    "def atoi(text):\n",
    "    return int(text) if text.isdigit() else text\n",
    "\n",
    "def natural_keys(text):\n",
    "    return [ atoi(c) for c in re.split('(\\d+)', text) ]\n",
    "train_images_carne_pollo.sort(key=natural_keys)\n",
    "train_images_carne_pollo = train_images_carne_pollo[0:13000] + train_images_carne_pollo[13500:23800] \n",
    "\n",
    "test_images_carne_pollo.sort(key=natural_keys)\n",
    "def prepare_data(list_of_images):\n",
    "    \"\"\"\n",
    "    Returns two arrays: \n",
    "        x is an array of resized images\n",
    "        y is an array of labels\n",
    "    \"\"\"\n",
    "    x = [] # images as arrays\n",
    "    y = [] # labels\n",
    "    \n",
    "    for image in list_of_images:\n",
    "        x.append(cv2.resize(cv2.imread(image), (img_width,img_height), interpolation=cv2.INTER_CUBIC))\n",
    "    \n",
    "    for i in list_of_images:\n",
    "        if 'carne' in i:\n",
    "            y.append(1)\n",
    "        elif 'pollo' in i:\n",
    "            y.append(0)\n",
    "        #else:\n",
    "            #print('neither cat nor dog name present in images')\n",
    "            \n",
    "    return x, y\n",
    "\n",
    "X, Y = prepare_data(train_images_carne_pollo)\n",
    "print(K.image_data_format())\n",
    "# First split the data in two sets, 80% for training, 20% for Val/Test)\n",
    "X_train, X_val, Y_train, Y_val = train_test_split(X,Y, test_size=0.2, random_state=1)\n",
    "\n",
    "nb_train_samples = len(X_train)\n",
    "nb_validation_samples = len(X_val)\n",
    "batch_size = 16"
   ]
  },
  {
   "cell_type": "code",
   "execution_count": null,
   "id": "df23f182",
   "metadata": {
    "pycharm": {
     "name": "#%%\n"
    }
   },
   "outputs": [],
   "source": [
    "import os\n",
    "print(os.listdir(\"C:/Users/botnet/Downloads/Homework/CarneDataset/test\"))"
   ]
  },
  {
   "cell_type": "code",
   "execution_count": null,
   "id": "72edcaab",
   "metadata": {
    "pycharm": {
     "name": "#%%\n"
    },
    "scrolled": true
   },
   "outputs": [],
   "source": [
    "import os\n",
    "\n",
    "train_dir_content = os.listdir(\"C:/Users/botnet/Downloads/Homework/CarneDataset/train/CLASS_02\")\n",
    "\n",
    "print(\"Number of Classes :\", len(train_dir_content))\n",
    "print(train_dir_content)"
   ]
  },
  {
   "cell_type": "code",
   "execution_count": 30,
   "id": "76ab79c1",
   "metadata": {
    "pycharm": {
     "name": "#%%\n"
    }
   },
   "outputs": [
    {
     "name": "stdout",
     "output_type": "stream",
     "text": [
      "Number of Classes : 63\n"
     ]
    },
    {
     "ename": "NotADirectoryError",
     "evalue": "[WinError 267] The directory name is invalid: 'C:/Users/botnet/Downloads/Homework/CarneDataset/train/CLASS_02\\\\05-CAPTURE_20220421_053523_498.png'",
     "output_type": "error",
     "traceback": [
      "\u001b[1;31m---------------------------------------------------------------------------\u001b[0m",
      "\u001b[1;31mNotADirectoryError\u001b[0m                        Traceback (most recent call last)",
      "Input \u001b[1;32mIn [30]\u001b[0m, in \u001b[0;36m<cell line: 9>\u001b[1;34m()\u001b[0m\n\u001b[0;32m      7\u001b[0m current_class_name \u001b[38;5;241m=\u001b[39m train_dir_content[\u001b[38;5;241m0\u001b[39m]\n\u001b[0;32m      8\u001b[0m class_dir \u001b[38;5;241m=\u001b[39m os\u001b[38;5;241m.\u001b[39mpath\u001b[38;5;241m.\u001b[39mjoin(\u001b[38;5;124m\"\u001b[39m\u001b[38;5;124mC:/Users/botnet/Downloads/Homework/CarneDataset/train/CLASS_02\u001b[39m\u001b[38;5;124m\"\u001b[39m, current_class_name)\n\u001b[1;32m----> 9\u001b[0m images_in_class \u001b[38;5;241m=\u001b[39m \u001b[43mos\u001b[49m\u001b[38;5;241;43m.\u001b[39;49m\u001b[43mlistdir\u001b[49m\u001b[43m(\u001b[49m\u001b[43mclass_dir\u001b[49m\u001b[43m)\u001b[49m\n\u001b[0;32m     11\u001b[0m \u001b[38;5;28mprint\u001b[39m(\u001b[38;5;124m\"\u001b[39m\u001b[38;5;124mNumber of Samples in Class Named\u001b[39m\u001b[38;5;124m\"\u001b[39m, current_class_name, \u001b[38;5;124m\"\u001b[39m\u001b[38;5;124m:\u001b[39m\u001b[38;5;124m\"\u001b[39m , \u001b[38;5;28mlen\u001b[39m(images_in_class))\n",
      "\u001b[1;31mNotADirectoryError\u001b[0m: [WinError 267] The directory name is invalid: 'C:/Users/botnet/Downloads/Homework/CarneDataset/train/CLASS_02\\\\05-CAPTURE_20220421_053523_498.png'"
     ]
    }
   ],
   "source": [
    "import os\n",
    "\n",
    "train_dir_content = os.listdir(\"C:/Users/botnet/Downloads/Homework/CarneDataset/train/CLASS_02\")\n",
    "\n",
    "print(\"Number of Classes :\", len(train_dir_content))\n",
    "\n",
    "current_class_name = train_dir_content[0]\n",
    "class_dir = os.path.join(\"C:/Users/botnet/Downloads/Homework/CarneDataset/train/CLASS_02\", current_class_name)\n",
    "images_in_class = os.listdir(class_dir)\n",
    "\n",
    "print(\"Number of Samples in Class Named\", current_class_name, \":\" , len(images_in_class))"
   ]
  },
  {
   "cell_type": "code",
   "execution_count": 10,
   "id": "b3f09132",
   "metadata": {
    "pycharm": {
     "name": "#%%\n"
    }
   },
   "outputs": [
    {
     "ename": "ModuleNotFoundError",
     "evalue": "No module named 'tensorflow'",
     "output_type": "error",
     "traceback": [
      "\u001b[1;31m---------------------------------------------------------------------------\u001b[0m",
      "\u001b[1;31mModuleNotFoundError\u001b[0m                       Traceback (most recent call last)",
      "Input \u001b[1;32mIn [10]\u001b[0m, in \u001b[0;36m<cell line: 2>\u001b[1;34m()\u001b[0m\n\u001b[0;32m      1\u001b[0m \u001b[38;5;28;01mimport\u001b[39;00m \u001b[38;5;21;01mnumpy\u001b[39;00m\n\u001b[1;32m----> 2\u001b[0m \u001b[38;5;28;01mimport\u001b[39;00m \u001b[38;5;21;01mkeras\u001b[39;00m\n\u001b[0;32m      3\u001b[0m \u001b[38;5;28;01mimport\u001b[39;00m \u001b[38;5;21;01mmatplotlib\u001b[39;00m\u001b[38;5;21;01m.\u001b[39;00m\u001b[38;5;21;01mpyplot\u001b[39;00m\n\u001b[0;32m      4\u001b[0m \u001b[38;5;28;01mimport\u001b[39;00m \u001b[38;5;21;01mos\u001b[39;00m\n",
      "File \u001b[1;32m~\\anaconda3\\lib\\site-packages\\keras\\__init__.py:21\u001b[0m, in \u001b[0;36m<module>\u001b[1;34m\u001b[0m\n\u001b[0;32m     15\u001b[0m \u001b[38;5;124;03m\"\"\"Implementation of the Keras API, the high-level API of TensorFlow.\u001b[39;00m\n\u001b[0;32m     16\u001b[0m \n\u001b[0;32m     17\u001b[0m \u001b[38;5;124;03mDetailed documentation and user guides are available at\u001b[39;00m\n\u001b[0;32m     18\u001b[0m \u001b[38;5;124;03m[keras.io](https://keras.io).\u001b[39;00m\n\u001b[0;32m     19\u001b[0m \u001b[38;5;124;03m\"\"\"\u001b[39;00m\n\u001b[0;32m     20\u001b[0m \u001b[38;5;66;03m# pylint: disable=unused-import\u001b[39;00m\n\u001b[1;32m---> 21\u001b[0m \u001b[38;5;28;01mfrom\u001b[39;00m \u001b[38;5;21;01mtensorflow\u001b[39;00m\u001b[38;5;21;01m.\u001b[39;00m\u001b[38;5;21;01mpython\u001b[39;00m \u001b[38;5;28;01mimport\u001b[39;00m tf2\n\u001b[0;32m     22\u001b[0m \u001b[38;5;28;01mfrom\u001b[39;00m \u001b[38;5;21;01mkeras\u001b[39;00m \u001b[38;5;28;01mimport\u001b[39;00m distribute\n\u001b[0;32m     24\u001b[0m \u001b[38;5;66;03m# See b/110718070#comment18 for more details about this import.\u001b[39;00m\n",
      "\u001b[1;31mModuleNotFoundError\u001b[0m: No module named 'tensorflow'"
     ]
    }
   ],
   "source": [
    "import numpy\n",
    "import keras\n",
    "import matplotlib.pyplot\n",
    "import os\n",
    "\n",
    "train_dir_content = os.listdir(\"C:/Users/botnet/Downloads/Homework/CarneDataset/train/CLASS_02\")\n",
    "\n",
    "print(\"Number of Classes :\", len(train_dir_content))\n",
    "\n",
    "current_class_name = train_dir_content[0]\n",
    "class_dir = os.path.join(\"C:/Users/botnet/Downloads/Homework/CarneDataset/train/CLASS_02\", current_class_name)\n",
    "images_in_class = os.listdir(class_dir)\n",
    "\n",
    "print(\"Number of Samples in Class Named\", current_class_name, \":\" , len(images_in_class))\n",
    "\n",
    "print(\"Number of Samples in Class Named\", current_class_name, \":\" , len(images_in_class))\n",
    "\n",
    "image_file_dir = os.path.join(class_dir, images_in_class[0])\n",
    "\n",
    "print(\"Image Directory:\", image_file_dir)\n",
    "\n",
    "img = keras.preprocessing.image.load_img(image_file_dir)\n",
    "img_array = keras.preprocessing.image.img_to_array(img)\n",
    "\n",
    "print(img_array.shape, img_array.dtype)\n",
    "\n",
    "img_array = img_array/255.0\n",
    "\n",
    "matplotlib.pyplot.imshow(img_array)\n",
    "matplotlib.pyplot.show()"
   ]
  },
  {
   "cell_type": "code",
   "execution_count": null,
   "id": "a16f1f8a",
   "metadata": {
    "pycharm": {
     "is_executing": true,
     "name": "#%%\n"
    }
   },
   "outputs": [],
   "source": [
    "import numpy\n",
    "import keras\n",
    "import os\n",
    "import tensorflow as tf\n",
    "from tensorflow.python import tf2\n",
    "from keras import distribute\n",
    "\n",
    "\n",
    "train_dir_content = os.listdir(\"C:/Users/botnet/Downloads/Homework/CarneDataset/Train\")\n",
    "\n",
    "print(\"Number of Classes :\", len(train_dir_content))\n",
    "\n",
    "dataset_array = []\n",
    "\n",
    "for current_class_name in train_dir_content:\n",
    "\n",
    "    class_dir = os.path.join(\"C:/Users/botnet/Downloads/Homework/CarneDataset/Train\", current_class_name)\n",
    "    images_in_class = os.listdir(class_dir)\n",
    "\n",
    "    print(\"Number of Samples in Class Named\", current_class_name, \":\", len(images_in_class))\n",
    "\n",
    "    for image_file in images_in_class:\n",
    "        if image_file.endswith(\".jpg\"):\n",
    "            image_file_dir = os.path.join(class_dir, image_file)\n",
    "\n",
    "            img = keras.preprocessing.image.load_img(image_file_dir)\n",
    "            img_array = keras.preprocessing.image.img_to_array(img)\n",
    "\n",
    "            img_array = img_array / 255.0\n",
    "            dataset_array.append(img_array)\n",
    "\n",
    "dataset_array = numpy.array(dataset_array)\n",
    "print(\"Training Data Array Shape :\", dataset_array.shape)"
   ]
  },
  {
   "cell_type": "code",
   "execution_count": null,
   "id": "d8fc59b6",
   "metadata": {
    "pycharm": {
     "name": "#%%\n"
    }
   },
   "outputs": [],
   "source": []
  }
 ],
 "metadata": {
  "kernelspec": {
   "display_name": "Python 3 (ipykernel)",
   "language": "python",
   "name": "python3"
  },
  "language_info": {
   "codemirror_mode": {
    "name": "ipython",
    "version": 3
   },
   "file_extension": ".py",
   "mimetype": "text/x-python",
   "name": "python",
   "nbconvert_exporter": "python",
   "pygments_lexer": "ipython3",
   "version": "3.9.12"
  }
 },
 "nbformat": 4,
 "nbformat_minor": 5
}
