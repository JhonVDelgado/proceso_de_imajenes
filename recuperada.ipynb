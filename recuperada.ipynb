{
 "cells": [
  {
   "cell_type": "code",
   "execution_count": 1,
   "metadata": {
    "pycharm": {
     "name": "#%%\n"
    }
   },
   "outputs": [
    {
     "name": "stdout",
     "output_type": "stream",
     "text": [
      "['test', 'test.csv', 'train', 'train.csv', 'train1.csv', '__MACOSX']\n"
     ]
    }
   ],
   "source": [
    "import os\n",
    "print(os.listdir(\"C:/Users/botnet/Downloads/Homework/CarneDataset\"))"
   ]
  },
  {
   "cell_type": "code",
   "execution_count": 1,
   "metadata": {
    "pycharm": {
     "name": "#%%\n"
    }
   },
   "outputs": [
    {
     "name": "stdout",
     "output_type": "stream",
     "text": [
      "['.DS_Store', 'CLASS_01', 'CLASS_02', 'CLASS_03', 'CLASS_04', 'CLASS_05', 'CLASS_06', 'CLASS_07', 'CLASS_08', 'CSV']\n"
     ]
    },
    {
     "ename": "ModuleNotFoundError",
     "evalue": "No module named 'tensorflow'",
     "output_type": "error",
     "traceback": [
      "\u001B[1;31m---------------------------------------------------------------------------\u001B[0m",
      "\u001B[1;31mModuleNotFoundError\u001B[0m                       Traceback (most recent call last)",
      "Input \u001B[1;32mIn [1]\u001B[0m, in \u001B[0;36m<cell line: 3>\u001B[1;34m()\u001B[0m\n\u001B[0;32m      1\u001B[0m \u001B[38;5;28;01mimport\u001B[39;00m \u001B[38;5;21;01mos\u001B[39;00m\n\u001B[0;32m      2\u001B[0m \u001B[38;5;28mprint\u001B[39m(os\u001B[38;5;241m.\u001B[39mlistdir(\u001B[38;5;124m\"\u001B[39m\u001B[38;5;124mC:/Users/botnet/Downloads/Homework/CarneDataset/train\u001B[39m\u001B[38;5;124m\"\u001B[39m))\n\u001B[1;32m----> 3\u001B[0m \u001B[38;5;28;01mimport\u001B[39;00m \u001B[38;5;21;01mtensorflow\u001B[39;00m \u001B[38;5;28;01mas\u001B[39;00m \u001B[38;5;21;01mtf\u001B[39;00m\n\u001B[0;32m      4\u001B[0m \u001B[38;5;28;01mimport\u001B[39;00m \u001B[38;5;21;01mtensorflow\u001B[39;00m \u001B[38;5;28;01mas\u001B[39;00m \u001B[38;5;21;01mtf\u001B[39;00m\n\u001B[0;32m      5\u001B[0m I\u001B[38;5;241m.\u001B[39m metadato \u001B[38;5;241m=\u001B[39m tdfs\u001B[38;5;241m.\u001B[39mload (\u001B[38;5;124m\"\u001B[39m\u001B[38;5;124mC:/Users/botnet/Downloads/Homework/CarneDataset/train\u001B[39m\u001B[38;5;124m\"\u001B[39m, as_supervised\u001B[38;5;241m=\u001B[39m\u001B[38;5;28;01mTrue\u001B[39;00m, with_info\u001B[38;5;241m=\u001B[39m\u001B[38;5;28;01mTrue\u001B[39;00m)\n",
      "\u001B[1;31mModuleNotFoundError\u001B[0m: No module named 'tensorflow'"
     ]
    }
   ],
   "source": [
    "import os\n",
    "print(os.listdir(\"C:/Users/botnet/Downloads/Homework/CarneDataset/train\"))\n",
    "import tensorflow as tf\n",
    "import tensorflow as tf\n",
    "I. metadato = tf.load (\"C:/Users/botnet/Downloads/Homework/CarneDataset/train/Class_05\", as_supervised=True, with_info=True)\n",
    "metadato\n",
    "import matplotlib.pyplot as plt\n",
    "for i, (image, etiqueta) in enumerate(data['train'].take(2)):\n",
    "  plt.imshow(image)"
   ]
  },
  {
   "cell_type": "code",
   "execution_count": 2,
   "metadata": {
    "pycharm": {
     "name": "#%%\n"
    }
   },
   "outputs": [],
   "source": [
    "from PIL import Image\n",
    "import numpy as np\n",
    "\n",
    "im = np.array(Image.open('C:/Users/botnet/Downloads/Homework/CarneDataset/train/CLASS_02/Carneroja.png'))\n",
    "\n",
    "im_R = im.copy()\n",
    "im_R[:, :, (1, 2)] = 0\n",
    "im_G = im.copy()\n",
    "im_G[:, :, (0, 2)] = 0\n",
    "im_B = im.copy()\n",
    "im_B[:, :, (0, 1)] = 0\n",
    "\n",
    "im_RGB = np.concatenate((im_R, im_G, im_B), axis=1)\n",
    "\n",
    "pil_img = Image.fromarray(im_RGB)\n",
    "#pil_img.save('carneprocesada2.jpg')"
   ]
  },
  {
   "cell_type": "code",
   "execution_count": 3,
   "metadata": {
    "pycharm": {
     "name": "#%%\n"
    }
   },
   "outputs": [
    {
     "ename": "FileNotFoundError",
     "evalue": "[Errno 2] No such file or directory: 'C:/Users/botnet/Downloads/Homework/CarneDataset/train/CLASS_02/Carneroja.png'",
     "output_type": "error",
     "traceback": [
      "\u001B[1;31m---------------------------------------------------------------------------\u001B[0m",
      "\u001B[1;31mFileNotFoundError\u001B[0m                         Traceback (most recent call last)",
      "Input \u001B[1;32mIn [3]\u001B[0m, in \u001B[0;36m<cell line: 4>\u001B[1;34m()\u001B[0m\n\u001B[0;32m      1\u001B[0m \u001B[38;5;28;01mfrom\u001B[39;00m \u001B[38;5;21;01mPIL\u001B[39;00m \u001B[38;5;28;01mimport\u001B[39;00m Image\n\u001B[0;32m      2\u001B[0m \u001B[38;5;28;01mimport\u001B[39;00m \u001B[38;5;21;01mnumpy\u001B[39;00m \u001B[38;5;28;01mas\u001B[39;00m \u001B[38;5;21;01mnp\u001B[39;00m\n\u001B[1;32m----> 4\u001B[0m im \u001B[38;5;241m=\u001B[39m np\u001B[38;5;241m.\u001B[39marray(\u001B[43mImage\u001B[49m\u001B[38;5;241;43m.\u001B[39;49m\u001B[43mopen\u001B[49m\u001B[43m(\u001B[49m\u001B[38;5;124;43m'\u001B[39;49m\u001B[38;5;124;43mC:/Users/botnet/Downloads/Homework/CarneDataset/train/CLASS_02/Carneroja.png\u001B[39;49m\u001B[38;5;124;43m'\u001B[39;49m\u001B[43m)\u001B[49m)\n\u001B[0;32m      6\u001B[0m im_R \u001B[38;5;241m=\u001B[39m im\u001B[38;5;241m.\u001B[39mcopy()\n\u001B[0;32m      7\u001B[0m im_R[:, :, (\u001B[38;5;241m1\u001B[39m, \u001B[38;5;241m2\u001B[39m)] \u001B[38;5;241m=\u001B[39m \u001B[38;5;241m0\u001B[39m\n",
      "File \u001B[1;32m~\\anaconda3\\envs\\Homework\\lib\\site-packages\\PIL\\Image.py:3092\u001B[0m, in \u001B[0;36mopen\u001B[1;34m(fp, mode, formats)\u001B[0m\n\u001B[0;32m   3089\u001B[0m     filename \u001B[38;5;241m=\u001B[39m fp\n\u001B[0;32m   3091\u001B[0m \u001B[38;5;28;01mif\u001B[39;00m filename:\n\u001B[1;32m-> 3092\u001B[0m     fp \u001B[38;5;241m=\u001B[39m \u001B[43mbuiltins\u001B[49m\u001B[38;5;241;43m.\u001B[39;49m\u001B[43mopen\u001B[49m\u001B[43m(\u001B[49m\u001B[43mfilename\u001B[49m\u001B[43m,\u001B[49m\u001B[43m \u001B[49m\u001B[38;5;124;43m\"\u001B[39;49m\u001B[38;5;124;43mrb\u001B[39;49m\u001B[38;5;124;43m\"\u001B[39;49m\u001B[43m)\u001B[49m\n\u001B[0;32m   3093\u001B[0m     exclusive_fp \u001B[38;5;241m=\u001B[39m \u001B[38;5;28;01mTrue\u001B[39;00m\n\u001B[0;32m   3095\u001B[0m \u001B[38;5;28;01mtry\u001B[39;00m:\n",
      "\u001B[1;31mFileNotFoundError\u001B[0m: [Errno 2] No such file or directory: 'C:/Users/botnet/Downloads/Homework/CarneDataset/train/CLASS_02/Carneroja.png'"
     ]
    }
   ],
   "source": [
    "from PIL import Image\n",
    "import numpy as np\n",
    "\n",
    "im = np.array(Image.open('C:/Users/botnet/Downloads/Homework/CarneDataset/train/CLASS_02/Carneroja.png'))\n",
    "\n",
    "im_R = im.copy()\n",
    "im_R[:, :, (1, 2)] = 0\n",
    "im_G = im.copy()\n",
    "im_G[:, :, (0, 2)] = 0\n",
    "im_B = im.copy()\n",
    "im_B[:, :, (0, 1)] = 0\n",
    "\n",
    "im_RGB = np.concatenate((im_R, im_G, im_B), axis=1)\n",
    "\n",
    "pil_img = Image.fromarray(im_RGB)\n",
    "pil_img.save('Carneroja2.png')"
   ]
  },
  {
   "cell_type": "code",
   "execution_count": 4,
   "metadata": {
    "pycharm": {
     "name": "#%%\n"
    }
   },
   "outputs": [
    {
     "ename": "FileNotFoundError",
     "evalue": "[Errno 2] No such file or directory: 'C:/Users/botnet/Downloads/Homework/CarneDataset/train/CLASS_02/Carneroja.png'",
     "output_type": "error",
     "traceback": [
      "\u001B[1;31m---------------------------------------------------------------------------\u001B[0m",
      "\u001B[1;31mFileNotFoundError\u001B[0m                         Traceback (most recent call last)",
      "Input \u001B[1;32mIn [4]\u001B[0m, in \u001B[0;36m<cell line: 4>\u001B[1;34m()\u001B[0m\n\u001B[0;32m      1\u001B[0m \u001B[38;5;28;01mfrom\u001B[39;00m \u001B[38;5;21;01mPIL\u001B[39;00m \u001B[38;5;28;01mimport\u001B[39;00m Image\n\u001B[0;32m      2\u001B[0m \u001B[38;5;28;01mimport\u001B[39;00m \u001B[38;5;21;01mnumpy\u001B[39;00m \u001B[38;5;28;01mas\u001B[39;00m \u001B[38;5;21;01mnp\u001B[39;00m\n\u001B[1;32m----> 4\u001B[0m im \u001B[38;5;241m=\u001B[39m np\u001B[38;5;241m.\u001B[39marray(\u001B[43mImage\u001B[49m\u001B[38;5;241;43m.\u001B[39;49m\u001B[43mopen\u001B[49m\u001B[43m(\u001B[49m\u001B[38;5;124;43m'\u001B[39;49m\u001B[38;5;124;43mC:/Users/botnet/Downloads/Homework/CarneDataset/train/CLASS_02/Carneroja.png\u001B[39;49m\u001B[38;5;124;43m'\u001B[39;49m\u001B[43m)\u001B[49m)\n\u001B[0;32m      6\u001B[0m im_R \u001B[38;5;241m=\u001B[39m im\u001B[38;5;241m.\u001B[39mcopy()\n\u001B[0;32m      7\u001B[0m im_R[:, :, (\u001B[38;5;241m1\u001B[39m, \u001B[38;5;241m2\u001B[39m)] \u001B[38;5;241m=\u001B[39m \u001B[38;5;241m0\u001B[39m\n",
      "File \u001B[1;32m~\\anaconda3\\envs\\Homework\\lib\\site-packages\\PIL\\Image.py:3092\u001B[0m, in \u001B[0;36mopen\u001B[1;34m(fp, mode, formats)\u001B[0m\n\u001B[0;32m   3089\u001B[0m     filename \u001B[38;5;241m=\u001B[39m fp\n\u001B[0;32m   3091\u001B[0m \u001B[38;5;28;01mif\u001B[39;00m filename:\n\u001B[1;32m-> 3092\u001B[0m     fp \u001B[38;5;241m=\u001B[39m \u001B[43mbuiltins\u001B[49m\u001B[38;5;241;43m.\u001B[39;49m\u001B[43mopen\u001B[49m\u001B[43m(\u001B[49m\u001B[43mfilename\u001B[49m\u001B[43m,\u001B[49m\u001B[43m \u001B[49m\u001B[38;5;124;43m\"\u001B[39;49m\u001B[38;5;124;43mrb\u001B[39;49m\u001B[38;5;124;43m\"\u001B[39;49m\u001B[43m)\u001B[49m\n\u001B[0;32m   3093\u001B[0m     exclusive_fp \u001B[38;5;241m=\u001B[39m \u001B[38;5;28;01mTrue\u001B[39;00m\n\u001B[0;32m   3095\u001B[0m \u001B[38;5;28;01mtry\u001B[39;00m:\n",
      "\u001B[1;31mFileNotFoundError\u001B[0m: [Errno 2] No such file or directory: 'C:/Users/botnet/Downloads/Homework/CarneDataset/train/CLASS_02/Carneroja.png'"
     ]
    }
   ],
   "source": [
    "from PIL import Image\n",
    "import numpy as np\n",
    "\n",
    "im = np.array(Image.open('C:/Users/botnet/Downloads/Homework/CarneDataset/train/CLASS_02/Carneroja.png'))\n",
    "\n",
    "im_R = im.copy()\n",
    "im_R[:, :, (1, 2)] = 0\n",
    "im_G = im.copy()\n",
    "from PIL import Image\n",
    "import numpy as np\n",
    "\n",
    "im = np.array(Image.open('C:/Users/botnet/Downloads/Homework/CarneDataset/train/CLASS_02/Carneroja.png'))\n",
    "\n",
    "im_R = im.copy()\n",
    "im_R[:, :, (1, 2)] = 0\n",
    "im_G = im.copy()\n",
    "im_G[:, :, (0, 2)] = 0\n",
    "im_B = im.copy()\n",
    "im_B[:, :, (0, 1)] = 0\n",
    "\n",
    "im_RGB = np.concatenate((im_R, im_G, im_B), axis=1)\n",
    "\n",
    "pil_img = Image.fromarray(im_RGB)\n",
    "pil_img.save('Carneroja1.png')\n",
    "\n",
    "im_G[:, :, (0, 2)] = 0\n",
    "im_B = im.copy()\n",
    "im_B[:, :, (0, 1)] = 0\n",
    "\n",
    "im_RGB = np.concatenate((im_R, im_G, im_B), axis=1)\n",
    "\n",
    "pil_img = Image.fromarray(im_RGB)\n",
    "pil_img.save('Carneroja1.png')"
   ]
  },
  {
   "cell_type": "code",
   "execution_count": 5,
   "metadata": {
    "pycharm": {
     "name": "#%%\n"
    }
   },
   "outputs": [],
   "source": [
    "from PIL import Image\n",
    "import numpy as np\n",
    "from matplotlib import pyplot as plt"
   ]
  },
  {
   "cell_type": "code",
   "execution_count": 6,
   "metadata": {
    "pycharm": {
     "name": "#%%\n"
    }
   },
   "outputs": [
    {
     "ename": "FileNotFoundError",
     "evalue": "[Errno 2] No such file or directory: 'C:/Users/botnet/Downloads/Homework/CarneDataset/train/CLASS_02/Carneroja.png'",
     "output_type": "error",
     "traceback": [
      "\u001B[1;31m---------------------------------------------------------------------------\u001B[0m",
      "\u001B[1;31mFileNotFoundError\u001B[0m                         Traceback (most recent call last)",
      "Input \u001B[1;32mIn [6]\u001B[0m, in \u001B[0;36m<cell line: 1>\u001B[1;34m()\u001B[0m\n\u001B[1;32m----> 1\u001B[0m im \u001B[38;5;241m=\u001B[39m \u001B[43mImage\u001B[49m\u001B[38;5;241;43m.\u001B[39;49m\u001B[43mopen\u001B[49m\u001B[43m(\u001B[49m\u001B[38;5;124;43m'\u001B[39;49m\u001B[38;5;124;43mC:/Users/botnet/Downloads/Homework/CarneDataset/train/CLASS_02/Carneroja.png\u001B[39;49m\u001B[38;5;124;43m'\u001B[39;49m\u001B[43m)\u001B[49m\n\u001B[0;32m      2\u001B[0m \u001B[38;5;28mprint\u001B[39m(im\u001B[38;5;241m.\u001B[39mformat)\n\u001B[0;32m      3\u001B[0m \u001B[38;5;28mprint\u001B[39m(im\u001B[38;5;241m.\u001B[39msize)\n",
      "File \u001B[1;32m~\\anaconda3\\envs\\Homework\\lib\\site-packages\\PIL\\Image.py:3092\u001B[0m, in \u001B[0;36mopen\u001B[1;34m(fp, mode, formats)\u001B[0m\n\u001B[0;32m   3089\u001B[0m     filename \u001B[38;5;241m=\u001B[39m fp\n\u001B[0;32m   3091\u001B[0m \u001B[38;5;28;01mif\u001B[39;00m filename:\n\u001B[1;32m-> 3092\u001B[0m     fp \u001B[38;5;241m=\u001B[39m \u001B[43mbuiltins\u001B[49m\u001B[38;5;241;43m.\u001B[39;49m\u001B[43mopen\u001B[49m\u001B[43m(\u001B[49m\u001B[43mfilename\u001B[49m\u001B[43m,\u001B[49m\u001B[43m \u001B[49m\u001B[38;5;124;43m\"\u001B[39;49m\u001B[38;5;124;43mrb\u001B[39;49m\u001B[38;5;124;43m\"\u001B[39;49m\u001B[43m)\u001B[49m\n\u001B[0;32m   3093\u001B[0m     exclusive_fp \u001B[38;5;241m=\u001B[39m \u001B[38;5;28;01mTrue\u001B[39;00m\n\u001B[0;32m   3095\u001B[0m \u001B[38;5;28;01mtry\u001B[39;00m:\n",
      "\u001B[1;31mFileNotFoundError\u001B[0m: [Errno 2] No such file or directory: 'C:/Users/botnet/Downloads/Homework/CarneDataset/train/CLASS_02/Carneroja.png'"
     ]
    }
   ],
   "source": [
    "im = Image.open('C:/Users/botnet/Downloads/Homework/CarneDataset/train/CLASS_02/Carneroja.png')\n",
    "print(im.format)\n",
    "print(im.size)\n",
    "print(im.mode)\n",
    "im"
   ]
  },
  {
   "cell_type": "code",
   "execution_count": 7,
   "metadata": {
    "pycharm": {
     "name": "#%%\n"
    }
   },
   "outputs": [
    {
     "ename": "FileNotFoundError",
     "evalue": "[Errno 2] No such file or directory: 'C:/Users/botnet/Downloads/Homework/CarneDataset/train/CLASS_02/Carneroja.png'",
     "output_type": "error",
     "traceback": [
      "\u001B[1;31m---------------------------------------------------------------------------\u001B[0m",
      "\u001B[1;31mFileNotFoundError\u001B[0m                         Traceback (most recent call last)",
      "Input \u001B[1;32mIn [7]\u001B[0m, in \u001B[0;36m<cell line: 1>\u001B[1;34m()\u001B[0m\n\u001B[1;32m----> 1\u001B[0m foto \u001B[38;5;241m=\u001B[39m \u001B[43mImage\u001B[49m\u001B[38;5;241;43m.\u001B[39;49m\u001B[43mopen\u001B[49m\u001B[43m(\u001B[49m\u001B[38;5;124;43m'\u001B[39;49m\u001B[38;5;124;43mC:/Users/botnet/Downloads/Homework/CarneDataset/train/CLASS_02/Carneroja.png\u001B[39;49m\u001B[38;5;124;43m'\u001B[39;49m\u001B[43m)\u001B[49m\n\u001B[0;32m      2\u001B[0m foto\n\u001B[0;32m      3\u001B[0m foto_gris \u001B[38;5;241m=\u001B[39m foto\u001B[38;5;241m.\u001B[39mconvert(\u001B[38;5;124m'\u001B[39m\u001B[38;5;124mL\u001B[39m\u001B[38;5;124m'\u001B[39m)\n",
      "File \u001B[1;32m~\\anaconda3\\envs\\Homework\\lib\\site-packages\\PIL\\Image.py:3092\u001B[0m, in \u001B[0;36mopen\u001B[1;34m(fp, mode, formats)\u001B[0m\n\u001B[0;32m   3089\u001B[0m     filename \u001B[38;5;241m=\u001B[39m fp\n\u001B[0;32m   3091\u001B[0m \u001B[38;5;28;01mif\u001B[39;00m filename:\n\u001B[1;32m-> 3092\u001B[0m     fp \u001B[38;5;241m=\u001B[39m \u001B[43mbuiltins\u001B[49m\u001B[38;5;241;43m.\u001B[39;49m\u001B[43mopen\u001B[49m\u001B[43m(\u001B[49m\u001B[43mfilename\u001B[49m\u001B[43m,\u001B[49m\u001B[43m \u001B[49m\u001B[38;5;124;43m\"\u001B[39;49m\u001B[38;5;124;43mrb\u001B[39;49m\u001B[38;5;124;43m\"\u001B[39;49m\u001B[43m)\u001B[49m\n\u001B[0;32m   3093\u001B[0m     exclusive_fp \u001B[38;5;241m=\u001B[39m \u001B[38;5;28;01mTrue\u001B[39;00m\n\u001B[0;32m   3095\u001B[0m \u001B[38;5;28;01mtry\u001B[39;00m:\n",
      "\u001B[1;31mFileNotFoundError\u001B[0m: [Errno 2] No such file or directory: 'C:/Users/botnet/Downloads/Homework/CarneDataset/train/CLASS_02/Carneroja.png'"
     ]
    }
   ],
   "source": [
    "foto = Image.open('C:/Users/botnet/Downloads/Homework/CarneDataset/train/CLASS_02/Carneroja.png')\n",
    "foto\n",
    "foto_gris = foto.convert('L')\n",
    "foto_gris\n"
   ]
  },
  {
   "cell_type": "code",
   "execution_count": 8,
   "metadata": {
    "pycharm": {
     "name": "#%%\n"
    }
   },
   "outputs": [
    {
     "ename": "IndexError",
     "evalue": "list index out of range",
     "output_type": "error",
     "traceback": [
      "\u001B[1;31m---------------------------------------------------------------------------\u001B[0m",
      "\u001B[1;31mIndexError\u001B[0m                                Traceback (most recent call last)",
      "Input \u001B[1;32mIn [8]\u001B[0m, in \u001B[0;36m<cell line: 25>\u001B[1;34m()\u001B[0m\n\u001B[0;32m     23\u001B[0m image_paths_list\n\u001B[0;32m     24\u001B[0m \u001B[38;5;66;03m# open first image in our list\u001B[39;00m\n\u001B[1;32m---> 25\u001B[0m image \u001B[38;5;241m=\u001B[39m Image\u001B[38;5;241m.\u001B[39mopen(\u001B[43mimage_paths_list\u001B[49m\u001B[43m[\u001B[49m\u001B[38;5;241;43m0\u001B[39;49m\u001B[43m]\u001B[49m) \u001B[38;5;66;03m# list slicing\u001B[39;00m\n\u001B[0;32m     26\u001B[0m \u001B[38;5;66;03m# show image\u001B[39;00m\n\u001B[0;32m     27\u001B[0m plt\u001B[38;5;241m.\u001B[39mimshow(image)\n",
      "\u001B[1;31mIndexError\u001B[0m: list index out of range"
     ]
    }
   ],
   "source": [
    "image_directory = 'C:/Users/botnet/Downloads/Homework/CarneDataset/train/CLASS_02';\n",
    "from pathlib import Path\n",
    "from PIL import Image\n",
    "import matplotlib.pyplot as plt\n",
    "#import im.img_qc as img_qc\n",
    "%matplotlib inline\n",
    "# parameters for matplotlib to increase our default figure size -- NOTE: figure sizes are in INCHES\n",
    "plt.rcParams[\"figure.figsize\"] = (100,100) # set as needed for your screen and eyes\n",
    "# on a high-dpi monitor this will increase the quality of plots on-screen\n",
    "%config InlineBackend.figure_format = 'retina'\n",
    "# get image_paths for PNG images\n",
    "image_paths = Path(image_directory).glob('*.png')\n",
    "image_paths\n",
    "# get image_paths list\n",
    "image_paths_list = list(image_paths)\n",
    "image_paths_list\n",
    "# try to get sorted image_paths list\n",
    "image_paths_list = sorted(image_paths)\n",
    "image_paths_list\n",
    "# get image_paths for TIFF images\n",
    "image_paths = Path(image_directory).glob('*.png')\n",
    "image_paths_list = sorted(image_paths)\n",
    "image_paths_list\n",
    "# open first image in our list\n",
    "image = Image.open(image_paths_list[0]) # list slicing\n",
    "# show image\n",
    "plt.imshow(image)\n"
   ]
  },
  {
   "cell_type": "code",
   "execution_count": 9,
   "metadata": {
    "pycharm": {
     "name": "#%%\n"
    }
   },
   "outputs": [
    {
     "ename": "FileNotFoundError",
     "evalue": "[Errno 2] No such file or directory: 'C:/Users/botnet/Downloads/Homework/CarneDataset/train/CLASS_02/Carneroja.png'",
     "output_type": "error",
     "traceback": [
      "\u001B[1;31m---------------------------------------------------------------------------\u001B[0m",
      "\u001B[1;31mFileNotFoundError\u001B[0m                         Traceback (most recent call last)",
      "Input \u001B[1;32mIn [9]\u001B[0m, in \u001B[0;36m<cell line: 5>\u001B[1;34m()\u001B[0m\n\u001B[0;32m      2\u001B[0m \u001B[38;5;28;01mfrom\u001B[39;00m \u001B[38;5;21;01mmatplotlib\u001B[39;00m\u001B[38;5;21;01m.\u001B[39;00m\u001B[38;5;21;01mimage\u001B[39;00m \u001B[38;5;28;01mimport\u001B[39;00m imread\n\u001B[0;32m      4\u001B[0m \u001B[38;5;66;03m# Importing the image\u001B[39;00m\n\u001B[1;32m----> 5\u001B[0m I \u001B[38;5;241m=\u001B[39m \u001B[43mimread\u001B[49m\u001B[43m(\u001B[49m\u001B[38;5;124;43m\"\u001B[39;49m\u001B[38;5;124;43mC:/Users/botnet/Downloads/Homework/CarneDataset/train/CLASS_02/Carneroja.png\u001B[39;49m\u001B[38;5;124;43m\"\u001B[39;49m\u001B[43m)\u001B[49m;\n\u001B[0;32m      6\u001B[0m subplot(\u001B[38;5;241m2\u001B[39m, \u001B[38;5;241m3\u001B[39m, \u001B[38;5;241m1\u001B[39m),\n\u001B[0;32m      7\u001B[0m imshow(I);\n",
      "File \u001B[1;32m~\\anaconda3\\envs\\Homework\\lib\\site-packages\\matplotlib\\image.py:1560\u001B[0m, in \u001B[0;36mimread\u001B[1;34m(fname, format)\u001B[0m\n\u001B[0;32m   1558\u001B[0m                 response \u001B[38;5;241m=\u001B[39m io\u001B[38;5;241m.\u001B[39mBytesIO(response\u001B[38;5;241m.\u001B[39mread())\n\u001B[0;32m   1559\u001B[0m             \u001B[38;5;28;01mreturn\u001B[39;00m imread(response, \u001B[38;5;28mformat\u001B[39m\u001B[38;5;241m=\u001B[39mext)\n\u001B[1;32m-> 1560\u001B[0m \u001B[38;5;28;01mwith\u001B[39;00m \u001B[43mimg_open\u001B[49m\u001B[43m(\u001B[49m\u001B[43mfname\u001B[49m\u001B[43m)\u001B[49m \u001B[38;5;28;01mas\u001B[39;00m image:\n\u001B[0;32m   1561\u001B[0m     \u001B[38;5;28;01mreturn\u001B[39;00m (_pil_png_to_float_array(image)\n\u001B[0;32m   1562\u001B[0m             \u001B[38;5;28;01mif\u001B[39;00m \u001B[38;5;28misinstance\u001B[39m(image, PIL\u001B[38;5;241m.\u001B[39mPngImagePlugin\u001B[38;5;241m.\u001B[39mPngImageFile) \u001B[38;5;28;01melse\u001B[39;00m\n\u001B[0;32m   1563\u001B[0m             pil_to_array(image))\n",
      "File \u001B[1;32m~\\anaconda3\\envs\\Homework\\lib\\site-packages\\PIL\\ImageFile.py:104\u001B[0m, in \u001B[0;36mImageFile.__init__\u001B[1;34m(self, fp, filename)\u001B[0m\n\u001B[0;32m    100\u001B[0m \u001B[38;5;28mself\u001B[39m\u001B[38;5;241m.\u001B[39mdecodermaxblock \u001B[38;5;241m=\u001B[39m MAXBLOCK\n\u001B[0;32m    102\u001B[0m \u001B[38;5;28;01mif\u001B[39;00m is_path(fp):\n\u001B[0;32m    103\u001B[0m     \u001B[38;5;66;03m# filename\u001B[39;00m\n\u001B[1;32m--> 104\u001B[0m     \u001B[38;5;28mself\u001B[39m\u001B[38;5;241m.\u001B[39mfp \u001B[38;5;241m=\u001B[39m \u001B[38;5;28;43mopen\u001B[39;49m\u001B[43m(\u001B[49m\u001B[43mfp\u001B[49m\u001B[43m,\u001B[49m\u001B[43m \u001B[49m\u001B[38;5;124;43m\"\u001B[39;49m\u001B[38;5;124;43mrb\u001B[39;49m\u001B[38;5;124;43m\"\u001B[39;49m\u001B[43m)\u001B[49m\n\u001B[0;32m    105\u001B[0m     \u001B[38;5;28mself\u001B[39m\u001B[38;5;241m.\u001B[39mfilename \u001B[38;5;241m=\u001B[39m fp\n\u001B[0;32m    106\u001B[0m     \u001B[38;5;28mself\u001B[39m\u001B[38;5;241m.\u001B[39m_exclusive_fp \u001B[38;5;241m=\u001B[39m \u001B[38;5;28;01mTrue\u001B[39;00m\n",
      "\u001B[1;31mFileNotFoundError\u001B[0m: [Errno 2] No such file or directory: 'C:/Users/botnet/Downloads/Homework/CarneDataset/train/CLASS_02/Carneroja.png'"
     ]
    }
   ],
   "source": [
    "from matplotlib.pyplot import subplot, imshow, title\n",
    "from matplotlib.image import imread\n",
    "\n",
    "# Importing the image\n",
    "I = imread(\"C:/Users/botnet/Downloads/Homework/CarneDataset/train/CLASS_02/Carneroja.png\");\n",
    "subplot(2, 3, 1),\n",
    "imshow(I);\n",
    "title(\"Original image\");\n",
    "\n",
    "% Dilated Image\n",
    "\n",
    "def strel(param, param1, param2):\n",
    "    pass\n",
    "\n",
    "\n",
    "se = strel(\"line\", 7, 7);\n",
    "\n",
    "\n",
    "def imdilate(I, se):\n",
    "    pass\n",
    "\n",
    "\n",
    "dilate = imdilate(I, se);\n",
    "subplot(2, 3, 2),\n",
    "imshow(dilate);\n",
    "title(\"Dilated image\");"
   ]
  },
  {
   "cell_type": "code",
   "execution_count": 10,
   "metadata": {
    "pycharm": {
     "name": "#%%\n"
    }
   },
   "outputs": [
    {
     "ename": "OSError",
     "evalue": "[Errno 22] Invalid argument: './C:/Users/botnet/Downloads/Homework/CarneDataset/train1.csv'",
     "output_type": "error",
     "traceback": [
      "\u001B[1;31m---------------------------------------------------------------------------\u001B[0m",
      "\u001B[1;31mOSError\u001B[0m                                   Traceback (most recent call last)",
      "Input \u001B[1;32mIn [10]\u001B[0m, in \u001B[0;36m<cell line: 13>\u001B[1;34m()\u001B[0m\n\u001B[0;32m     11\u001B[0m \u001B[38;5;28;01mfrom\u001B[39;00m \u001B[38;5;21;01mkeras\u001B[39;00m\u001B[38;5;21;01m.\u001B[39;00m\u001B[38;5;21;01mlayers\u001B[39;00m \u001B[38;5;28;01mimport\u001B[39;00m Dense, Dropout\n\u001B[0;32m     12\u001B[0m \u001B[38;5;28;01mfrom\u001B[39;00m \u001B[38;5;21;01mkeras\u001B[39;00m\u001B[38;5;21;01m.\u001B[39;00m\u001B[38;5;21;01mlayers\u001B[39;00m \u001B[38;5;28;01mimport\u001B[39;00m Flatten, BatchNormalization\n\u001B[1;32m---> 13\u001B[0m train_df \u001B[38;5;241m=\u001B[39m \u001B[43mpd\u001B[49m\u001B[38;5;241;43m.\u001B[39;49m\u001B[43mread_csv\u001B[49m\u001B[43m(\u001B[49m\u001B[38;5;124;43m'\u001B[39;49m\u001B[38;5;124;43m./C:/Users/botnet/Downloads/Homework/CarneDataset/train1.csv\u001B[39;49m\u001B[38;5;124;43m'\u001B[39;49m\u001B[43m)\u001B[49m\n\u001B[0;32m     14\u001B[0m test_df \u001B[38;5;241m=\u001B[39m pd\u001B[38;5;241m.\u001B[39mread_csv(\u001B[38;5;124m'\u001B[39m\u001B[38;5;124m./C:/Users/botnet/Downloads/Homework/CarneDataset/test.csv\u001B[39m\u001B[38;5;124m'\u001B[39m)\n\u001B[0;32m     16\u001B[0m train_df\u001B[38;5;241m.\u001B[39mhead()\n",
      "File \u001B[1;32m~\\anaconda3\\envs\\Homework\\lib\\site-packages\\pandas\\util\\_decorators.py:311\u001B[0m, in \u001B[0;36mdeprecate_nonkeyword_arguments.<locals>.decorate.<locals>.wrapper\u001B[1;34m(*args, **kwargs)\u001B[0m\n\u001B[0;32m    305\u001B[0m \u001B[38;5;28;01mif\u001B[39;00m \u001B[38;5;28mlen\u001B[39m(args) \u001B[38;5;241m>\u001B[39m num_allow_args:\n\u001B[0;32m    306\u001B[0m     warnings\u001B[38;5;241m.\u001B[39mwarn(\n\u001B[0;32m    307\u001B[0m         msg\u001B[38;5;241m.\u001B[39mformat(arguments\u001B[38;5;241m=\u001B[39marguments),\n\u001B[0;32m    308\u001B[0m         \u001B[38;5;167;01mFutureWarning\u001B[39;00m,\n\u001B[0;32m    309\u001B[0m         stacklevel\u001B[38;5;241m=\u001B[39mstacklevel,\n\u001B[0;32m    310\u001B[0m     )\n\u001B[1;32m--> 311\u001B[0m \u001B[38;5;28;01mreturn\u001B[39;00m func(\u001B[38;5;241m*\u001B[39margs, \u001B[38;5;241m*\u001B[39m\u001B[38;5;241m*\u001B[39mkwargs)\n",
      "File \u001B[1;32m~\\anaconda3\\envs\\Homework\\lib\\site-packages\\pandas\\io\\parsers\\readers.py:680\u001B[0m, in \u001B[0;36mread_csv\u001B[1;34m(filepath_or_buffer, sep, delimiter, header, names, index_col, usecols, squeeze, prefix, mangle_dupe_cols, dtype, engine, converters, true_values, false_values, skipinitialspace, skiprows, skipfooter, nrows, na_values, keep_default_na, na_filter, verbose, skip_blank_lines, parse_dates, infer_datetime_format, keep_date_col, date_parser, dayfirst, cache_dates, iterator, chunksize, compression, thousands, decimal, lineterminator, quotechar, quoting, doublequote, escapechar, comment, encoding, encoding_errors, dialect, error_bad_lines, warn_bad_lines, on_bad_lines, delim_whitespace, low_memory, memory_map, float_precision, storage_options)\u001B[0m\n\u001B[0;32m    665\u001B[0m kwds_defaults \u001B[38;5;241m=\u001B[39m _refine_defaults_read(\n\u001B[0;32m    666\u001B[0m     dialect,\n\u001B[0;32m    667\u001B[0m     delimiter,\n\u001B[1;32m   (...)\u001B[0m\n\u001B[0;32m    676\u001B[0m     defaults\u001B[38;5;241m=\u001B[39m{\u001B[38;5;124m\"\u001B[39m\u001B[38;5;124mdelimiter\u001B[39m\u001B[38;5;124m\"\u001B[39m: \u001B[38;5;124m\"\u001B[39m\u001B[38;5;124m,\u001B[39m\u001B[38;5;124m\"\u001B[39m},\n\u001B[0;32m    677\u001B[0m )\n\u001B[0;32m    678\u001B[0m kwds\u001B[38;5;241m.\u001B[39mupdate(kwds_defaults)\n\u001B[1;32m--> 680\u001B[0m \u001B[38;5;28;01mreturn\u001B[39;00m \u001B[43m_read\u001B[49m\u001B[43m(\u001B[49m\u001B[43mfilepath_or_buffer\u001B[49m\u001B[43m,\u001B[49m\u001B[43m \u001B[49m\u001B[43mkwds\u001B[49m\u001B[43m)\u001B[49m\n",
      "File \u001B[1;32m~\\anaconda3\\envs\\Homework\\lib\\site-packages\\pandas\\io\\parsers\\readers.py:575\u001B[0m, in \u001B[0;36m_read\u001B[1;34m(filepath_or_buffer, kwds)\u001B[0m\n\u001B[0;32m    572\u001B[0m _validate_names(kwds\u001B[38;5;241m.\u001B[39mget(\u001B[38;5;124m\"\u001B[39m\u001B[38;5;124mnames\u001B[39m\u001B[38;5;124m\"\u001B[39m, \u001B[38;5;28;01mNone\u001B[39;00m))\n\u001B[0;32m    574\u001B[0m \u001B[38;5;66;03m# Create the parser.\u001B[39;00m\n\u001B[1;32m--> 575\u001B[0m parser \u001B[38;5;241m=\u001B[39m TextFileReader(filepath_or_buffer, \u001B[38;5;241m*\u001B[39m\u001B[38;5;241m*\u001B[39mkwds)\n\u001B[0;32m    577\u001B[0m \u001B[38;5;28;01mif\u001B[39;00m chunksize \u001B[38;5;129;01mor\u001B[39;00m iterator:\n\u001B[0;32m    578\u001B[0m     \u001B[38;5;28;01mreturn\u001B[39;00m parser\n",
      "File \u001B[1;32m~\\anaconda3\\envs\\Homework\\lib\\site-packages\\pandas\\io\\parsers\\readers.py:934\u001B[0m, in \u001B[0;36mTextFileReader.__init__\u001B[1;34m(self, f, engine, **kwds)\u001B[0m\n\u001B[0;32m    931\u001B[0m     \u001B[38;5;28mself\u001B[39m\u001B[38;5;241m.\u001B[39moptions[\u001B[38;5;124m\"\u001B[39m\u001B[38;5;124mhas_index_names\u001B[39m\u001B[38;5;124m\"\u001B[39m] \u001B[38;5;241m=\u001B[39m kwds[\u001B[38;5;124m\"\u001B[39m\u001B[38;5;124mhas_index_names\u001B[39m\u001B[38;5;124m\"\u001B[39m]\n\u001B[0;32m    933\u001B[0m \u001B[38;5;28mself\u001B[39m\u001B[38;5;241m.\u001B[39mhandles: IOHandles \u001B[38;5;241m|\u001B[39m \u001B[38;5;28;01mNone\u001B[39;00m \u001B[38;5;241m=\u001B[39m \u001B[38;5;28;01mNone\u001B[39;00m\n\u001B[1;32m--> 934\u001B[0m \u001B[38;5;28mself\u001B[39m\u001B[38;5;241m.\u001B[39m_engine \u001B[38;5;241m=\u001B[39m \u001B[38;5;28;43mself\u001B[39;49m\u001B[38;5;241;43m.\u001B[39;49m\u001B[43m_make_engine\u001B[49m\u001B[43m(\u001B[49m\u001B[43mf\u001B[49m\u001B[43m,\u001B[49m\u001B[43m \u001B[49m\u001B[38;5;28;43mself\u001B[39;49m\u001B[38;5;241;43m.\u001B[39;49m\u001B[43mengine\u001B[49m\u001B[43m)\u001B[49m\n",
      "File \u001B[1;32m~\\anaconda3\\envs\\Homework\\lib\\site-packages\\pandas\\io\\parsers\\readers.py:1218\u001B[0m, in \u001B[0;36mTextFileReader._make_engine\u001B[1;34m(self, f, engine)\u001B[0m\n\u001B[0;32m   1214\u001B[0m     mode \u001B[38;5;241m=\u001B[39m \u001B[38;5;124m\"\u001B[39m\u001B[38;5;124mrb\u001B[39m\u001B[38;5;124m\"\u001B[39m\n\u001B[0;32m   1215\u001B[0m \u001B[38;5;66;03m# error: No overload variant of \"get_handle\" matches argument types\u001B[39;00m\n\u001B[0;32m   1216\u001B[0m \u001B[38;5;66;03m# \"Union[str, PathLike[str], ReadCsvBuffer[bytes], ReadCsvBuffer[str]]\"\u001B[39;00m\n\u001B[0;32m   1217\u001B[0m \u001B[38;5;66;03m# , \"str\", \"bool\", \"Any\", \"Any\", \"Any\", \"Any\", \"Any\"\u001B[39;00m\n\u001B[1;32m-> 1218\u001B[0m \u001B[38;5;28mself\u001B[39m\u001B[38;5;241m.\u001B[39mhandles \u001B[38;5;241m=\u001B[39m \u001B[43mget_handle\u001B[49m\u001B[43m(\u001B[49m\u001B[43m  \u001B[49m\u001B[38;5;66;43;03m# type: ignore[call-overload]\u001B[39;49;00m\n\u001B[0;32m   1219\u001B[0m \u001B[43m    \u001B[49m\u001B[43mf\u001B[49m\u001B[43m,\u001B[49m\n\u001B[0;32m   1220\u001B[0m \u001B[43m    \u001B[49m\u001B[43mmode\u001B[49m\u001B[43m,\u001B[49m\n\u001B[0;32m   1221\u001B[0m \u001B[43m    \u001B[49m\u001B[43mencoding\u001B[49m\u001B[38;5;241;43m=\u001B[39;49m\u001B[38;5;28;43mself\u001B[39;49m\u001B[38;5;241;43m.\u001B[39;49m\u001B[43moptions\u001B[49m\u001B[38;5;241;43m.\u001B[39;49m\u001B[43mget\u001B[49m\u001B[43m(\u001B[49m\u001B[38;5;124;43m\"\u001B[39;49m\u001B[38;5;124;43mencoding\u001B[39;49m\u001B[38;5;124;43m\"\u001B[39;49m\u001B[43m,\u001B[49m\u001B[43m \u001B[49m\u001B[38;5;28;43;01mNone\u001B[39;49;00m\u001B[43m)\u001B[49m\u001B[43m,\u001B[49m\n\u001B[0;32m   1222\u001B[0m \u001B[43m    \u001B[49m\u001B[43mcompression\u001B[49m\u001B[38;5;241;43m=\u001B[39;49m\u001B[38;5;28;43mself\u001B[39;49m\u001B[38;5;241;43m.\u001B[39;49m\u001B[43moptions\u001B[49m\u001B[38;5;241;43m.\u001B[39;49m\u001B[43mget\u001B[49m\u001B[43m(\u001B[49m\u001B[38;5;124;43m\"\u001B[39;49m\u001B[38;5;124;43mcompression\u001B[39;49m\u001B[38;5;124;43m\"\u001B[39;49m\u001B[43m,\u001B[49m\u001B[43m \u001B[49m\u001B[38;5;28;43;01mNone\u001B[39;49;00m\u001B[43m)\u001B[49m\u001B[43m,\u001B[49m\n\u001B[0;32m   1223\u001B[0m \u001B[43m    \u001B[49m\u001B[43mmemory_map\u001B[49m\u001B[38;5;241;43m=\u001B[39;49m\u001B[38;5;28;43mself\u001B[39;49m\u001B[38;5;241;43m.\u001B[39;49m\u001B[43moptions\u001B[49m\u001B[38;5;241;43m.\u001B[39;49m\u001B[43mget\u001B[49m\u001B[43m(\u001B[49m\u001B[38;5;124;43m\"\u001B[39;49m\u001B[38;5;124;43mmemory_map\u001B[39;49m\u001B[38;5;124;43m\"\u001B[39;49m\u001B[43m,\u001B[49m\u001B[43m \u001B[49m\u001B[38;5;28;43;01mFalse\u001B[39;49;00m\u001B[43m)\u001B[49m\u001B[43m,\u001B[49m\n\u001B[0;32m   1224\u001B[0m \u001B[43m    \u001B[49m\u001B[43mis_text\u001B[49m\u001B[38;5;241;43m=\u001B[39;49m\u001B[43mis_text\u001B[49m\u001B[43m,\u001B[49m\n\u001B[0;32m   1225\u001B[0m \u001B[43m    \u001B[49m\u001B[43merrors\u001B[49m\u001B[38;5;241;43m=\u001B[39;49m\u001B[38;5;28;43mself\u001B[39;49m\u001B[38;5;241;43m.\u001B[39;49m\u001B[43moptions\u001B[49m\u001B[38;5;241;43m.\u001B[39;49m\u001B[43mget\u001B[49m\u001B[43m(\u001B[49m\u001B[38;5;124;43m\"\u001B[39;49m\u001B[38;5;124;43mencoding_errors\u001B[39;49m\u001B[38;5;124;43m\"\u001B[39;49m\u001B[43m,\u001B[49m\u001B[43m \u001B[49m\u001B[38;5;124;43m\"\u001B[39;49m\u001B[38;5;124;43mstrict\u001B[39;49m\u001B[38;5;124;43m\"\u001B[39;49m\u001B[43m)\u001B[49m\u001B[43m,\u001B[49m\n\u001B[0;32m   1226\u001B[0m \u001B[43m    \u001B[49m\u001B[43mstorage_options\u001B[49m\u001B[38;5;241;43m=\u001B[39;49m\u001B[38;5;28;43mself\u001B[39;49m\u001B[38;5;241;43m.\u001B[39;49m\u001B[43moptions\u001B[49m\u001B[38;5;241;43m.\u001B[39;49m\u001B[43mget\u001B[49m\u001B[43m(\u001B[49m\u001B[38;5;124;43m\"\u001B[39;49m\u001B[38;5;124;43mstorage_options\u001B[39;49m\u001B[38;5;124;43m\"\u001B[39;49m\u001B[43m,\u001B[49m\u001B[43m \u001B[49m\u001B[38;5;28;43;01mNone\u001B[39;49;00m\u001B[43m)\u001B[49m\u001B[43m,\u001B[49m\n\u001B[0;32m   1227\u001B[0m \u001B[43m\u001B[49m\u001B[43m)\u001B[49m\n\u001B[0;32m   1228\u001B[0m \u001B[38;5;28;01massert\u001B[39;00m \u001B[38;5;28mself\u001B[39m\u001B[38;5;241m.\u001B[39mhandles \u001B[38;5;129;01mis\u001B[39;00m \u001B[38;5;129;01mnot\u001B[39;00m \u001B[38;5;28;01mNone\u001B[39;00m\n\u001B[0;32m   1229\u001B[0m f \u001B[38;5;241m=\u001B[39m \u001B[38;5;28mself\u001B[39m\u001B[38;5;241m.\u001B[39mhandles\u001B[38;5;241m.\u001B[39mhandle\n",
      "File \u001B[1;32m~\\anaconda3\\envs\\Homework\\lib\\site-packages\\pandas\\io\\common.py:786\u001B[0m, in \u001B[0;36mget_handle\u001B[1;34m(path_or_buf, mode, encoding, compression, memory_map, is_text, errors, storage_options)\u001B[0m\n\u001B[0;32m    781\u001B[0m \u001B[38;5;28;01melif\u001B[39;00m \u001B[38;5;28misinstance\u001B[39m(handle, \u001B[38;5;28mstr\u001B[39m):\n\u001B[0;32m    782\u001B[0m     \u001B[38;5;66;03m# Check whether the filename is to be opened in binary mode.\u001B[39;00m\n\u001B[0;32m    783\u001B[0m     \u001B[38;5;66;03m# Binary mode does not support 'encoding' and 'newline'.\u001B[39;00m\n\u001B[0;32m    784\u001B[0m     \u001B[38;5;28;01mif\u001B[39;00m ioargs\u001B[38;5;241m.\u001B[39mencoding \u001B[38;5;129;01mand\u001B[39;00m \u001B[38;5;124m\"\u001B[39m\u001B[38;5;124mb\u001B[39m\u001B[38;5;124m\"\u001B[39m \u001B[38;5;129;01mnot\u001B[39;00m \u001B[38;5;129;01min\u001B[39;00m ioargs\u001B[38;5;241m.\u001B[39mmode:\n\u001B[0;32m    785\u001B[0m         \u001B[38;5;66;03m# Encoding\u001B[39;00m\n\u001B[1;32m--> 786\u001B[0m         handle \u001B[38;5;241m=\u001B[39m \u001B[38;5;28;43mopen\u001B[39;49m\u001B[43m(\u001B[49m\n\u001B[0;32m    787\u001B[0m \u001B[43m            \u001B[49m\u001B[43mhandle\u001B[49m\u001B[43m,\u001B[49m\n\u001B[0;32m    788\u001B[0m \u001B[43m            \u001B[49m\u001B[43mioargs\u001B[49m\u001B[38;5;241;43m.\u001B[39;49m\u001B[43mmode\u001B[49m\u001B[43m,\u001B[49m\n\u001B[0;32m    789\u001B[0m \u001B[43m            \u001B[49m\u001B[43mencoding\u001B[49m\u001B[38;5;241;43m=\u001B[39;49m\u001B[43mioargs\u001B[49m\u001B[38;5;241;43m.\u001B[39;49m\u001B[43mencoding\u001B[49m\u001B[43m,\u001B[49m\n\u001B[0;32m    790\u001B[0m \u001B[43m            \u001B[49m\u001B[43merrors\u001B[49m\u001B[38;5;241;43m=\u001B[39;49m\u001B[43merrors\u001B[49m\u001B[43m,\u001B[49m\n\u001B[0;32m    791\u001B[0m \u001B[43m            \u001B[49m\u001B[43mnewline\u001B[49m\u001B[38;5;241;43m=\u001B[39;49m\u001B[38;5;124;43m\"\u001B[39;49m\u001B[38;5;124;43m\"\u001B[39;49m\u001B[43m,\u001B[49m\n\u001B[0;32m    792\u001B[0m \u001B[43m        \u001B[49m\u001B[43m)\u001B[49m\n\u001B[0;32m    793\u001B[0m     \u001B[38;5;28;01melse\u001B[39;00m:\n\u001B[0;32m    794\u001B[0m         \u001B[38;5;66;03m# Binary mode\u001B[39;00m\n\u001B[0;32m    795\u001B[0m         handle \u001B[38;5;241m=\u001B[39m \u001B[38;5;28mopen\u001B[39m(handle, ioargs\u001B[38;5;241m.\u001B[39mmode)\n",
      "\u001B[1;31mOSError\u001B[0m: [Errno 22] Invalid argument: './C:/Users/botnet/Downloads/Homework/CarneDataset/train1.csv'"
     ]
    }
   ],
   "source": [
    "import numpy as np\n",
    "import pandas as pd\n",
    "import matplotlib.pyplot as plt\n",
    "import keras\n",
    "\n",
    "from sklearn.model_selection import train_test_split\n",
    "from keras.utils import to_categorical\n",
    "\n",
    "from keras.models import Sequential\n",
    "from keras.layers import Conv2D, MaxPooling2D\n",
    "from keras.layers import Dense, Dropout\n",
    "from keras.layers import Flatten, BatchNormalization\n",
    "train_df = pd.read_csv('C:/Users/botnet/Downloads/Homework/CarneDataset/train1.csv')\n",
    "test_df = pd.read_csv('C:/Users/botnet/Downloads/Homework/CarneDataset/test.csv')\n",
    "\n",
    "train_df.head()"
   ]
  },
  {
   "cell_type": "code",
   "execution_count": null,
   "metadata": {
    "pycharm": {
     "name": "#%%\n"
    }
   },
   "outputs": [],
   "source": [
    "original = np.asarray(foto_gris)\n",
    "binarizada = original < 1000\n",
    "print(binarizada)\n",
    "foto_bin = Image.fromarray(binarizada)\n",
    "foto_bin"
   ]
  },
  {
   "cell_type": "code",
   "execution_count": null,
   "metadata": {
    "pycharm": {
     "name": "#%%\n"
    }
   },
   "outputs": [],
   "source": [
    "plt.plot(foto_gris.histogram())"
   ]
  },
  {
   "cell_type": "code",
   "execution_count": 3,
   "metadata": {
    "pycharm": {
     "name": "#%%\n"
    }
   },
   "outputs": [
    {
     "name": "stdout",
     "output_type": "stream",
     "text": [
      "['05-CAPTURE_20220421_053523_498.png', '05-CAPTURE_20220421_053558_105.png', '05-CAPTURE_20220421_054132_775.png', '10-CAPTURE_20220531_103042_241.png', '10-CAPTURE_20220531_103052_843.png', '10-CAPTURE_20220531_103326_275.png', '10-CAPTURE_20220531_104101_771.png', '10-CAPTURE_20220614_103335_077.png', '10-CAPTURE_20220614_103346_079.png', '10-CAPTURE_20220614_103804_934.png', '10-CAPTURE_20220614_103823_738.png', '14-CAPTURE_20220531_143820_956.png', '14-CAPTURE_20220531_144356_826.png', '14-CAPTURE_20220531_144422_832.png', '14-CAPTURE_20220531_144511_642.png', '14-CAPTURE_20220531_144702_465.png', '14-CAPTURE_20220531_144730_671.png', '14-CAPTURE_20220531_144747_875.png', '14-CAPTURE_20220614_143407_706.png', '14-CAPTURE_20220614_143434_311.png', '14-CAPTURE_20220614_143627_335.png', '14-CAPTURE_20220614_143704_743.png', '14-CAPTURE_20220614_143750_552.png', '14-CAPTURE_20220614_143910_969.png', '16-CAPTURE_20220418_162510_286.png', '16-CAPTURE_20220418_163726_841.png', '16-CAPTURE_20220427_165951_148.png', '17-CAPTURE_20220427_170044_359.png', '17-CAPTURE_20220427_170134_769.png', '19-CAPTURE_20220426_191056_683.png', '19-CAPTURE_20220426_191957_197.png', '20-CAPTURE_20220418_201132_341.png', '20-CAPTURE_20220425_200910_295.png', '20-CAPTURE_20220425_204241_518.png', '20-CAPTURE_20220523_202131_477.png', '20-CAPTURE_20220523_202318_499.png', '22-CAPTURE_20220418_224934_321.png', '22-CAPTURE_20220418_224948_924.png', '22-CAPTURE_20220620_225907_089.png', '23-CAPTURE_20220418_232110_317.png', '23-CAPTURE_20220418_233048_237.png', '23-CAPTURE_20220425_232459_352.png', '23-CAPTURE_20220425_232959_015.png', '23-CAPTURE_20220425_233750_714.png', '23-CAPTURE_20220425_233829_922.png', '23-CAPTURE_20220425_234204_167.png', '23-CAPTURE_20220427_232449_390.png', '23-CAPTURE_20220427_232522_397.png', '23-CAPTURE_20220427_233624_936.png', '23-CAPTURE_20220427_233646_941.png', '23-CAPTURE_20220427_233751_954.png', '23-CAPTURE_20220427_234016_985.png', '23-CAPTURE_20220427_234147_004.png', '23-CAPTURE_20220523_230511_738.png', '23-CAPTURE_20220523_233400_301.png', '23-CAPTURE_20220523_233512_716.png', '23-CAPTURE_20220523_233635_334.png', '23-CAPTURE_20220523_233843_360.png', '23-CAPTURE_20220523_234033_983.png', '23-CAPTURE_20220523_234051_987.png', '23-CAPTURE_20220620_234041_015.png', 'carne.png', 'Carneroja.png']\n",
      "['05-CAPTURE_20220421_053444_089.png', '06-CAPTURE_20220523_055730_600.png', '07-CAPTURE_20220420_075147_246.png', '07-CAPTURE_20220421_074506_729.png', '07-CAPTURE_20220422_073240_090.png', '08-CAPTURE_20220422_081121_378.png', '08-CAPTURE_20220422_081137_782.png', '08-CAPTURE_20220422_081227_592.png', '08-CAPTURE_20220422_081238_394.png', '08-CAPTURE_20220422_081459_624.png', '08-CAPTURE_20220426_082201_314.png', '08-CAPTURE_20220427_080519_634.png', '08-CAPTURE_20220427_082909_933.png', '08-CAPTURE_20220427_083326_186.png', '08-CAPTURE_20220427_084554_943.png', '08-CAPTURE_20220427_084924_787.png', '09-CAPTURE_20220421_094352_224.png', '09-CAPTURE_20220427_091331_689.png', '09-CAPTURE_20220427_091415_298.png', '09-CAPTURE_20220427_091436_702.png', '09-CAPTURE_20220523_094315_054.png', '09-CAPTURE_20220531_090342_345.png', '09-CAPTURE_20220531_094356_250.png', '09-CAPTURE_20220531_095340_373.png', '09-CAPTURE_20220620_090133_956.png', '09-CAPTURE_20220620_092052_400.png', '09-CAPTURE_20220620_092128_607.png', '10-CAPTURE_20220420_102803_034.png', '10-CAPTURE_20220420_102944_056.png', '10-CAPTURE_20220420_103259_898.png', '10-CAPTURE_20220420_104722_881.png', '10-CAPTURE_20220421_095449_161.png', '10-CAPTURE_20220421_103239_037.png', '10-CAPTURE_20220523_101113_605.png', '10-CAPTURE_20220523_102207_742.png', '10-CAPTURE_20220614_095439_382.png', '11-CAPTURE_20220420_110252_277.png', '11-CAPTURE_20220420_110646_527.png', '11-CAPTURE_20220420_110744_339.png', '11-CAPTURE_20220420_110754_941.png', '11-CAPTURE_20220420_110814_745.png', '11-CAPTURE_20220420_110920_559.png', '11-CAPTURE_20220420_111005_369.png', '11-CAPTURE_20220420_111411_821.png', '11-CAPTURE_20220421_112236_066.png', '11-CAPTURE_20220421_113645_244.png', '11-CAPTURE_20220531_112008_867.png', '12-CAPTURE_20220421_121136_484.png', '12-CAPTURE_20220421_122651_877.png', '12-CAPTURE_20220421_122937_511.png', '12-CAPTURE_20220421_123048_926.png', '12-CAPTURE_20220421_123250_352.png', '12-CAPTURE_20220421_123433_574.png', '12-CAPTURE_20220422_121206_811.png', '12-CAPTURE_20220422_121226_215.png', '12-CAPTURE_20220422_121811_888.png', '12-CAPTURE_20220422_122045_120.png', '12-CAPTURE_20220427_122138_651.png', '12-CAPTURE_20220427_122752_530.png', '12-CAPTURE_20220531_120442_231.png', '12-CAPTURE_20220614_122129_843.png', '13-CAPTURE_20220422_130852_929.png', '13-CAPTURE_20220422_132157_495.png', '13-CAPTURE_20220425_135435_761.png', '13-CAPTURE_20220523_133638_993.png', '13-CAPTURE_20220614_135526_221.png', '14-CAPTURE_20220420_143406_527.png', '14-CAPTURE_20220420_143620_155.png', '14-CAPTURE_20220420_143828_382.png', '14-CAPTURE_20220420_144131_620.png', '14-CAPTURE_20220420_144153_024.png', '14-CAPTURE_20220420_144223_831.png', '14-CAPTURE_20220420_144317_042.png', '14-CAPTURE_20220420_144628_482.png', '14-CAPTURE_20220421_144136_976.png', '14-CAPTURE_20220422_143217_183.png', '14-CAPTURE_20220422_144450_341.png', '14-CAPTURE_20220425_142851_193.png', '14-CAPTURE_20220425_143101_220.png', '14-CAPTURE_20220425_143622_888.png', '14-CAPTURE_20220427_143227_898.png', '14-CAPTURE_20220427_143413_921.png', '14-CAPTURE_20220523_140411_539.png', '14-CAPTURE_20220523_143322_903.png', '14-CAPTURE_20220523_143333_306.png', '14-CAPTURE_20220523_143933_581.png', '14-CAPTURE_20220523_144117_402.png', '14-CAPTURE_20220531_143451_913.png', '14-CAPTURE_20220531_144451_438.png', '14-CAPTURE_20220531_144646_862.png', '14-CAPTURE_20220614_141653_890.png', '14-CAPTURE_20220614_143130_873.png', '14-CAPTURE_20220614_143152_278.png', '14-CAPTURE_20220614_143333_099.png', '14-CAPTURE_20220614_143617_733.png', '14-CAPTURE_20220614_143643_339.png', '14-CAPTURE_20220614_143730_348.png', '15-CAPTURE_20220422_154336_681.png', '15-CAPTURE_20220422_154357_086.png', '15-CAPTURE_20220531_154511_995.png', '16-CAPTURE_20220421_160830_869.png', '16-CAPTURE_20220422_161028_219.png', '16-CAPTURE_20220426_163257_297.png', '16-CAPTURE_20220427_165752_123.png', '16-CAPTURE_20220427_165940_546.png', '17-CAPTURE_20220420_173208_165.png', '17-CAPTURE_20220420_173749_837.png', '17-CAPTURE_20220420_173800_439.png', '17-CAPTURE_20220420_173913_454.png', '17-CAPTURE_20220420_174258_701.png', '17-CAPTURE_20220420_174349_312.png', '17-CAPTURE_20220422_171504_830.png', '17-CAPTURE_20220426_173416_265.png', '17-CAPTURE_20220426_173815_515.png', '17-CAPTURE_20220426_174045_146.png', '17-CAPTURE_20220426_174336_382.png', '17-CAPTURE_20220426_174446_397.png', '17-CAPTURE_20220427_170013_752.png', '17-CAPTURE_20220427_170104_163.png', '17-CAPTURE_20220531_175936_492.png', '17-CAPTURE_20220614_173850_240.png', '17-CAPTURE_20220614_175338_427.png', '18-CAPTURE_20220421_183142_069.png', '18-CAPTURE_20220422_181221_549.png', '18-CAPTURE_20220425_184312_208.png', '18-CAPTURE_20220531_180535_568.png', '18-CAPTURE_20220531_180632_580.png', '18-CAPTURE_20220531_183725_569.png', '18-CAPTURE_20220531_184004_002.png', '18-CAPTURE_20220531_184017_605.png', '18-CAPTURE_20220531_184147_624.png', '18-CAPTURE_20220614_180604_984.png', '19-CAPTURE_20220420_192948_248.png', '19-CAPTURE_20220421_190711_316.png', '19-CAPTURE_20220421_192444_537.png', '19-CAPTURE_20220426_190503_608.png', '19-CAPTURE_20220426_190622_425.png', '19-CAPTURE_20220426_190941_267.png', '19-CAPTURE_20220426_191159_696.png', '19-CAPTURE_20220426_191309_511.png', '19-CAPTURE_20220614_190746_362.png', '19-CAPTURE_20220614_190755_564.png', '19-CAPTURE_20220614_190806_966.png', '19-CAPTURE_20220614_190817_969.png', '19-CAPTURE_20220614_190849_576.png', '20-CAPTURE_20220420_200250_866.png', '20-CAPTURE_20220420_200938_552.png', '20-CAPTURE_20220420_201209_584.png', '20-CAPTURE_20220421_203052_769.png', '20-CAPTURE_20220427_201745_438.png', '20-CAPTURE_20220531_205511_294.png', '20-CAPTURE_20220531_205752_728.png', '20-CAPTURE_20220620_204320_799.png', '21-CAPTURE_20220421_210357_385.png', '21-CAPTURE_20220421_212743_484.png', '21-CAPTURE_20220421_215052_574.png', '21-CAPTURE_20220427_213445_605.png', '21-CAPTURE_20220427_213521_612.png', '21-CAPTURE_20220523_210610_839.png', '21-CAPTURE_20220531_214158_283.png', '21-CAPTURE_20220531_214210_086.png', '22-CAPTURE_20220420_224035_866.png', '22-CAPTURE_20220420_224057_871.png', '22-CAPTURE_20220421_220933_008.png', '22-CAPTURE_20220426_224539_389.png', '22-CAPTURE_20220427_221058_460.png', '22-CAPTURE_20220531_222443_625.png', '22-CAPTURE_20220531_222535_436.png', '22-CAPTURE_20220531_222557_241.png', '22-CAPTURE_20220531_222620_846.png', '23-CAPTURE_20220420_233021_095.png', '23-CAPTURE_20220420_233330_534.png', '23-CAPTURE_20220420_233738_587.png', '23-CAPTURE_20220420_233809_393.png', '23-CAPTURE_20220420_234117_833.png', '23-CAPTURE_20220421_230506_906.png', '23-CAPTURE_20220421_232824_598.png', '23-CAPTURE_20220421_234214_772.png', '23-CAPTURE_20220421_234428_800.png', '23-CAPTURE_20220421_234659_432.png', '23-CAPTURE_20220425_232609_566.png', '23-CAPTURE_20220425_233406_667.png', '23-CAPTURE_20220425_233721_107.png', '23-CAPTURE_20220425_233908_730.png', '23-CAPTURE_20220425_234213_969.png', '23-CAPTURE_20220426_233328_390.png', '23-CAPTURE_20220426_233553_420.png', '23-CAPTURE_20220426_233857_458.png', '23-CAPTURE_20220426_234538_342.png', '23-CAPTURE_20220426_234705_561.png', '23-CAPTURE_20220427_232402_980.png', '23-CAPTURE_20220427_232846_040.png', '23-CAPTURE_20220427_232856_242.png', '23-CAPTURE_20220427_232906_644.png', '23-CAPTURE_20220427_233700_743.png', '23-CAPTURE_20220427_234054_193.png', '23-CAPTURE_20220523_233457_913.png', '23-CAPTURE_20220523_233547_723.png', '23-CAPTURE_20220523_233950_174.png', '23-CAPTURE_20220523_234650_062.png', '23-CAPTURE_20220531_230638_356.png', '23-CAPTURE_20220531_233444_312.png', '23-CAPTURE_20220531_234113_594.png', '23-CAPTURE_20220614_230324_523.png', '23-CAPTURE_20220614_232103_945.png', '23-CAPTURE_20220614_232302_970.png', '23-CAPTURE_20220614_233226_888.png', '23-CAPTURE_20220614_233827_363.png', '23-CAPTURE_20220614_233919_574.png', '23-CAPTURE_20220614_233951_181.png', '23-CAPTURE_20220614_234541_855.png', '23-CAPTURE_20220620_234014_609.png', '23-CAPTURE_20220620_234440_865.png']\n",
      "['05-CAPTURE_20220421_053759_130.png', '05-CAPTURE_20220422_054037_079.png', '08-CAPTURE_20220422_081252_597.png', '09-CAPTURE_20220620_091952_187.png', '11-CAPTURE_20220420_110824_348.png', '11-CAPTURE_20220420_111038_776.png', '11-CAPTURE_20220420_111122_585.png', '12-CAPTURE_20220421_123422_771.png', '12-CAPTURE_20220422_121944_508.png', '12-CAPTURE_20220531_121242_532.png', '12-CAPTURE_20220531_121257_535.png', '12-CAPTURE_20220531_121525_766.png', '12-CAPTURE_20220531_121834_406.png', '13-CAPTURE_20220614_130638_810.png', '13-CAPTURE_20220614_130815_630.png', '13-CAPTURE_20220614_134817_332.png', '14-CAPTURE_20220418_143253_467.png', '14-CAPTURE_20220418_144217_786.png', '14-CAPTURE_20220420_144142_622.png', '14-CAPTURE_20220420_144329_644.png', '14-CAPTURE_20220420_144601_476.png', '14-CAPTURE_20220421_144536_426.png', '14-CAPTURE_20220421_144733_451.png', '14-CAPTURE_20220425_142828_388.png', '14-CAPTURE_20220425_143241_441.png', '14-CAPTURE_20220427_143941_189.png', '14-CAPTURE_20220523_143013_064.png', '14-CAPTURE_20220523_144140_607.png', '14-CAPTURE_20220531_143422_507.png', '14-CAPTURE_20220531_144303_215.png', '14-CAPTURE_20220531_144627_658.png', '14-CAPTURE_20220531_144853_088.png', '14-CAPTURE_20220614_143652_941.png', '14-CAPTURE_20220614_143841_163.png', '16-CAPTURE_20220418_163239_181.png', '16-CAPTURE_20220418_163704_836.png', '17-CAPTURE_20220420_173835_646.png', '17-CAPTURE_20220420_174237_097.png', '17-CAPTURE_20220426_173426_867.png', '17-CAPTURE_20220426_173935_531.png', '17-CAPTURE_20220426_174215_765.png', '17-CAPTURE_20220426_174303_375.png', '17-CAPTURE_20220427_170023_955.png', '18-CAPTURE_20220531_183836_584.png', '18-CAPTURE_20220531_184118_218.png', '19-CAPTURE_20220426_190828_252.png', '19-CAPTURE_20220426_191934_592.png', '20-CAPTURE_20220420_201411_810.png', '20-CAPTURE_20220420_201602_833.png', '20-CAPTURE_20220425_203342_605.png', '20-CAPTURE_20220425_203933_678.png', '20-CAPTURE_20220425_204007_085.png', '20-CAPTURE_20220425_204441_543.png', '20-CAPTURE_20220425_204945_206.png', '20-CAPTURE_20220614_203726_088.png', '20-CAPTURE_20220614_203742_091.png', '20-CAPTURE_20220614_204054_131.png', '20-CAPTURE_20220614_204111_734.png', '20-CAPTURE_20220614_204123_137.png', '21-CAPTURE_20220418_215206_401.png', '21-CAPTURE_20220523_205814_339.png', '21-CAPTURE_20220523_210359_211.png', '21-CAPTURE_20220523_210445_821.png', '21-CAPTURE_20220614_211200_521.png', '23-CAPTURE_20220418_232150_725.png', '23-CAPTURE_20220418_232943_824.png', '23-CAPTURE_20220418_233609_304.png', '23-CAPTURE_20220418_233637_110.png', '23-CAPTURE_20220418_233812_330.png', '23-CAPTURE_20220418_233823_733.png', '23-CAPTURE_20220420_233908_206.png', '23-CAPTURE_20220420_234005_418.png', '23-CAPTURE_20220421_232941_614.png', '23-CAPTURE_20220421_234637_227.png', '23-CAPTURE_20220425_233638_498.png', '23-CAPTURE_20220425_233857_728.png', '23-CAPTURE_20220425_234236_574.png', '23-CAPTURE_20220425_234323_784.png', '23-CAPTURE_20220426_233418_200.png', '23-CAPTURE_20220426_233654_833.png', '23-CAPTURE_20220426_233926_064.png', '23-CAPTURE_20220426_234111_686.png', '23-CAPTURE_20220426_234226_102.png', '23-CAPTURE_20220426_234419_326.png', '23-CAPTURE_20220426_234643_356.png', '23-CAPTURE_20220427_232412_582.png', '23-CAPTURE_20220427_233346_303.png', '23-CAPTURE_20220427_233548_128.png', '23-CAPTURE_20220427_233635_338.png', '23-CAPTURE_20220427_234027_187.png', '23-CAPTURE_20220427_234212_209.png', '23-CAPTURE_20220523_233430_107.png', '23-CAPTURE_20220523_233700_339.png', '23-CAPTURE_20220523_233756_951.png', '23-CAPTURE_20220523_234621_656.png', '23-CAPTURE_20220531_231754_499.png', '23-CAPTURE_20220614_232236_164.png', '23-CAPTURE_20220614_232342_378.png', '23-CAPTURE_20220614_233146_079.png', '23-CAPTURE_20220614_233255_694.png', '23-CAPTURE_20220614_234121_800.png', '23-CAPTURE_20220614_234427_239.png', '23-CAPTURE_20220614_234450_044.png', '23-CAPTURE_20220620_233924_598.png', '23-CAPTURE_20220620_234458_669.png']\n",
      "['02-CAPTURE_20220421_024031_291.png', '02-CAPTURE_20220421_025239_243.png', '02-CAPTURE_20220421_025330_654.png', '02-CAPTURE_20220421_025427_066.png', '03-CAPTURE_20220422_030301_301.png', '03-CAPTURE_20220422_032149_737.png', '04-CAPTURE_20220422_043208_418.png', '05-CAPTURE_20220421_052942_626.png', '05-CAPTURE_20220421_053351_478.png', '05-CAPTURE_20220421_053626_711.png', '05-CAPTURE_20220421_053737_526.png', '05-CAPTURE_20220421_054149_379.png', '05-CAPTURE_20220422_051304_532.png', '05-CAPTURE_20220422_051831_401.png', '05-CAPTURE_20220422_051855_006.png', '05-CAPTURE_20220422_051943_416.png', '05-CAPTURE_20220422_054155_295.png', '06-CAPTURE_20220418_063330_648.png', '06-CAPTURE_20220418_065806_955.png', '06-CAPTURE_20220420_065526_742.png', '06-CAPTURE_20220421_064739_607.png', '06-CAPTURE_20220425_063923_017.png', '06-CAPTURE_20220425_064614_103.png', '06-CAPTURE_20220425_065713_443.png', '06-CAPTURE_20220426_063455_969.png', '06-CAPTURE_20220427_062313_346.png', '06-CAPTURE_20220427_062847_616.png', '06-CAPTURE_20220427_063239_465.png', '06-CAPTURE_20220427_063506_096.png', '06-CAPTURE_20220427_065706_374.png', '06-CAPTURE_20220523_061916_876.png', '06-CAPTURE_20220523_063107_626.png', '06-CAPTURE_20220523_063944_335.png', '06-CAPTURE_20220523_065109_280.png', '06-CAPTURE_20220523_065301_904.png', '06-CAPTURE_20220614_064233_172.png', '06-CAPTURE_20220614_065127_883.png', '06-CAPTURE_20220620_065243_933.png', '07-CAPTURE_20220418_072508_897.png', '07-CAPTURE_20220418_075102_825.png', '07-CAPTURE_20220418_075353_061.png', '07-CAPTURE_20220418_075510_077.png', '07-CAPTURE_20220420_073355_222.png', '07-CAPTURE_20220420_073435_830.png', '07-CAPTURE_20220420_073626_653.png', '07-CAPTURE_20220421_071519_755.png', '07-CAPTURE_20220421_074127_884.png', '07-CAPTURE_20220421_075221_221.png', '07-CAPTURE_20220422_070417_132.png', '07-CAPTURE_20220422_073212_084.png', '07-CAPTURE_20220425_070133_698.png', '07-CAPTURE_20220425_070909_794.png', '07-CAPTURE_20220425_071615_084.png', '07-CAPTURE_20220425_071633_888.png', '07-CAPTURE_20220425_073404_709.png', '07-CAPTURE_20220425_073440_917.png', '07-CAPTURE_20220425_073823_364.png', '07-CAPTURE_20220426_070823_790.png', '07-CAPTURE_20220427_070743_307.png', '07-CAPTURE_20220427_070842_120.png', '07-CAPTURE_20220427_071405_988.png', '07-CAPTURE_20220523_070124_010.png', '07-CAPTURE_20220523_071256_157.png', '07-CAPTURE_20220523_075007_429.png', '07-CAPTURE_20220523_075035_634.png', '07-CAPTURE_20220531_070528_857.png', '07-CAPTURE_20220614_074132_305.png', '07-CAPTURE_20220614_074140_907.png', '07-CAPTURE_20220614_074149_309.png', '07-CAPTURE_20220620_070438_883.png', '07-CAPTURE_20220620_070752_924.png', '07-CAPTURE_20220620_072614_155.png', '08-CAPTURE_20220418_080854_651.png', '08-CAPTURE_20220420_081208_304.png', '08-CAPTURE_20220420_082549_878.png', '08-CAPTURE_20220420_083938_854.png', '08-CAPTURE_20220420_083950_656.png', '08-CAPTURE_20220420_084001_259.png', '08-CAPTURE_20220420_084014_661.png', '08-CAPTURE_20220422_080740_732.png', '08-CAPTURE_20220422_080821_740.png', '08-CAPTURE_20220422_081045_971.png', '08-CAPTURE_20220422_081156_385.png', '08-CAPTURE_20220422_081427_617.png', '08-CAPTURE_20220422_081619_041.png', '08-CAPTURE_20220425_080614_915.png', '08-CAPTURE_20220425_081011_965.png', '08-CAPTURE_20220425_081027_168.png', '08-CAPTURE_20220425_081044_172.png', '08-CAPTURE_20220425_082032_295.png', '08-CAPTURE_20220425_082224_719.png', '08-CAPTURE_20220425_083113_629.png', '08-CAPTURE_20220425_083757_713.png', '08-CAPTURE_20220425_084029_745.png', '08-CAPTURE_20220426_081712_254.png', '08-CAPTURE_20220523_075526_296.png', '08-CAPTURE_20220523_080506_618.png', '08-CAPTURE_20220523_081405_932.png', '08-CAPTURE_20220523_081554_155.png', '08-CAPTURE_20220523_081617_960.png', '08-CAPTURE_20220523_081742_777.png', '08-CAPTURE_20220523_082159_031.png', '08-CAPTURE_20220523_082601_082.png', '08-CAPTURE_20220523_085819_690.png', '08-CAPTURE_20220523_085832_293.png', '08-CAPTURE_20220531_080711_836.png', '08-CAPTURE_20220531_081827_177.png', '08-CAPTURE_20220531_081846_982.png', '08-CAPTURE_20220531_083100_936.png', '08-CAPTURE_20220531_083423_178.png', '08-CAPTURE_20220614_075020_815.png', '08-CAPTURE_20220614_080103_549.png', '08-CAPTURE_20220614_080222_166.png', '08-CAPTURE_20220614_080712_626.png', '08-CAPTURE_20220614_080728_029.png', '08-CAPTURE_20220614_080737_831.png', '08-CAPTURE_20220620_080231_812.png', '09-CAPTURE_20220418_083923_636.png', '09-CAPTURE_20220418_090252_332.png', '09-CAPTURE_20220418_092228_579.png', '09-CAPTURE_20220418_093925_592.png', '09-CAPTURE_20220418_094204_626.png', '09-CAPTURE_20220418_094659_087.png', '09-CAPTURE_20220418_095121_342.png', '09-CAPTURE_20220420_090453_175.png', '09-CAPTURE_20220420_090619_593.png', '09-CAPTURE_20220420_092233_200.png', '09-CAPTURE_20220420_094524_291.png', '09-CAPTURE_20220421_094234_207.png', '09-CAPTURE_20220421_094324_418.png', '09-CAPTURE_20220421_095056_113.png', '09-CAPTURE_20220421_095113_716.png', '09-CAPTURE_20220425_091455_376.png', '09-CAPTURE_20220425_092029_645.png', '09-CAPTURE_20220425_093247_999.png', '09-CAPTURE_20220523_091714_328.png', '09-CAPTURE_20220523_092742_859.png', '09-CAPTURE_20220523_093516_954.png', '09-CAPTURE_20220531_083450_984.png', '09-CAPTURE_20220531_090209_125.png', '09-CAPTURE_20220531_090236_931.png', '09-CAPTURE_20220531_090300_736.png', '09-CAPTURE_20220531_094555_075.png', '09-CAPTURE_20220531_094628_482.png', '09-CAPTURE_20220531_094638_084.png', '09-CAPTURE_20220531_094647_486.png', '09-CAPTURE_20220531_094657_689.png', '09-CAPTURE_20220531_094910_516.png', '09-CAPTURE_20220614_083326_755.png', '09-CAPTURE_20220614_090907_805.png', '09-CAPTURE_20220614_090916_807.png', '09-CAPTURE_20220614_090926_409.png', '09-CAPTURE_20220614_090958_016.png', '09-CAPTURE_20220614_091937_338.png', '09-CAPTURE_20220614_091959_143.png', '09-CAPTURE_20220614_092207_770.png', '09-CAPTURE_20220614_093506_734.png', '09-CAPTURE_20220614_093555_344.png', '09-CAPTURE_20220614_093621_150.png', '09-CAPTURE_20220614_095008_725.png', '09-CAPTURE_20220614_095105_537.png', '09-CAPTURE_20220614_095245_158.png', '09-CAPTURE_20220614_095412_777.png', '09-CAPTURE_20220620_090124_154.png', '09-CAPTURE_20220620_090457_199.png', '09-CAPTURE_20220620_090507_201.png', '09-CAPTURE_20220620_092108_403.png', '10-CAPTURE_20220420_094854_536.png', '10-CAPTURE_20220420_102538_204.png', '10-CAPTURE_20220420_103110_674.png', '10-CAPTURE_20220420_103356_310.png', '10-CAPTURE_20220420_105202_540.png', '10-CAPTURE_20220420_105559_590.png', '10-CAPTURE_20220420_105845_825.png', '10-CAPTURE_20220421_102958_804.png', '10-CAPTURE_20220421_103119_821.png', '10-CAPTURE_20220421_103312_444.png', '10-CAPTURE_20220421_103718_096.png', '10-CAPTURE_20220422_103247_159.png', '10-CAPTURE_20220425_100345_988.png', '10-CAPTURE_20220425_101351_314.png', '10-CAPTURE_20220425_101428_322.png', '10-CAPTURE_20220425_103830_024.png', '10-CAPTURE_20220425_104029_049.png', '10-CAPTURE_20220425_104257_680.png', '10-CAPTURE_20220425_104809_945.png', '10-CAPTURE_20220523_095109_354.png', '10-CAPTURE_20220523_101027_195.png', '10-CAPTURE_20220523_105627_572.png', '10-CAPTURE_20220523_105732_186.png', '10-CAPTURE_20220523_105810_594.png', '10-CAPTURE_20220523_105821_196.png', '10-CAPTURE_20220531_102837_814.png', '10-CAPTURE_20220531_102926_225.png', '10-CAPTURE_20220531_103032_039.png', '10-CAPTURE_20220531_103118_448.png', '10-CAPTURE_20220614_103001_032.png', '11-CAPTURE_20220418_110104_414.png', '11-CAPTURE_20220418_112246_285.png', '11-CAPTURE_20220420_110303_880.png', '11-CAPTURE_20220420_110617_321.png', '11-CAPTURE_20220420_111213_996.png', '11-CAPTURE_20220420_111330_412.png', '11-CAPTURE_20220420_111706_258.png', '11-CAPTURE_20220420_112757_795.png', '11-CAPTURE_20220421_112303_472.png', '11-CAPTURE_20220421_113146_182.png', '11-CAPTURE_20220421_113635_042.png', '11-CAPTURE_20220422_114036_013.png', '11-CAPTURE_20220422_114518_072.png', '11-CAPTURE_20220422_114533_476.png', '11-CAPTURE_20220425_110043_903.png', '11-CAPTURE_20220425_110058_106.png', '11-CAPTURE_20220425_111353_069.png', '11-CAPTURE_20220425_111912_910.png', '11-CAPTURE_20220425_112543_477.png', '11-CAPTURE_20220425_114938_186.png', '11-CAPTURE_20220425_115124_408.png', '11-CAPTURE_20220425_115344_038.png', '11-CAPTURE_20220523_111031_149.png', '11-CAPTURE_20220523_111055_354.png', '11-CAPTURE_20220523_111119_359.png', '11-CAPTURE_20220523_111350_190.png', '11-CAPTURE_20220523_113218_623.png', '11-CAPTURE_20220523_114227_951.png', '11-CAPTURE_20220523_114252_556.png', '11-CAPTURE_20220523_114302_759.png', '11-CAPTURE_20220523_114338_166.png', '11-CAPTURE_20220523_114441_579.png', '11-CAPTURE_20220531_110820_917.png', '11-CAPTURE_20220531_111030_344.png', '11-CAPTURE_20220531_112040_073.png', '11-CAPTURE_20220531_113951_517.png', '11-CAPTURE_20220531_114106_132.png', '11-CAPTURE_20220614_105732_181.png', '11-CAPTURE_20220614_110222_843.png', '11-CAPTURE_20220614_110817_918.png', '11-CAPTURE_20220614_112743_964.png', '12-CAPTURE_20220418_120615_028.png', '12-CAPTURE_20220418_122932_120.png', '12-CAPTURE_20220418_124559_125.png', '12-CAPTURE_20220420_122504_513.png', '12-CAPTURE_20220420_123055_786.png', '12-CAPTURE_20220420_123121_591.png', '12-CAPTURE_20220420_124612_778.png', '12-CAPTURE_20220421_120805_240.png', '12-CAPTURE_20220421_121539_735.png', '12-CAPTURE_20220421_122925_309.png', '12-CAPTURE_20220421_123144_338.png', '12-CAPTURE_20220421_123345_964.png', '12-CAPTURE_20220421_123447_977.png', '12-CAPTURE_20220421_123605_793.png', '12-CAPTURE_20220422_120231_090.png', '12-CAPTURE_20220422_120305_897.png', '12-CAPTURE_20220422_120322_501.png', '12-CAPTURE_20220422_121102_398.png', '12-CAPTURE_20220422_121151_608.png', '12-CAPTURE_20220422_121505_049.png', '12-CAPTURE_20220422_121516_051.png', '12-CAPTURE_20220422_121839_294.png', '12-CAPTURE_20220422_121911_701.png', '12-CAPTURE_20220422_122032_518.png', '12-CAPTURE_20220425_122303_007.png', '12-CAPTURE_20220425_122732_063.png', '12-CAPTURE_20220425_125227_177.png', '12-CAPTURE_20220523_123746_650.png', '12-CAPTURE_20220523_123806_254.png', '12-CAPTURE_20220523_124003_679.png', '12-CAPTURE_20220531_114425_574.png', '12-CAPTURE_20220531_121314_139.png', '12-CAPTURE_20220531_121428_754.png', '12-CAPTURE_20220531_121442_157.png', '12-CAPTURE_20220531_121504_362.png', '12-CAPTURE_20220531_123940_872.png', '12-CAPTURE_20220531_123950_874.png', '12-CAPTURE_20220531_124019_480.png', '12-CAPTURE_20220531_124208_303.png', '12-CAPTURE_20220614_121648_384.png', '12-CAPTURE_20220614_121730_993.png', '12-CAPTURE_20220614_121743_395.png', '12-CAPTURE_20220614_121752_997.png', '12-CAPTURE_20220614_122140_645.png', '12-CAPTURE_20220614_122306_463.png', '12-CAPTURE_20220614_123545_022.png', '12-CAPTURE_20220614_123555_024.png', '12-CAPTURE_20220614_123636_833.png', '12-CAPTURE_20220614_123733_445.png', '12-CAPTURE_20220614_123954_074.png', '13-CAPTURE_20220418_130543_172.png', '13-CAPTURE_20220418_133731_371.png', '13-CAPTURE_20220418_134035_209.png', '13-CAPTURE_20220420_130315_591.png', '13-CAPTURE_20220420_133304_963.png', '13-CAPTURE_20220420_133349_772.png', '13-CAPTURE_20220420_133359_374.png', '13-CAPTURE_20220422_125450_352.png', '13-CAPTURE_20220422_130420_272.png', '13-CAPTURE_20220422_130630_299.png', '13-CAPTURE_20220422_130717_309.png', '13-CAPTURE_20220422_130747_315.png', '13-CAPTURE_20220422_132106_284.png', '13-CAPTURE_20220422_132117_686.png', '13-CAPTURE_20220425_125826_853.png', '13-CAPTURE_20220425_131119_415.png', '13-CAPTURE_20220425_133352_099.png', '13-CAPTURE_20220425_134502_240.png', '13-CAPTURE_20220425_135451_364.png', '13-CAPTURE_20220523_131226_088.png', '13-CAPTURE_20220523_131238_290.png', '13-CAPTURE_20220523_131247_892.png', '13-CAPTURE_20220523_131258_295.png', '13-CAPTURE_20220523_131655_344.png', '13-CAPTURE_20220523_131853_969.png', '13-CAPTURE_20220523_133618_989.png', '13-CAPTURE_20220531_124246_111.png', '13-CAPTURE_20220531_130740_223.png', '13-CAPTURE_20220531_134104_641.png', '13-CAPTURE_20220531_134331_671.png', '13-CAPTURE_20220531_134418_081.png', '13-CAPTURE_20220531_134515_493.png', '13-CAPTURE_20220531_134604_903.png', '13-CAPTURE_20220531_134718_518.png', '13-CAPTURE_20220531_134832_334.png', '13-CAPTURE_20220531_134842_136.png', '13-CAPTURE_20220531_134957_952.png', '13-CAPTURE_20220531_135008_354.png', '13-CAPTURE_20220614_130742_823.png', '13-CAPTURE_20220614_134712_718.png', '13-CAPTURE_20220614_134926_546.png', '13-CAPTURE_20220614_135012_556.png', '13-CAPTURE_20220614_135055_765.png', '13-CAPTURE_20220614_135629_634.png', '14-CAPTURE_20220418_141625_060.png', '14-CAPTURE_20220418_143232_863.png', '14-CAPTURE_20220418_143303_069.png', '14-CAPTURE_20220418_143333_475.png', '14-CAPTURE_20220418_143412_084.png', '14-CAPTURE_20220418_143755_130.png', '14-CAPTURE_20220418_144109_371.png', '14-CAPTURE_20220420_140112_715.png', '14-CAPTURE_20220420_140822_604.png', '14-CAPTURE_20220420_142123_967.png', '14-CAPTURE_20220420_143255_112.png', '14-CAPTURE_20220420_143416_929.png', '14-CAPTURE_20220420_143639_159.png', '14-CAPTURE_20220420_143652_961.png', '14-CAPTURE_20220420_143807_377.png', '14-CAPTURE_20220420_143936_596.png', '14-CAPTURE_20220420_144204_226.png', '14-CAPTURE_20220421_140015_455.png', '14-CAPTURE_20220421_141942_300.png', '14-CAPTURE_20220421_143129_449.png', '14-CAPTURE_20220421_144054_167.png', '14-CAPTURE_20220421_144421_010.png', '14-CAPTURE_20220421_144449_617.png', '14-CAPTURE_20220421_144507_020.png', '14-CAPTURE_20220421_144805_058.png', '14-CAPTURE_20220421_145050_892.png', '14-CAPTURE_20220422_140432_233.png', '14-CAPTURE_20220422_140456_638.png', '14-CAPTURE_20220422_140509_441.png', '14-CAPTURE_20220422_142815_932.png', '14-CAPTURE_20220422_144601_356.png', '14-CAPTURE_20220422_144649_766.png', '14-CAPTURE_20220422_144731_575.png', '14-CAPTURE_20220422_144757_381.png', '14-CAPTURE_20220422_145823_912.png', '14-CAPTURE_20220425_141307_194.png', '14-CAPTURE_20220425_143044_417.png', '14-CAPTURE_20220425_143454_869.png', '14-CAPTURE_20220523_142351_985.png', '14-CAPTURE_20220523_142601_011.png', '14-CAPTURE_20220523_142908_250.png', '14-CAPTURE_20220523_143115_677.png', '14-CAPTURE_20220523_143732_556.png', '14-CAPTURE_20220523_144128_405.png', '14-CAPTURE_20220531_143412_105.png', '14-CAPTURE_20220531_143504_715.png', '14-CAPTURE_20220531_143747_949.png', '14-CAPTURE_20220531_143839_560.png', '14-CAPTURE_20220531_143917_168.png', '14-CAPTURE_20220531_144107_591.png', '14-CAPTURE_20220531_144554_851.png', '14-CAPTURE_20220531_144715_268.png', '14-CAPTURE_20220531_144832_684.png', '14-CAPTURE_20220614_143118_871.png', '14-CAPTURE_20220614_143250_890.png', '14-CAPTURE_20220614_143307_293.png', '14-CAPTURE_20220614_143353_903.png', '14-CAPTURE_20220614_143453_916.png', '14-CAPTURE_20220614_143516_320.png', '14-CAPTURE_20220614_143557_329.png', '14-CAPTURE_20220614_143740_951.png', '15-CAPTURE_20220418_152522_930.png', '15-CAPTURE_20220418_153604_065.png', '15-CAPTURE_20220418_154249_351.png', '15-CAPTURE_20220418_154920_833.png', '15-CAPTURE_20220420_152847_213.png', '15-CAPTURE_20220420_153539_699.png', '15-CAPTURE_20220420_153549_501.png', '15-CAPTURE_20220420_153613_506.png', '15-CAPTURE_20220420_153630_110.png', '15-CAPTURE_20220420_153649_314.png', '15-CAPTURE_20220420_155309_119.png', '15-CAPTURE_20220421_154643_195.png', '15-CAPTURE_20220421_154932_830.png', '15-CAPTURE_20220421_155121_653.png', '15-CAPTURE_20220421_155821_141.png', '15-CAPTURE_20220425_153028_571.png', '15-CAPTURE_20220425_153419_220.png', '15-CAPTURE_20220425_154210_719.png', '15-CAPTURE_20220425_154452_153.png', '15-CAPTURE_20220426_152619_461.png', '15-CAPTURE_20220426_154514_298.png', '15-CAPTURE_20220426_155136_378.png', '15-CAPTURE_20220523_154442_794.png', '15-CAPTURE_20220523_155118_877.png', '15-CAPTURE_20220523_155138_481.png', '15-CAPTURE_20220523_155205_687.png', '15-CAPTURE_20220523_155247_295.png', '15-CAPTURE_20220523_155828_366.png', '15-CAPTURE_20220531_152622_158.png', '15-CAPTURE_20220531_152721_570.png', '15-CAPTURE_20220531_152904_192.png', '15-CAPTURE_20220531_154405_580.png', '15-CAPTURE_20220531_155134_674.png', '15-CAPTURE_20220614_152620_563.png', '15-CAPTURE_20220614_152937_204.png', '15-CAPTURE_20220614_152953_408.png', '15-CAPTURE_20220614_153034_617.png', '15-CAPTURE_20220614_153203_835.png', '15-CAPTURE_20220614_153335_055.png', '15-CAPTURE_20220614_154307_775.png', '15-CAPTURE_20220614_154640_820.png', '15-CAPTURE_20220614_155145_484.png', '15-CAPTURE_20220614_155741_359.png', '15-CAPTURE_20220620_153452_484.png', '15-CAPTURE_20220620_154930_086.png', '15-CAPTURE_20220620_155459_160.png', '16-CAPTURE_20220418_160517_235.png', '16-CAPTURE_20220418_160742_868.png', '16-CAPTURE_20220418_161726_188.png', '16-CAPTURE_20220418_161956_420.png', '16-CAPTURE_20220418_162057_233.png', '16-CAPTURE_20220418_162234_453.png', '16-CAPTURE_20220418_162312_061.png', '16-CAPTURE_20220418_162347_869.png', '16-CAPTURE_20220418_162400_071.png', '16-CAPTURE_20220418_162448_081.png', '16-CAPTURE_20220418_163527_216.png', '16-CAPTURE_20220418_163655_234.png', '16-CAPTURE_20220420_160648_491.png', '16-CAPTURE_20220420_160706_695.png', '16-CAPTURE_20220420_160716_497.png', '16-CAPTURE_20220420_160727_899.png', '16-CAPTURE_20220420_161203_557.png', '16-CAPTURE_20220420_161612_409.png', '16-CAPTURE_20220420_161630_813.png', '16-CAPTURE_20220420_163031_390.png', '16-CAPTURE_20220420_164248_944.png', '16-CAPTURE_20220420_164723_202.png', '16-CAPTURE_20220420_165833_542.png', '16-CAPTURE_20220420_165910_750.png', '16-CAPTURE_20220420_165924_153.png', '16-CAPTURE_20220421_161032_294.png', '16-CAPTURE_20220421_164809_567.png', '16-CAPTURE_20220421_165823_496.png', '16-CAPTURE_20220421_165907_105.png', '16-CAPTURE_20220422_162544_610.png', '16-CAPTURE_20220422_162606_815.png', '16-CAPTURE_20220422_162617_417.png', '16-CAPTURE_20220422_162630_820.png', '16-CAPTURE_20220422_162812_241.png', '16-CAPTURE_20220422_164107_803.png', '16-CAPTURE_20220422_164523_857.png', '16-CAPTURE_20220425_160118_560.png', '16-CAPTURE_20220425_161505_134.png', '16-CAPTURE_20220425_163405_975.png', '16-CAPTURE_20220425_163416_177.png', '16-CAPTURE_20220425_163448_384.png', '16-CAPTURE_20220425_163515_589.png', '16-CAPTURE_20220425_163916_040.png', '16-CAPTURE_20220425_164852_962.png', '16-CAPTURE_20220425_165506_440.png', '16-CAPTURE_20220426_155853_269.png', '16-CAPTURE_20220426_163326_703.png', '16-CAPTURE_20220531_155957_780.png', '16-CAPTURE_20220531_160109_795.png', '16-CAPTURE_20220531_161010_709.png', '16-CAPTURE_20220531_161416_761.png', '16-CAPTURE_20220531_163408_212.png', '16-CAPTURE_20220614_160259_026.png', '16-CAPTURE_20220614_163522_636.png', '16-CAPTURE_20220614_163729_063.png', '16-CAPTURE_20220620_165336_132.png', '17-CAPTURE_20220418_170310_366.png', '17-CAPTURE_20220418_171254_088.png', '17-CAPTURE_20220418_173838_413.png', '17-CAPTURE_20220418_173852_216.png', '17-CAPTURE_20220418_173919_222.png', '17-CAPTURE_20220418_174953_955.png', '17-CAPTURE_20220418_175005_158.png', '17-CAPTURE_20220418_175126_175.png', '17-CAPTURE_20220420_170125_578.png', '17-CAPTURE_20220420_171000_487.png', '17-CAPTURE_20220420_172607_490.png', '17-CAPTURE_20220420_172617_291.png', '17-CAPTURE_20220420_172943_135.png', '17-CAPTURE_20220420_173041_147.png', '17-CAPTURE_20220420_173101_551.png', '17-CAPTURE_20220420_173514_004.png', '17-CAPTURE_20220420_173554_012.png', '17-CAPTURE_20220420_173605_215.png', '17-CAPTURE_20220420_173700_226.png', '17-CAPTURE_20220420_173811_641.png', '17-CAPTURE_20220420_173822_443.png', '17-CAPTURE_20220420_173859_851.png', '17-CAPTURE_20220420_174339_310.png', '17-CAPTURE_20220421_170154_940.png', '17-CAPTURE_20220421_170932_236.png', '17-CAPTURE_20220422_172846_602.png', '17-CAPTURE_20220425_165935_097.png', '17-CAPTURE_20220425_170636_186.png', '17-CAPTURE_20220425_170709_793.png', '17-CAPTURE_20220425_172554_430.png', '17-CAPTURE_20220425_172943_078.png', '17-CAPTURE_20220425_173229_513.png', '17-CAPTURE_20220426_170050_246.png', '17-CAPTURE_20220426_170132_855.png', '17-CAPTURE_20220426_170142_657.png', '17-CAPTURE_20220426_170152_459.png', '17-CAPTURE_20220426_170203_261.png', '17-CAPTURE_20220426_170212_863.png', '17-CAPTURE_20220426_171542_032.png', '17-CAPTURE_20220426_171745_258.png', '17-CAPTURE_20220426_171809_863.png', '17-CAPTURE_20220426_172238_519.png', '17-CAPTURE_20220426_172308_725.png', '17-CAPTURE_20220426_173031_418.png', '17-CAPTURE_20220426_173331_855.png', '17-CAPTURE_20220426_173556_486.png', '17-CAPTURE_20220426_173834_719.png', '17-CAPTURE_20220426_173915_727.png', '17-CAPTURE_20220426_174149_960.png', '17-CAPTURE_20220426_174225_967.png', '17-CAPTURE_20220426_174248_572.png', '17-CAPTURE_20220426_174357_786.png', '17-CAPTURE_20220426_174420_991.png', '17-CAPTURE_20220426_174512_402.png', '17-CAPTURE_20220523_170249_975.png', '17-CAPTURE_20220523_170301_977.png', '17-CAPTURE_20220523_172234_223.png', '17-CAPTURE_20220531_172751_491.png', '17-CAPTURE_20220531_172829_499.png', '17-CAPTURE_20220531_174304_283.png', '17-CAPTURE_20220531_174850_556.png', '17-CAPTURE_20220531_174905_560.png', '17-CAPTURE_20220614_170717_640.png', '17-CAPTURE_20220614_170734_644.png', '17-CAPTURE_20220614_170807_651.png', '17-CAPTURE_20220614_172142_623.png', '17-CAPTURE_20220614_172435_460.png', '17-CAPTURE_20220614_172543_274.png', '17-CAPTURE_20220614_172740_699.png', '17-CAPTURE_20220614_172759_303.png', '17-CAPTURE_20220614_173039_736.png', '17-CAPTURE_20220614_173052_339.png', '17-CAPTURE_20220614_173800_229.png', '17-CAPTURE_20220614_174044_864.png', '17-CAPTURE_20220614_174101_668.png', '17-CAPTURE_20220614_175126_599.png', '17-CAPTURE_20220614_175137_402.png', '17-CAPTURE_20220620_170100_629.png', '17-CAPTURE_20220620_174731_427.png', '17-CAPTURE_20220620_174740_829.png', '18-CAPTURE_20220418_182437_993.png', '18-CAPTURE_20220418_182512_000.png', '18-CAPTURE_20220418_182631_617.png', '18-CAPTURE_20220418_182703_624.png', '18-CAPTURE_20220418_184345_435.png', '18-CAPTURE_20220418_184755_087.png', '18-CAPTURE_20220418_184808_090.png', '18-CAPTURE_20220418_185048_524.png', '18-CAPTURE_20220420_182901_681.png', '18-CAPTURE_20220420_182914_084.png', '18-CAPTURE_20220420_183016_497.png', '18-CAPTURE_20220420_183127_512.png', '18-CAPTURE_20220420_184020_023.png', '18-CAPTURE_20220420_184049_029.png', '18-CAPTURE_20220420_184059_432.png', '18-CAPTURE_20220420_184108_634.png', '18-CAPTURE_20220420_184118_236.png', '18-CAPTURE_20220420_185615_024.png', '18-CAPTURE_20220420_185629_627.png', '18-CAPTURE_20220420_185656_833.png', '18-CAPTURE_20220420_185707_235.png', '18-CAPTURE_20220420_185744_443.png', '18-CAPTURE_20220420_185854_257.png', '18-CAPTURE_20220421_181845_106.png', '18-CAPTURE_20220421_181942_518.png', '18-CAPTURE_20220421_183017_051.png', '18-CAPTURE_20220421_183111_663.png', '18-CAPTURE_20220421_184146_996.png', '18-CAPTURE_20220421_185610_577.png', '18-CAPTURE_20220421_185649_985.png', '18-CAPTURE_20220422_184727_590.png', '18-CAPTURE_20220425_181918_905.png', '18-CAPTURE_20220425_182359_764.png', '18-CAPTURE_20220425_182414_567.png', '18-CAPTURE_20220425_182424_769.png', '18-CAPTURE_20220425_185515_360.png', '18-CAPTURE_20220425_185639_178.png', '18-CAPTURE_20220425_185704_983.png', '18-CAPTURE_20220426_183510_431.png', '18-CAPTURE_20220426_183638_850.png', '18-CAPTURE_20220523_173957_442.png', '18-CAPTURE_20220523_180425_950.png', '18-CAPTURE_20220523_180459_157.png', '18-CAPTURE_20220523_180521_162.png', '18-CAPTURE_20220523_182329_990.png', '18-CAPTURE_20220531_180004_498.png', '18-CAPTURE_20220531_180031_104.png', '18-CAPTURE_20220531_180114_313.png', '18-CAPTURE_20220531_180612_376.png', '18-CAPTURE_20220531_180710_588.png', '18-CAPTURE_20220531_180720_590.png', '18-CAPTURE_20220531_183020_880.png', '18-CAPTURE_20220531_183402_526.png', '18-CAPTURE_20220531_183510_941.png', '18-CAPTURE_20220531_183519_942.png', '18-CAPTURE_20220531_183529_745.png', '18-CAPTURE_20220531_183616_554.png', '18-CAPTURE_20220531_183655_362.png', '18-CAPTURE_20220531_183746_773.png', '18-CAPTURE_20220531_183919_993.png', '18-CAPTURE_20220531_183954_000.png', '18-CAPTURE_20220531_184157_826.png', '18-CAPTURE_20220614_175727_875.png', '18-CAPTURE_20220614_181026_839.png', '18-CAPTURE_20220614_183833_794.png', '18-CAPTURE_20220614_184044_022.png', '18-CAPTURE_20220614_184151_036.png', '18-CAPTURE_20220614_184201_638.png', '18-CAPTURE_20220614_184247_647.png', '18-CAPTURE_20220614_184325_856.png', '18-CAPTURE_20220614_184836_121.png', '18-CAPTURE_20220614_184907_727.png', '18-CAPTURE_20220614_185044_548.png', '18-CAPTURE_20220614_185530_008.png', '18-CAPTURE_20220614_185719_431.png', '18-CAPTURE_20220620_184806_593.png', '19-CAPTURE_20220418_190114_255.png', '19-CAPTURE_20220418_191435_424.png', '19-CAPTURE_20220420_185946_268.png', '19-CAPTURE_20220420_190008_073.png', '19-CAPTURE_20220420_190017_675.png', '19-CAPTURE_20220420_190546_744.png', '19-CAPTURE_20220420_191040_406.png', '19-CAPTURE_20220420_191055_609.png', '19-CAPTURE_20220420_191848_309.png', '19-CAPTURE_20220420_192115_740.png', '19-CAPTURE_20220420_192127_542.png', '19-CAPTURE_20220420_193000_450.png', '19-CAPTURE_20220420_195738_000.png', '19-CAPTURE_20220420_195749_002.png', '19-CAPTURE_20220420_195759_004.png', '19-CAPTURE_20220421_190406_877.png', '19-CAPTURE_20220421_190417_879.png', '19-CAPTURE_20220421_190537_496.png', '19-CAPTURE_20220421_190951_350.png', '19-CAPTURE_20220421_191342_998.png', '19-CAPTURE_20220425_192350_923.png', '19-CAPTURE_20220425_192455_536.png', '19-CAPTURE_20220425_195923_772.png', '19-CAPTURE_20220426_185959_144.png', '19-CAPTURE_20220426_190149_968.png', '19-CAPTURE_20220426_190401_195.png', '19-CAPTURE_20220426_190640_429.png', '19-CAPTURE_20220426_190708_435.png', '19-CAPTURE_20220426_190955_070.png', '19-CAPTURE_20220523_184216_426.png', '19-CAPTURE_20220523_191602_852.png', '19-CAPTURE_20220531_193701_116.png', '19-CAPTURE_20220531_193710_118.png', '19-CAPTURE_20220531_193744_325.png', '19-CAPTURE_20220531_193822_733.png', '19-CAPTURE_20220531_193839_937.png', '19-CAPTURE_20220531_194543_025.png', '19-CAPTURE_20220531_195214_906.png', '19-CAPTURE_20220614_192019_520.png', '19-CAPTURE_20220614_192447_776.png', '19-CAPTURE_20220620_190156_563.png', '19-CAPTURE_20220620_195745_446.png', '19-CAPTURE_20220620_195921_665.png', '20-CAPTURE_20220418_201054_133.png', '20-CAPTURE_20220418_201105_935.png', '20-CAPTURE_20220418_202104_861.png', '20-CAPTURE_20220418_202500_110.png', '20-CAPTURE_20220418_202848_158.png', '20-CAPTURE_20220418_204423_553.png', '20-CAPTURE_20220420_200454_092.png', '20-CAPTURE_20220420_200916_547.png', '20-CAPTURE_20220420_201023_362.png', '20-CAPTURE_20220420_201038_365.png', '20-CAPTURE_20220420_201053_168.png', '20-CAPTURE_20220420_201509_022.png', '20-CAPTURE_20220420_205242_498.png', '20-CAPTURE_20220420_205252_100.png', '20-CAPTURE_20220420_205312_104.png', '20-CAPTURE_20220420_205321_706.png', '20-CAPTURE_20220421_192852_189.png', '20-CAPTURE_20220421_202955_157.png', '20-CAPTURE_20220421_203123_376.png', '20-CAPTURE_20220421_204039_893.png', '20-CAPTURE_20220421_204947_407.png', '20-CAPTURE_20220425_200103_793.png', '20-CAPTURE_20220425_200128_599.png', '20-CAPTURE_20220425_200139_601.png', '20-CAPTURE_20220425_200229_011.png', '20-CAPTURE_20220425_200354_229.png', '20-CAPTURE_20220425_200412_233.png', '20-CAPTURE_20220425_200441_639.png', '20-CAPTURE_20220425_200505_244.png', '20-CAPTURE_20220425_201111_321.png', '20-CAPTURE_20220425_203108_573.png', '20-CAPTURE_20220425_203331_002.png', '20-CAPTURE_20220425_203359_208.png', '20-CAPTURE_20220425_204649_970.png', '20-CAPTURE_20220425_204800_584.png', '20-CAPTURE_20220425_205040_818.png', '20-CAPTURE_20220425_205420_864.png', '20-CAPTURE_20220425_205431_666.png', '20-CAPTURE_20220426_202448_816.png', '20-CAPTURE_20220426_204351_057.png', '20-CAPTURE_20220426_204440_067.png', '20-CAPTURE_20220426_204511_274.png', '20-CAPTURE_20220426_204632_091.png', '20-CAPTURE_20220523_200259_443.png', '20-CAPTURE_20220523_200938_327.png', '20-CAPTURE_20220523_200953_330.png', '20-CAPTURE_20220523_201104_545.png', '20-CAPTURE_20220523_201118_148.png', '20-CAPTURE_20220523_201137_952.png', '20-CAPTURE_20220523_201148_754.png', '20-CAPTURE_20220523_201158_956.png', '20-CAPTURE_20220523_201222_561.png', '20-CAPTURE_20220523_202258_295.png', '20-CAPTURE_20220531_201852_239.png', '20-CAPTURE_20220531_202756_952.png', '20-CAPTURE_20220531_202811_956.png', '20-CAPTURE_20220531_202825_159.png', '20-CAPTURE_20220531_203025_383.png', '20-CAPTURE_20220531_204015_107.png', '20-CAPTURE_20220531_204109_718.png', '20-CAPTURE_20220531_204402_154.png', '20-CAPTURE_20220531_205803_331.png', '20-CAPTURE_20220614_200004_419.png', '20-CAPTURE_20220614_200025_023.png', '20-CAPTURE_20220614_200229_649.png', '20-CAPTURE_20220614_202148_291.png', '20-CAPTURE_20220614_202308_908.png', '20-CAPTURE_20220614_202341_315.png', '20-CAPTURE_20220614_202401_519.png', '20-CAPTURE_20220614_203715_885.png', '20-CAPTURE_20220620_204221_187.png', '20-CAPTURE_20220620_205157_505.png', '21-CAPTURE_20220418_210537_620.png', '21-CAPTURE_20220418_211616_953.png', '21-CAPTURE_20220418_211657_761.png', '21-CAPTURE_20220418_211710_364.png', '21-CAPTURE_20220418_211752_373.png', '21-CAPTURE_20220418_214743_747.png', '21-CAPTURE_20220418_215253_411.png', '21-CAPTURE_20220420_212208_071.png', '21-CAPTURE_20220420_213458_635.png', '21-CAPTURE_20220420_213518_238.png', '21-CAPTURE_20220420_214303_137.png', '21-CAPTURE_20220420_215437_284.png', '21-CAPTURE_20220420_215454_287.png', '21-CAPTURE_20220420_215555_900.png', '21-CAPTURE_20220421_205625_691.png', '21-CAPTURE_20220421_210206_562.png', '21-CAPTURE_20220421_210227_166.png', '21-CAPTURE_20220421_210307_775.png', '21-CAPTURE_20220421_213112_728.png', '21-CAPTURE_20220421_215035_971.png', '21-CAPTURE_20220426_204828_315.png', '21-CAPTURE_20220426_210055_872.png', '21-CAPTURE_20220426_210129_279.png', '21-CAPTURE_20220426_213118_855.png', '21-CAPTURE_20220426_213744_536.png', '21-CAPTURE_20220426_215617_170.png', '21-CAPTURE_20220426_215831_198.png', '21-CAPTURE_20220426_215851_802.png', '21-CAPTURE_20220426_215901_804.png', '21-CAPTURE_20220426_215912_606.png', '21-CAPTURE_20220523_210101_774.png', '21-CAPTURE_20220523_210121_778.png', '21-CAPTURE_20220523_210142_783.png', '21-CAPTURE_20220523_210203_787.png', '21-CAPTURE_20220523_214502_728.png', '21-CAPTURE_20220523_215458_053.png', '21-CAPTURE_20220523_215516_457.png', '21-CAPTURE_20220523_215531_060.png', '21-CAPTURE_20220523_215607_068.png', '21-CAPTURE_20220523_215826_097.png', '21-CAPTURE_20220531_210745_253.png', '21-CAPTURE_20220531_211117_897.png', '21-CAPTURE_20220531_211237_514.png', '21-CAPTURE_20220531_214841_368.png', '21-CAPTURE_20220531_214958_585.png', '21-CAPTURE_20220531_215103_798.png', '21-CAPTURE_20220531_215324_828.png', '21-CAPTURE_20220614_210449_231.png', '21-CAPTURE_20220614_211235_529.png', '21-CAPTURE_20220614_211245_531.png', '21-CAPTURE_20220614_211255_533.png', '21-CAPTURE_20220614_214659_161.png', '21-CAPTURE_20220614_214729_968.png', '21-CAPTURE_20220614_215106_613.png', '21-CAPTURE_20220614_215128_818.png', '21-CAPTURE_20220614_215306_838.png', '21-CAPTURE_20220614_215316_840.png', '21-CAPTURE_20220614_215331_844.png', '21-CAPTURE_20220620_205334_725.png', '22-CAPTURE_20220418_215511_640.png', '22-CAPTURE_20220418_222309_990.png', '22-CAPTURE_20220418_223649_161.png', '22-CAPTURE_20220418_225001_326.png', '22-CAPTURE_20220420_220711_843.png', '22-CAPTURE_20220420_220917_270.png', '22-CAPTURE_20220420_220947_676.png', '22-CAPTURE_20220420_221011_081.png', '22-CAPTURE_20220420_221020_083.png', '22-CAPTURE_20220420_221320_321.png', '22-CAPTURE_20220420_221409_731.png', '22-CAPTURE_20220420_221643_764.png', '22-CAPTURE_20220420_222706_095.png', '22-CAPTURE_20220420_224022_463.png', '22-CAPTURE_20220420_225822_491.png', '22-CAPTURE_20220421_220112_504.png', '22-CAPTURE_20220421_220511_954.png', '22-CAPTURE_20220421_221223_844.png', '22-CAPTURE_20220421_221350_062.png', '22-CAPTURE_20220421_221522_882.png', '22-CAPTURE_20220421_223015_068.png', '22-CAPTURE_20220421_223100_478.png', '22-CAPTURE_20220421_223745_162.png', '22-CAPTURE_20220421_223913_781.png', '22-CAPTURE_20220421_224233_623.png', '22-CAPTURE_20220421_224420_045.png', '22-CAPTURE_20220425_221315_052.png', '22-CAPTURE_20220425_221921_128.png', '22-CAPTURE_20220425_221937_131.png', '22-CAPTURE_20220425_221952_735.png', '22-CAPTURE_20220425_222003_737.png', '22-CAPTURE_20220425_222032_743.png', '22-CAPTURE_20220425_222110_351.png', '22-CAPTURE_20220425_222135_556.png', '22-CAPTURE_20220425_222213_364.png', '22-CAPTURE_20220425_222259_373.png', '22-CAPTURE_20220425_222315_777.png', '22-CAPTURE_20220426_220134_436.png', '22-CAPTURE_20220426_220212_644.png', '22-CAPTURE_20220426_221955_466.png', '22-CAPTURE_20220426_222338_113.png', '22-CAPTURE_20220426_222515_733.png', '22-CAPTURE_20220426_222734_962.png', '22-CAPTURE_20220426_224242_552.png', '22-CAPTURE_20220426_225437_101.png', '22-CAPTURE_20220523_220145_939.png', '22-CAPTURE_20220531_220436_970.png', '22-CAPTURE_20220531_220455_774.png', '22-CAPTURE_20220531_221907_954.png', '22-CAPTURE_20220531_222657_653.png', '22-CAPTURE_20220614_215827_705.png', '22-CAPTURE_20220614_220744_022.png', '22-CAPTURE_20220614_220756_625.png', '22-CAPTURE_20220614_223429_159.png', '22-CAPTURE_20220614_223453_164.png', '22-CAPTURE_20220614_223505_366.png', '22-CAPTURE_20220614_223557_377.png', '22-CAPTURE_20220620_215912_138.png', '22-CAPTURE_20220620_220150_971.png', '22-CAPTURE_20220620_221652_759.png', '22-CAPTURE_20220620_222150_621.png', '22-CAPTURE_20220620_225853_886.png', '22-CAPTURE_20220620_225945_096.png', '23-CAPTURE_20220418_231850_887.png', '23-CAPTURE_20220418_232239_935.png', '23-CAPTURE_20220418_233402_878.png', '23-CAPTURE_20220418_233429_884.png', '23-CAPTURE_20220418_233652_714.png', '23-CAPTURE_20220418_233749_726.png', '23-CAPTURE_20220418_233835_335.png', '23-CAPTURE_20220420_232309_604.png', '23-CAPTURE_20220420_233342_137.png', '23-CAPTURE_20220420_233452_352.png', '23-CAPTURE_20220420_233642_575.png', '23-CAPTURE_20220420_233653_977.png', '23-CAPTURE_20220420_233947_414.png', '23-CAPTURE_20220420_234057_429.png', '23-CAPTURE_20220421_233603_294.png', '23-CAPTURE_20220421_234148_967.png', '23-CAPTURE_20220421_234549_417.png', '23-CAPTURE_20220425_231309_803.png', '23-CAPTURE_20220425_232045_699.png', '23-CAPTURE_20220425_232115_705.png', '23-CAPTURE_20220425_233012_217.png', '23-CAPTURE_20220425_233159_440.png', '23-CAPTURE_20220425_233316_056.png', '23-CAPTURE_20220425_233426_271.png', '23-CAPTURE_20220425_233708_105.png', '23-CAPTURE_20220426_232015_023.png', '23-CAPTURE_20220426_232751_519.png', '23-CAPTURE_20220426_233255_583.png', '23-CAPTURE_20220426_233305_385.png', '23-CAPTURE_20220426_233524_214.png', '23-CAPTURE_20220426_233615_825.png', '23-CAPTURE_20220426_233845_656.png', '23-CAPTURE_20220426_233912_461.png', '23-CAPTURE_20220426_233936_666.png', '23-CAPTURE_20220426_234011_274.png', '23-CAPTURE_20220426_234322_914.png', '23-CAPTURE_20220426_234631_353.png', '23-CAPTURE_20220523_225556_622.png', '23-CAPTURE_20220523_230247_108.png', '23-CAPTURE_20220523_230523_140.png', '23-CAPTURE_20220523_231027_604.png', '23-CAPTURE_20220523_233212_678.png', '23-CAPTURE_20220531_225830_453.png', '23-CAPTURE_20220531_232117_542.png', '23-CAPTURE_20220531_232154_150.png', '23-CAPTURE_20220531_233413_906.png', '23-CAPTURE_20220531_234443_639.png', '23-CAPTURE_20220531_234456_241.png', '23-CAPTURE_20220614_230225_710.png', '23-CAPTURE_20220614_230258_317.png', '23-CAPTURE_20220614_232330_776.png', '23-CAPTURE_20220614_233215_686.png', '23-CAPTURE_20220614_233750_556.png', '23-CAPTURE_20220614_233837_766.png', '23-CAPTURE_20220614_233905_371.png', '23-CAPTURE_20220614_234028_189.png', '23-CAPTURE_20220614_234100_996.png', '23-CAPTURE_20220614_234331_827.png', '23-CAPTURE_20220620_233326_323.png', '23-CAPTURE_20220620_234139_627.png', '23-CAPTURE_20220620_234413_860.png']\n",
      "['00-CAPTURE_20220531_001105_440.png', '08-CAPTURE_20220426_085103_077.png', '14-CAPTURE_20220531_140003_678.png', '14-CAPTURE_20220531_143438_110.png', '21-CAPTURE_20220421_213200_738.png', '22-CAPTURE_20220421_225039_124.png', '22-CAPTURE_20220421_225225_147.png', '22-CAPTURE_20220421_225234_349.png', '22-CAPTURE_20220426_225501_507.png', '22-CAPTURE_20220620_223549_796.png', '22-CAPTURE_20220620_225920_891.png', '22-CAPTURE_20220620_225933_494.png', '23-CAPTURE_20220420_233138_111.png', '23-CAPTURE_20220420_233151_314.png', '23-CAPTURE_20220420_233625_971.png', '23-CAPTURE_20220420_234108_031.png', '23-CAPTURE_20220421_233227_249.png', '23-CAPTURE_20220421_233239_052.png', '23-CAPTURE_20220421_234506_208.png', '23-CAPTURE_20220425_231743_861.png', '23-CAPTURE_20220425_231826_269.png', '23-CAPTURE_20220425_232032_496.png', '23-CAPTURE_20220425_232055_701.png', '23-CAPTURE_20220425_232106_103.png', '23-CAPTURE_20220425_232138_310.png', '23-CAPTURE_20220425_233040_223.png', '23-CAPTURE_20220425_233102_428.png', '23-CAPTURE_20220425_233242_449.png', '23-CAPTURE_20220425_233820_120.png', '23-CAPTURE_20220425_234152_564.png', '23-CAPTURE_20220425_234726_035.png', '23-CAPTURE_20220425_234828_648.png', '23-CAPTURE_20220425_234840_050.png', '23-CAPTURE_20220531_234144_401.png', '23-CAPTURE_20220620_225956_499.png', '23-CAPTURE_20220620_234530_276.png', '23-CAPTURE_20220620_234542_878.png']\n",
      "['05-CAPTURE_20220422_053557_820.png', '05-CAPTURE_20220422_053644_630.png', '07-CAPTURE_20220420_071637_006.png', '07-CAPTURE_20220421_073051_350.png', '07-CAPTURE_20220422_073258_094.png', '07-CAPTURE_20220426_073337_907.png', '07-CAPTURE_20220620_071443_210.png', '07-CAPTURE_20220620_071635_634.png', '07-CAPTURE_20220620_072637_160.png', '08-CAPTURE_20220422_081607_838.png', '08-CAPTURE_20220426_082218_718.png', '09-CAPTURE_20220420_090647_800.png', '09-CAPTURE_20220420_090724_007.png', '09-CAPTURE_20220420_090817_619.png', '09-CAPTURE_20220420_091059_253.png', '09-CAPTURE_20220420_091307_080.png', '09-CAPTURE_20220421_094411_028.png', '09-CAPTURE_20220421_095014_904.png', '09-CAPTURE_20220425_090024_394.png', '09-CAPTURE_20220425_091156_139.png', '09-CAPTURE_20220620_090516_603.png', '10-CAPTURE_20220420_102918_250.png', '10-CAPTURE_20220420_103209_487.png', '10-CAPTURE_20220421_103525_672.png', '10-CAPTURE_20220421_103604_080.png', '10-CAPTURE_20220421_103615_083.png', '10-CAPTURE_20220421_103732_299.png', '10-CAPTURE_20220422_095754_120.png', '10-CAPTURE_20220422_103208_951.png', '10-CAPTURE_20220425_101439_924.png', '11-CAPTURE_20220420_110605_718.png', '11-CAPTURE_20220420_110714_333.png', '11-CAPTURE_20220420_110935_763.png', '11-CAPTURE_20220420_111052_979.png', '11-CAPTURE_20220420_111152_192.png', '11-CAPTURE_20220421_112140_454.png', '11-CAPTURE_20220421_112330_478.png', '11-CAPTURE_20220421_112545_506.png', '11-CAPTURE_20220425_105952_492.png', '11-CAPTURE_20220425_112607_887.png', '11-CAPTURE_20220425_115302_229.png', '11-CAPTURE_20220425_115433_048.png', '11-CAPTURE_20220425_115519_858.png', '12-CAPTURE_20220421_120755_238.png', '12-CAPTURE_20220421_121227_895.png', '12-CAPTURE_20220421_121326_707.png', '12-CAPTURE_20220421_122947_313.png', '12-CAPTURE_20220421_123223_346.png', '12-CAPTURE_20220421_123329_360.png', '12-CAPTURE_20220422_120434_116.png', '12-CAPTURE_20220422_120846_969.png', '12-CAPTURE_20220422_121353_434.png', '12-CAPTURE_20220422_121410_037.png', '12-CAPTURE_20220422_121430_241.png', '12-CAPTURE_20220422_121654_672.png', '13-CAPTURE_20220420_133410_176.png', '13-CAPTURE_20220420_133444_184.png', '13-CAPTURE_20220420_133723_617.png', '13-CAPTURE_20220425_131327_842.png', '13-CAPTURE_20220425_131909_914.png', '14-CAPTURE_20220420_143355_924.png', '14-CAPTURE_20220420_143741_772.png', '14-CAPTURE_20220420_143818_379.png', '14-CAPTURE_20220420_143910_590.png', '14-CAPTURE_20220420_144256_838.png', '14-CAPTURE_20220420_144306_840.png', '14-CAPTURE_20220420_144551_274.png', '14-CAPTURE_20220421_144104_569.png', '14-CAPTURE_20220421_144715_447.png', '14-CAPTURE_20220421_144914_072.png', '14-CAPTURE_20220422_140610_254.png', '14-CAPTURE_20220422_143239_388.png', '14-CAPTURE_20220422_143435_012.png', '14-CAPTURE_20220422_145854_519.png', '14-CAPTURE_20220425_143229_439.png', '14-CAPTURE_20220425_143425_863.png', '15-CAPTURE_20220422_153021_515.png', '15-CAPTURE_20220422_154428_692.png', '16-CAPTURE_20220420_161744_029.png', '16-CAPTURE_20220420_163656_871.png', '16-CAPTURE_20220421_162445_473.png', '16-CAPTURE_20220421_163106_953.png', '16-CAPTURE_20220422_164434_847.png', '16-CAPTURE_20220422_164723_682.png', '16-CAPTURE_20220531_160816_685.png', '16-CAPTURE_20220531_161225_938.png', '16-CAPTURE_20220531_163317_801.png', '16-CAPTURE_20220614_163512_437.png', '16-CAPTURE_20220614_163550_242.png', '16-CAPTURE_20220614_163636_852.png', '17-CAPTURE_20220420_173112_353.png', '17-CAPTURE_20220420_173528_007.png', '17-CAPTURE_20220420_173728_232.png', '17-CAPTURE_20220420_173924_857.png', '17-CAPTURE_20220420_174226_695.png', '17-CAPTURE_20220420_174247_499.png', '17-CAPTURE_20220420_174328_308.png', '17-CAPTURE_20220426_170006_037.png', '17-CAPTURE_20220426_170022_440.png', '17-CAPTURE_20220426_173400_063.png', '17-CAPTURE_20220426_173926_130.png', '17-CAPTURE_20220426_174004_738.png', '17-CAPTURE_20220426_174028_743.png', '17-CAPTURE_20220426_174054_948.png', '17-CAPTURE_20220426_174138_557.png', '17-CAPTURE_20220614_175245_416.png', '17-CAPTURE_20220614_175403_232.png', '17-CAPTURE_20220614_175442_041.png', '18-CAPTURE_20220421_182118_739.png', '18-CAPTURE_20220421_182235_355.png', '18-CAPTURE_20220421_182946_845.png', '18-CAPTURE_20220421_183052_259.png', '18-CAPTURE_20220421_185531_169.png', '18-CAPTURE_20220421_185551_973.png', '18-CAPTURE_20220422_183430_628.png', '18-CAPTURE_20220422_184749_395.png', '18-CAPTURE_20220531_180050_508.png', '18-CAPTURE_20220531_180651_384.png', '18-CAPTURE_20220531_183449_536.png', '18-CAPTURE_20220531_183632_758.png', '18-CAPTURE_20220531_183825_381.png', '18-CAPTURE_20220531_184029_207.png', '18-CAPTURE_20220614_180400_758.png', '19-CAPTURE_20220420_192539_195.png', '19-CAPTURE_20220420_192926_643.png', '19-CAPTURE_20220420_192937_846.png', '19-CAPTURE_20220420_195726_198.png', '19-CAPTURE_20220421_192744_375.png', '19-CAPTURE_20220421_192830_184.png', '19-CAPTURE_20220421_192841_186.png', '19-CAPTURE_20220531_193850_539.png', '19-CAPTURE_20220531_195204_704.png', '20-CAPTURE_20220420_201221_987.png', '20-CAPTURE_20220420_201346_004.png', '20-CAPTURE_20220420_201448_818.png', '20-CAPTURE_20220421_201848_617.png', '20-CAPTURE_20220421_201859_019.png', '20-CAPTURE_20220421_201948_230.png', '20-CAPTURE_20220531_205456_891.png', '20-CAPTURE_20220614_200124_235.png', '20-CAPTURE_20220614_200214_047.png', '21-CAPTURE_20220420_214432_556.png', '21-CAPTURE_20220420_214512_365.png', '21-CAPTURE_20220420_214532_369.png', '21-CAPTURE_20220420_215507_290.png', '21-CAPTURE_20220421_210251_171.png', '21-CAPTURE_20220421_211213_089.png', '21-CAPTURE_20220421_213127_131.png', '21-CAPTURE_20220421_213141_134.png', '21-CAPTURE_20220426_213955_364.png', '21-CAPTURE_20220531_214104_672.png', '21-CAPTURE_20220531_214114_674.png', '21-CAPTURE_20220531_214141_880.png', '21-CAPTURE_20220531_214223_289.png', '21-CAPTURE_20220531_215037_993.png', '21-CAPTURE_20220614_215038_007.png', '21-CAPTURE_20220614_215118_216.png', '22-CAPTURE_20220420_223916_049.png', '22-CAPTURE_20220420_224047_469.png', '22-CAPTURE_20220420_225811_488.png', '22-CAPTURE_20220420_225835_293.png', '22-CAPTURE_20220421_221334_459.png', '22-CAPTURE_20220421_223859_978.png', '22-CAPTURE_20220421_223955_790.png', '22-CAPTURE_20220421_224020_195.png', '22-CAPTURE_20220421_224113_206.png', '22-CAPTURE_20220421_224140_212.png', '22-CAPTURE_20220421_224252_427.png', '22-CAPTURE_20220426_220227_247.png', '22-CAPTURE_20220426_225322_886.png', '22-CAPTURE_20220426_225357_893.png', '22-CAPTURE_20220531_222427_822.png', '22-CAPTURE_20220531_222610_643.png', '22-CAPTURE_20220531_225631_027.png', '22-CAPTURE_20220614_221203_277.png', '22-CAPTURE_20220614_223411_755.png', '23-CAPTURE_20220420_233009_292.png', '23-CAPTURE_20220420_233550_164.png', '23-CAPTURE_20220420_233834_198.png', '23-CAPTURE_20220420_233930_410.png', '23-CAPTURE_20220421_233625_499.png', '23-CAPTURE_20220421_233925_337.png', '23-CAPTURE_20220421_234406_195.png', '23-CAPTURE_20220421_234517_010.png', '23-CAPTURE_20220426_233050_156.png', '23-CAPTURE_20220426_233348_594.png', '23-CAPTURE_20220426_233408_398.png', '23-CAPTURE_20220426_233433_603.png', '23-CAPTURE_20220426_233514_212.png', '23-CAPTURE_20220426_233606_423.png', '23-CAPTURE_20220426_233808_648.png', '23-CAPTURE_20220426_233834_453.png', '23-CAPTURE_20220426_234024_877.png', '23-CAPTURE_20220426_234344_318.png', '23-CAPTURE_20220426_234612_349.png', '23-CAPTURE_20220531_232907_441.png', '23-CAPTURE_20220531_233456_915.png', '23-CAPTURE_20220614_225624_034.png', '23-CAPTURE_20220614_230346_127.png', '23-CAPTURE_20220614_232202_157.png', '23-CAPTURE_20220614_233850_968.png', '23-CAPTURE_20220614_234038_791.png', '23-CAPTURE_20220614_234110_998.png', '23-CAPTURE_20220614_234407_035.png']\n",
      "['07-CAPTURE_20220421_075354_040.png', '07-CAPTURE_20220422_070756_979.png', '08-CAPTURE_20220421_083705_383.png', '08-CAPTURE_20220422_081216_590.png', '08-CAPTURE_20220422_081310_601.png', '08-CAPTURE_20220422_081413_014.png', '08-CAPTURE_20220422_081558_236.png', '09-CAPTURE_20220421_094338_421.png', '09-CAPTURE_20220421_095424_956.png', '09-CAPTURE_20220422_095248_256.png', '10-CAPTURE_20220421_103332_449.png', '10-CAPTURE_20220421_103410_857.png', '10-CAPTURE_20220421_104049_540.png', '10-CAPTURE_20220422_103340_170.png', '11-CAPTURE_20220421_112039_842.png', '11-CAPTURE_20220422_114156_630.png', '12-CAPTURE_20220421_120742_035.png', '12-CAPTURE_20220421_120815_642.png', '12-CAPTURE_20220421_121257_501.png', '12-CAPTURE_20220421_121336_709.png', '12-CAPTURE_20220421_121616_743.png', '12-CAPTURE_20220421_123239_350.png', '12-CAPTURE_20220421_123406_968.png', '12-CAPTURE_20220422_120900_372.png', '12-CAPTURE_20220422_121014_988.png', '12-CAPTURE_20220422_121252_421.png', '12-CAPTURE_20220422_121544_257.png', '12-CAPTURE_20220422_121728_279.png', '12-CAPTURE_20220422_121925_904.png', '14-CAPTURE_20220422_140215_804.png', '14-CAPTURE_20220422_143227_185.png', '14-CAPTURE_20220422_143452_616.png', '14-CAPTURE_20220422_144916_797.png', '14-CAPTURE_20220422_144958_006.png', '14-CAPTURE_20220422_145529_676.png', '16-CAPTURE_20220421_161553_361.png', '16-CAPTURE_20220421_163123_356.png', '16-CAPTURE_20220421_163147_161.png', '16-CAPTURE_20220422_164613_867.png', '18-CAPTURE_20220421_180829_777.png', '18-CAPTURE_20220421_181826_702.png', '18-CAPTURE_20220421_181927_915.png', '18-CAPTURE_20220421_182045_932.png', '18-CAPTURE_20220421_182128_741.png', '18-CAPTURE_20220421_183121_665.png', '18-CAPTURE_20220422_181428_376.png', '18-CAPTURE_20220422_182333_690.png', '18-CAPTURE_20220422_183531_640.png', '19-CAPTURE_20220421_190352_474.png', '19-CAPTURE_20220421_191025_557.png', '19-CAPTURE_20220421_192253_713.png', '20-CAPTURE_20220421_201918_424.png', '21-CAPTURE_20220421_210240_769.png', '21-CAPTURE_20220421_212757_487.png', '21-CAPTURE_20220421_215101_976.png', '22-CAPTURE_20220421_220407_141.png', '22-CAPTURE_20220421_220546_961.png', '22-CAPTURE_20220421_223939_787.png', '22-CAPTURE_20220421_224333_235.png', '23-CAPTURE_20220421_232810_195.png', '23-CAPTURE_20220421_232852_004.png', '23-CAPTURE_20220421_233647_504.png', '23-CAPTURE_20220421_234621_824.png']\n"
     ]
    }
   ],
   "source": [
    "import os\n",
    "print(os.listdir(\"C:/Users/botnet/Downloads/Homework/CarneDataset/train/CLASS_02\"))\n",
    "print(os.listdir(\"C:/Users/botnet/Downloads/Homework/CarneDataset/train/CLASS_03\"))\n",
    "print(os.listdir(\"C:/Users/botnet/Downloads/Homework/CarneDataset/train/CLASS_04\"))\n",
    "print(os.listdir(\"C:/Users/botnet/Downloads/Homework/CarneDataset/train/CLASS_05\"))\n",
    "print(os.listdir(\"C:/Users/botnet/Downloads/Homework/CarneDataset/train/CLASS_06\"))\n",
    "print(os.listdir(\"C:/Users/botnet/Downloads/Homework/CarneDataset/train/CLASS_07\"))\n",
    "print(os.listdir(\"C:/Users/botnet/Downloads/Homework/CarneDataset/train/CLASS_08\"))"
   ]
  },
  {
   "cell_type": "code",
   "execution_count": null,
   "metadata": {
    "pycharm": {
     "name": "#%%\n"
    }
   },
   "outputs": [],
   "source": [
    "from os import path\n",
    "from pathlib import Path\n",
    "from ipywidgets import Output, Button, Layout, HBox\n",
    "from IPython.display import Image, display, clear_output\n",
    "classes = [\"pollo\", \"carne\"]\n",
    "\n",
    "# store path and search for .jpg images in path\n",
    "path = Path(\"C:/Users/botnet/Downloads/Homework/CarneDataset/train/CLASS_02\")\n",
    "images = [img.name for img in path.glob(\"*.png\")]\n",
    "\n",
    "# set up empty dict for labels and initial position\n",
    "labels = {}\n",
    "position = 0"
   ]
  },
  {
   "cell_type": "code",
   "execution_count": null,
   "metadata": {
    "pycharm": {
     "name": "#%%\n"
    }
   },
   "outputs": [],
   "source": [
    "import numpy as np\n",
    "import pandas as pd\n",
    "import matplotlib.pyplot as plt\n",
    "import matplotlib.image as mpimg\n",
    "import seaborn as sns\n",
    "%matplotlib inline\n",
    "import glob\n",
    "from skimage.io import imread\n",
    "import mxnet as mx\n",
    "import gluoncv as gcv\n",
    "import matplotlib.pyplot as plt\n",
    "import cv2(imread)\n",
    "import os"
   ]
  },
  {
   "cell_type": "code",
   "execution_count": null,
   "metadata": {
    "pycharm": {
     "name": "#%%\n"
    }
   },
   "outputs": [],
   "source": [
    "from tensorflow.keras import layers\n",
    "from tensorflow.keras import Model\n",
    "from tensorflow.keras.preprocessing.image import ImageDataGenerator\n",
    "from tensorflow.keras.optimizers import RMSprop"
   ]
  },
  {
   "cell_type": "code",
   "execution_count": null,
   "metadata": {
    "pycharm": {
     "name": "#%%\n"
    }
   },
   "outputs": [],
   "source": [
    "train_datagen = ImageDataGenerator(rescale=1./255)\n",
    "val_datagen = ImageDataGenerator(rescale=1./255)\n",
    "\n",
    "# Flow training images in batches of 20 using train_datagen generator\n",
    "train_generator = train_datagen.flow_from_directory(\n",
    "        train_dir=('C:/Users/botnet/Downloads/Homework/CarneDataset/train/CLASS_02'),               # This is the source directory for training images\n",
    "        target_size=(150, 150),  # All images will be resized to 150x150\n",
    "        shuffle=True,\n",
    "        class_mode='binary')\n",
    "\n",
    "# Flow validation images in batches of 20 using val_datagen generator\n",
    "validation_generator = val_datagen.flow_from_directory(\n",
    "        validation_dir,\n",
    "        target_size=(150, 150),\n",
    "        shuffle=True,\n",
    "        class_mode='binary' )"
   ]
  },
  {
   "cell_type": "code",
   "execution_count": null,
   "metadata": {
    "pycharm": {
     "name": "#%%\n"
    }
   },
   "outputs": [],
   "source": [
    "import os\n",
    "print(os.listdir(\"C:/Users/botnet/Downloads/Homework/CarneDataset/train/CLASS_02\"))\n",
    "print(os.listdir(\"C:/Users/botnet/Downloads/Homework/CarneDataset/train/CLASS_03\"))\n",
    "print(os.listdir(\"C:/Users/botnet/Downloads/Homework/CarneDataset/train/CLASS_04\"))\n",
    "print(os.listdir(\"C:/Users/botnet/Downloads/Homework/CarneDataset/train/CLASS_05\"))\n",
    "print(os.listdir(\"C:/Users/botnet/Downloads/Homework/CarneDataset/train/CLASS_06\"))\n",
    "print(os.listdir(\"C:/Users/botnet/Downloads/Homework/CarneDataset/train/CLASS_07\"))\n",
    "print(os.listdir(\"C:/Users/botnet/Downloads/Homework/CarneDataset/train/CLASS_08\"))\n",
    "img_input = layers.Input(shape=(150, 150, 3))\n",
    "\n",
    "# First convolution extracts 16 filters that are 3x3\n",
    "# Convolution is followed by max-pooling layer with a 2x2 window\n",
    "x = layers.Conv2D(16, 3, activation='relu')(img_input)\n",
    "x = layers.MaxPooling2D(2)(x)\n",
    "\n",
    "# Second convolution extracts 32 filters that are 3x3\n",
    "# Convolution is followed by max-pooling layer with a 2x2 window\n",
    "x = layers.Conv2D(32, 3, activation='relu')(x)\n",
    "x = layers.MaxPooling2D(2)(x)\n",
    "\n",
    "# Third convolution extracts 64 filters that are 3x3\n",
    "# Convolution is followed by max-pooling layer with a 2x2 window\n",
    "x = layers.Conv2D(64, 3, activation='relu')(x)\n",
    "x = layers.MaxPooling2D(2)(x)\n",
    "\n",
    "# Flatten feature map to a 1-dim tensor so we can add fully connected layers\n",
    "x = layers.Flatten()(x)\n",
    "\n",
    "# Create a fully connected layer with ReLU activation and 512 hidden units\n",
    "x = layers.Dense(512, activation='relu')(x)\n",
    "\n",
    "# Add a dropout rate of 0.5\n",
    "x = layers.Dropout(0.5)(x)\n",
    "\n",
    "# Create output layer with a single node and sigmoid activation\n",
    "output = layers.Dense(1, activation='sigmoid')(x)\n",
    "\n",
    "# Create model:\n",
    "# input = input feature map\n",
    "# output = input feature map + stacked convolution/maxpooling layers + fully\n",
    "# connected layer + sigmoid output layer\n",
    "model = Model(img_input, output)\n",
    "plt.imshow(image)"
   ]
  },
  {
   "cell_type": "code",
   "execution_count": null,
   "metadata": {
    "pycharm": {
     "name": "#%%\n"
    }
   },
   "outputs": [],
   "source": [
    "acc = history.history['acc']\n",
    "val_acc = history.history['val_acc']\n",
    "\n",
    "# Retrieve a list of list results on training and validation data\n",
    "# sets for each training epoch\n",
    "loss = history.history['loss']\n",
    "val_loss = history.history['val_loss']\n",
    "\n",
    "# Get number of epochs\n",
    "epochs = range(len(acc))\n",
    "\n",
    "# Plot training and validation accuracy per epoch\n",
    "plt.plot(epochs, acc, label='training accuracy')\n",
    "plt.plot(epochs, val_acc, label='validation accuracy')\n",
    "plt.title('Training and validation accuracy')\n",
    "plt.legend()\n",
    "\n",
    "# Plot training and validation loss per epoch\n",
    "plt.figure()\n",
    "plt.plot(epochs, loss, label='training loss')\n",
    "plt.plot(epochs, val_loss, label='validation loss')\n",
    "plt.title('Training and validation loss')\n",
    "plt.legend()\n",
    "plt.imshow(image)"
   ]
  },
  {
   "cell_type": "code",
   "execution_count": null,
   "metadata": {
    "pycharm": {
     "name": "#%%\n"
    }
   },
   "outputs": [],
   "source": [
    "import numpy as np\n",
    "import matplotlib.pyplot as plt\n",
    "from skimage.data import Carneroja.png\n",
    "from skimage.filters import threshold_otsu\n",
    "from skimage.segmentation import clear_border\n",
    "from skimage.morphology import label, closing, square\n",
    "from skimage.measure import regionprops\n",
    "from skimage.color import lab2rgb\n",
    "%matplotlib inline\n",
    "def show(img, cmap=None):\n",
    "    cmap = cmap or plt.cm.gray\n",
    "    fig, ax = plt.subplots(1, 1, figsize=(8, 6))\n",
    "    ax.imshow(img, cmap=cmap)\n",
    "    ax.set_axis_off()\n",
    "    plt.show()\n",
    "img = Carneroja()\n",
    "show(img)\n",
    "threshold_otsu(img)\n",
    "107\n",
    "show(img > 107)\n",
    "from ipywidgets import widgets\n",
    "\n",
    "@widgets.interact(t=(50, 240))\n",
    "def threshold(t):\n",
    "    img_bin = clear_border(closing(img > 120, square(5)))\n",
    "show(img_bin)\n",
    "show(img > t)\n",
    "\n",
    "labels = label(img_bin)\n",
    "show(labels, cmap=plt.cm.rainbow)\n",
    "regions = regionprops(labels)\n",
    "boxes = np.array([label['BoundingBox']\n",
    "                  for label in regions\n",
    "                  if label['Area'] > 100])\n",
    "print(f\"There are {len(boxes)} Carneroja.\")\n",
    "plt.imshow(image)"
   ]
  },
  {
   "cell_type": "code",
   "execution_count": null,
   "metadata": {
    "pycharm": {
     "name": "#%%\n"
    }
   },
   "outputs": [],
   "source": [
    "import os\n",
    "print(os.listdir(\"C:/Users/botnet/Downloads/Homework/CarneDataset/\"))\n",
    "import cv2\n",
    "import re\n",
    "import random\n",
    "import numpy as np\n",
    "import pandas as pd\n",
    "from keras.preprocessing.image import ImageDataGenerator\n",
    "from keras.preprocessing.image import img_to_array, load_img\n",
    "from keras import layers, models, optimizers\n",
    "from keras import backend as K\n",
    "from sklearn.model_selection import train_test_split\n",
    "img_width = 150\n",
    "img_height = 150\n",
    "TRAIN_DIR = 'C:/Users/botnet/Downloads/Homework/CarneDataset/train/CLASS_01, CLASS_02,  CLASS_03,  CLASS_04,  CLASS_05,  CLASS_06,  CLASS_07,  CLASS_08'\n",
    "TEST_DIR = 'C:/Users/botnet/Downloads/Homework/CarneDataset/test/CLASS_01, CLASS_02,  CLASS_03,  CLASS_04,  CLASS_05,  CLASS_06,  CLASS_07,  CLASS_08'\n",
    "#\"C:\\Users\\botnet\\Downloads\\Homework\\CarneDataset\\test\\CLASS_01\"\n",
    "train_images_carne_pollo = [TRAIN_DIR+i for i in os.listdir(TRAIN_DIR)] # use this for full dataset\n",
    "test_images_carne_pollo = [TEST_DIR+i for i in os.listdir(TEST_DIR)]\n",
    "def atoi(text):\n",
    "    return int(text) if text.isdigit() else text\n",
    "\n",
    "def natural_keys(text):\n",
    "    return [ atoi(c) for c in re.split('(\\d+)', text) ]\n",
    "train_images_carne_pollo.sort(key=natural_keys)\n",
    "train_images_carne_pollo = train_images_carne_pollo[0:13000] + train_images_carne_pollo[13500:23800] \n",
    "\n",
    "test_images_carne_pollo.sort(key=natural_keys)\n",
    "def prepare_data(list_of_images):\n",
    "    \"\"\"\n",
    "    Returns two arrays: \n",
    "        x is an array of resized images\n",
    "        y is an array of labels\n",
    "    \"\"\"\n",
    "    x = [] # images as arrays\n",
    "    y = [] # labels\n",
    "    \n",
    "    for image in list_of_images:\n",
    "        x.append(cv2.resize(cv2.imread(image), (img_width,img_height), interpolation=cv2.INTER_CUBIC))\n",
    "    \n",
    "    for i in list_of_images:\n",
    "        if 'carne' in i:\n",
    "            y.append(1)\n",
    "        elif 'pollo' in i:\n",
    "            y.append(0)\n",
    "        #else:\n",
    "            #print('neither cat nor dog name present in images')\n",
    "            \n",
    "    return x, y\n",
    "\n",
    "X, Y = prepare_data(train_images_carne_pollo)\n",
    "print(K.image_data_format())\n",
    "# First split the data in two sets, 80% for training, 20% for Val/Test)\n",
    "X_train, X_val, Y_train, Y_val = train_test_split(X,Y, test_size=0.2, random_state=1)\n",
    "\n",
    "nb_train_samples = len(X_train)\n",
    "nb_validation_samples = len(X_val)\n",
    "batch_size = 16\n",
    "plt.imshow(image)"
   ]
  },
  {
   "cell_type": "code",
   "execution_count": null,
   "metadata": {
    "pycharm": {
     "name": "#%%\n"
    }
   },
   "outputs": [],
   "source": [
    "import os\n",
    "print(os.listdir(\"C:/Users/botnet/Downloads/Homework/CarneDataset/test\"))"
   ]
  },
  {
   "cell_type": "code",
   "execution_count": null,
   "metadata": {
    "pycharm": {
     "name": "#%%\n"
    }
   },
   "outputs": [],
   "source": [
    "import os\n",
    "\n",
    "train_dir_content = os.listdir(\"C:/Users/botnet/Downloads/Homework/CarneDataset/train/CLASS_02\")\n",
    "\n",
    "print(\"Number of Classes :\", len(train_dir_content))\n",
    "print(train_dir_content)"
   ]
  },
  {
   "cell_type": "code",
   "execution_count": null,
   "metadata": {
    "pycharm": {
     "name": "#%%\n"
    }
   },
   "outputs": [],
   "source": [
    "import os\n",
    "\n",
    "train_dir_content = os.listdir(\"C:/Users/botnet/Downloads/Homework/CarneDataset/train/CLASS_02\")\n",
    "\n",
    "print(\"Number of Classes :\", len(train_dir_content))\n",
    "\n",
    "current_class_name = train_dir_content[0]\n",
    "class_dir = os.path.join(\"C:/Users/botnet/Downloads/Homework/CarneDataset/train/CLASS_02\", current_class_name)\n",
    "images_in_class = os.listdir(class_dir)\n",
    "\n",
    "print(\"Number of Samples in Class Named\", current_class_name, \":\" , len(images_in_class))"
   ]
  },
  {
   "cell_type": "code",
   "execution_count": null,
   "metadata": {
    "pycharm": {
     "name": "#%%\n"
    }
   },
   "outputs": [],
   "source": [
    "import numpy\n",
    "import keras\n",
    "import matplotlib.pyplot\n",
    "import os\n",
    "\n",
    "train_dir_content = os.listdir(\"C:/Users/botnet/Downloads/Homework/CarneDataset/train/CLASS_02\")\n",
    "\n",
    "print(\"Number of Classes :\", len(train_dir_content))\n",
    "\n",
    "current_class_name = train_dir_content[0]\n",
    "class_dir = os.path.join(\"C:/Users/botnet/Downloads/Homework/CarneDataset/train/CLASS_02\", current_class_name)\n",
    "images_in_class = os.listdir(class_dir)\n",
    "\n",
    "print(\"Number of Samples in Class Named\", current_class_name, \":\" , len(images_in_class))\n",
    "\n",
    "print(\"Number of Samples in Class Named\", current_class_name, \":\" , len(images_in_class))\n",
    "\n",
    "image_file_dir = os.path.join(class_dir, images_in_class[0])\n",
    "\n",
    "print(\"Image Directory:\", image_file_dir)\n",
    "\n",
    "img = keras.preprocessing.image.load_img(image_file_dir)\n",
    "img_array = keras.preprocessing.image.img_to_array(img)\n",
    "\n",
    "print(img_array.shape, img_array.dtype)\n",
    "\n",
    "img_array = img_array/255.0\n",
    "\n",
    "matplotlib.pyplot.imshow(img_array)\n",
    "matplotlib.pyplot.show()"
   ]
  },
  {
   "cell_type": "code",
   "execution_count": null,
   "metadata": {
    "pycharm": {
     "name": "#%%\n"
    }
   },
   "outputs": [],
   "source": [
    "import numpy\n",
    "import keras\n",
    "import os\n",
    "import tensorflow as tf\n",
    "from tensorflow.python import tf2\n",
    "from keras import distribute\n",
    "\n",
    "\n",
    "train_dir_content = os.listdir(\"C:/Users/botnet/Downloads/Homework/CarneDataset/Test\")\n",
    "\n",
    "print(\"Number of Classes :\", len(train_dir_content))\n",
    "\n",
    "dataset_array = []\n",
    "\n",
    "for current_class_name in train_dir_content:\n",
    "\n",
    "    class_dir = os.path.join(\"C:/Users/botnet/Downloads/Homework/CarneDataset/Test\", current_class_name)\n",
    "    images_in_class = os.listdir(class_dir)\n",
    "\n",
    "    print(\"Number of Samples in Class Named\", current_class_name, \":\", len(images_in_class))\n",
    "\n",
    "    for image_file in images_in_class:\n",
    "        if image_file.endswith(\".png\"):\n",
    "            image_file_dir = os.path.join(class_dir, image_file)\n",
    "\n",
    "            img = keras.preprocessing.image.load_img(image_file_dir)\n",
    "            img_array = keras.preprocessing.image.img_to_array(img)\n",
    "\n",
    "            img_array = img_array / 255.0\n",
    "            dataset_array.append(img_array)\n",
    "\n",
    "dataset_array = numpy.array(dataset_array)\n",
    "print(\"Training Data Array Shape :\", dataset_array.shape)"
   ]
  },
  {
   "cell_type": "code",
   "execution_count": 25,
   "metadata": {
    "pycharm": {
     "name": "#%%\n"
    },
    "scrolled": true
   },
   "outputs": [
    {
     "data": {
      "image/png": "[encoded data removed]",
      "text/plain": [
       "<Figure size 432x288 with 2 Axes>"
      ]
     },
     "metadata": {
      "needs_background": "light"
     },
     "output_type": "display_data"
    }
   ],
   "source": [
    "import pandas as pd\n",
    "import seaborn as sn\n",
    "import matplotlib.pyplot as plt\n",
    "\n",
    "data = {'y_Real':    [1,0,0,1,0,1,0,0,1,1,0,1,0,1,0,0,0,1,0,0,0,1,1,0,1,1,0,1,1,0,1,0,1,1,0,0,1,0,1,0,1,1,0,1,0,1,0,0,0,1,0,1,0,0,0,1,0,0,0,1,0,0,1,0,1,0,1,1,0,0,1,0,1,0,0,1,0,1,0,1,0,1,0,0,1,0,1,0,0,0,0,0,1,0,0,0,1,0,0,0,1,0,0,1,0,1,0,1,0,0,0,1,0,0,0,1,0,0,0,1,0,0,0,1,0,1,0,0,1,1,1,1,1,0,1,1,1,1,0,1,1,1,1,0,0,1,0,1,0,0,1,0,1,0,1,0,0,0,0,1,0,1,0,0,1,0,0,0,1,0,0,0,0,0,1,1,1,0,0,0,0,0,0,1,0,0,1,0,1,0,1,0,0,0,1,0,0,1,0,0,0,1,0,1,0,1,0,0,0,1,0,1,0,1,0,1,0,0,0,1,0,1,0,1,1,0,1,0,1,0,1,0,1,0,0,0,0,1,0,1,0,0,0,1,0,0,1,0,1,1,1,1,0,0,1,0,1,0,0,1,0,1,0,1,0,0,0,1,0,0,0,1,1,0,0,0,0,1,0,0,1,0,0,0,1,0,1,0,1,1,1,1,0,1,0,1,1,0,0,1,0,1,0,0,1,0,1,0,1,0,0],\n",
    "        'y_Predecido': [1,0,0,1,0,1,1,0,1,0,0,1,0,1,0,1,0,0,0,1,0,0,1,0,1,1,1,1,0,0,1,0,1,1,0,1,0,1,0,1,0,1,0,1,0,0,0,1,0,0,1,0,1,0,0,1,0,1,0,1,0,0,0,1,0,0,0,1,0,0,0,1,0,0,1,1,0,0,1,0,0,0,1,0,0,0,1,0,0,1,0,1,0,1,1,0,0,1,0,1,0,0,1,0,1,0,1,0,0,1,0,1,0,0,1,1,0,1,0,1,0,0,0,1,0,0,0,1,1,1,1,1,0,1,0,1,1,0,0,1,0,1,0,0,1,0,1,0,1,0,0,1,0,0,1,0,0,1,0,1,0,0,0,1,0,1,1,1,0,0,1,0,1,0,0,1,0,1,0,0,0,0,0,1,0,0,0,1,0,0,0,1,0,0,0,1,0,1,0,0,1,1,0,1,0,1,0,0,0,1,0,0,0,1,0,0,0,1,0,0,0,1,0,1,0,0,0,1,0,0,1,0,0,1,0,0,0,1,0,1,0,1,0,0,1,0,1,0,1,1,1,1,0,1,0,0,1,0,1,0,1,0,1,0,1,0,0,0,0,0,1,1,0,1,0,0,1,0,1,0,0,1,0,1,0,1,0,1,1,1,1,0,0,1,0,1,0,0,1,0,1,0,1,0,0,0,1,0,0,1,0]\n",
    "        }\n",
    "\n",
    "df = pd.DataFrame(data, columns=['y_Real','y_Predecido'])\n",
    "confusion_matrix = pd.crosstab(df['y_Real'], df['y_Predecido'], rownames=['Real'], colnames=['Predecido'], margins = True)\n",
    "\n",
    "sn.heatmap(confusion_matrix, annot=True)\n",
    "plt.show()"
   ]
  },
  {
   "cell_type": "code",
   "execution_count": null,
   "metadata": {
    "pycharm": {
     "name": "#%%\n",
     "is_executing": true
    }
   },
   "outputs": [],
   "source": [
    "# Data accuracy \n",
    "import matplotlib.pyplot as plt\n",
    "#import chart_studio.plotly as py\n",
    "import plotly.graph_objects as go\n",
    "import plotly.offline as pyoff\n",
    "import pandas as pd\n",
    "\n",
    "# importing the dats set\n",
    "data = pd.read_csv('C:/Users/botnet/Downloads/Homework/CarneDataset/test.csv')\n",
    "\n",
    "# counting the total output data from purchased column\n",
    "target_balance = data['y_Real'].value_counts().reset_index()\n",
    "\n",
    "# dividing the output classes into two sections\n",
    "target_class = go.Bar(\n",
    "    name = 'Target Balance',\n",
    "    x = ['y_Predecido', 'y_Real'],\n",
    "    y = target_balance['y_Real']\n",
    ")\n",
    "\n",
    "# ploting the output classes\n",
    "fig = go.Figure(target_class)\n",
    "pyoff.iplot(fig)"
   ]
  },
  {
   "cell_type": "code",
   "execution_count": null,
   "metadata": {},
   "outputs": [],
   "source": []
  }
 ],
 "metadata": {
  "kernelspec": {
   "display_name": "Python 3 (ipykernel)",
   "language": "python",
   "name": "python3"
  },
  "language_info": {
   "codemirror_mode": {
    "name": "ipython",
    "version": 3
   },
   "file_extension": ".py",
   "mimetype": "text/x-python",
   "name": "python",
   "nbconvert_exporter": "python",
   "pygments_lexer": "ipython3",
   "version": "3.9.12"
  }
 },
 "nbformat": 4,
 "nbformat_minor": 1
}